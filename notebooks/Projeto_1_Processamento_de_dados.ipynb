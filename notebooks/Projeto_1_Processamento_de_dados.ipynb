{
  "nbformat": 4,
  "nbformat_minor": 0,
  "metadata": {
    "colab": {
      "name": "Projeto 1 - Processamento de dados.ipynb",
      "provenance": [],
      "toc_visible": true,
      "include_colab_link": true
    },
    "kernelspec": {
      "display_name": "Python 3",
      "language": "python",
      "name": "python3"
    },
    "language_info": {
      "codemirror_mode": {
        "name": "ipython",
        "version": 3
      },
      "file_extension": ".py",
      "mimetype": "text/x-python",
      "name": "python",
      "nbconvert_exporter": "python",
      "pygments_lexer": "ipython3",
      "version": "3.8.3"
    }
  },
  "cells": [
    {
      "cell_type": "markdown",
      "metadata": {
        "id": "view-in-github",
        "colab_type": "text"
      },
      "source": [
        "<a href=\"https://colab.research.google.com/github/brenoslivio/SCC0652_Computational_Visualization/blob/master/notebooks/Projeto_1_Processamento_de_dados.ipynb\" target=\"_parent\"><img src=\"https://colab.research.google.com/assets/colab-badge.svg\" alt=\"Open In Colab\"/></a>"
      ]
    },
    {
      "cell_type": "markdown",
      "metadata": {
        "id": "ZjnGg3J0TMEQ"
      },
      "source": [
        "# Projeto 1 - Processamento de dados\n",
        "\n"
      ]
    },
    {
      "cell_type": "markdown",
      "metadata": {
        "id": "oAEF8buCdv12"
      },
      "source": [
        "<br>\n"
      ]
    },
    {
      "cell_type": "markdown",
      "metadata": {
        "id": "9QjFwlQB3EkQ"
      },
      "source": [
        "**SCC0652 - Visualização Computacional (2020/2)**\n",
        "\n",
        "<br>\n",
        "\n",
        "[Projeto no GitHub](https://github.com/brenoslivio/SCC0652_Computational_Visualization)\n",
        "\n",
        "<br>\n",
        "\n",
        "**Alunos:**\n",
        "\n",
        "Afonso Henrique Piacentini Garcia, Nº USP: 9795272\n",
        "\n",
        "Breno Lívio Silva de Almeida, Nº USP: 10276675\n",
        "\n",
        "Vitor Henrique Gratiere Torres, Nº USP: 10284952"
      ]
    },
    {
      "cell_type": "markdown",
      "metadata": {
        "id": "gGf-rOJPUTR9"
      },
      "source": [
        "---"
      ]
    },
    {
      "cell_type": "markdown",
      "metadata": {
        "id": "8YcFlMMrZn7p"
      },
      "source": [
        "## Sumário\n",
        "\n",
        "\n",
        "1. [Descrição](#descricao)\n",
        "\n",
        "  1.1 [pokemon.csv](#pokemoncsv)\n",
        "\n",
        "  1.2 [pokemonKaggle.csv](#kagglecsv)\n",
        "\n",
        "  1.3 [Gerações dos Pokémons](#generations)\n",
        "\n",
        "\n",
        "2. [Desenvolvimento](#desenvolvimento)\n",
        "\n",
        "  2.1 [Gerando o Data Frame principal](#dataframe)\n",
        "\n",
        "  2.2 [Análise dos dados](#analise)\n",
        "\n",
        "  * [Outliers](#outliers)\n",
        "\n",
        "  * [Comparações entre os extremos dos stats](#extremos)\n",
        "\n",
        "  * [As melhores gerações](#bestgen)\n",
        "\n",
        "  * [Resumo descritivo](#resumo)\n"
      ]
    },
    {
      "cell_type": "markdown",
      "metadata": {
        "id": "HVnmE2tLVCC6"
      },
      "source": [
        "## Descrição <a name=\"descricao\"></a>\n",
        "\n",
        "Essa parte do projeto da disciplina consiste no processamento de um conjunto de dados, um dataset. O conjunto de dados escolhido foi o de [Pokémons](https://www.pokemon.com/br/), do vídeo-game homônimo. As criaturas, chamadas de Pokémons, são representadas no jogo em questão por um item chamado [Pokédex](https://www.pokemon.com/br/pokedex/), que contém o nome e outras estatísticas relevantes aos jogos, como pontos de vida, ataque e etc. Os dados referentes à Pokédex foram retirados do site [Pokémon Database](https://pokemondb.net/pokedex/all). Também retiramos um [dataset do site Kaggle](https://www.kaggle.com/mariotormo/complete-pokemon-dataset-updated-090420), que utiliza a licença [Creative Commons](https://br.creativecommons.org/). Ele será usado para utilizar informações relevantes como as gerações, peso e altura dos Pokémons."
      ]
    },
    {
      "cell_type": "markdown",
      "metadata": {
        "id": "enEaSEwJ2rRT"
      },
      "source": [
        "### [pokemon.csv](https://github.com/brenoslivio/SCC0652_Computational_Visualization/blob/master/notebooks/crawler/pokemon.csv) <a name=\"pokemoncsv\"></a>\n",
        "\n",
        "*   attack: stat que indica o poder de ataque fisico base do pokémon;\n",
        "*   cod: O número do pokémon na Pokédex;\n",
        "*   defense: stat que indica a defesa física base do pokémon;\n",
        "*   hp: stat que indica a vida base do pokémon;\n",
        "*   img: link para a imagem do pokémon;\n",
        "*   name: O nome do pokémon;\n",
        "*   spatk: stat que indica o poder de ataque especial do pokémon;\n",
        "*   spdef: stat que indica o poder de defesa especial do pokémon;\n",
        "*   speed: stat que indica a velocidade base do pokémon;\n",
        "*   form: discriminante de mega evoluções e outras formas;\n",
        "*   total: soma total dos stats do pokémon;\n",
        "*   type1: tipo do pokémon;\n",
        "*   type2: segundo tipo do pokémon, caso possua."
      ]
    },
    {
      "cell_type": "markdown",
      "metadata": {
        "id": "QyHBh_l8Gan9"
      },
      "source": [
        "### [pokemonKaggle.csv](https://github.com/brenoslivio/SCC0652_Computational_Visualization/blob/master/notebooks/kaggle/pokedexKaggle.csv) <a name=\"kagglecsv\"></a>\n",
        "\n",
        "Dataset retirado do Kaggle, do qual retiraram-se algumas outras informações dos pokémons, as quais foram unificadas posteriormente com o dataset obtido através do crawler. As colunas aproveitadas, neste caso, foram:\n",
        "\n",
        "* name: Nome do pokémon;\n",
        "* generation: a qual geração o pokémon em questão pertence;\n",
        "*   status: refere-se a raridade do pokémon, variando de normal até mítico;\n",
        "*   species: apelido dado para cada pokémon baseado em algum de seus atributos;\n",
        "*   height_m: altura do pokémon em metros;\n",
        "*   weight_kg: peso do pokémon em kilogramas."
      ]
    },
    {
      "cell_type": "markdown",
      "metadata": {
        "id": "fIOxU-dtsJRO"
      },
      "source": [
        "### Gerações dos Pokémons <a name=\"generations\"></a>\n",
        "\n",
        "A série de jogos Pokémon se iniciou em 1996, com os jogos *Pokemon Red* e *Pokemon Green*. Com o passar do tempo e lançamento de novos jogos, novas criaturas e mecânicas foram sendo integradas ao jogo, e com isso criou-se o sistema de gerações para facilitar a organização dos pokemons. Essa divisão será importante para a forma que iremos agrupar os dados no decorrer do projeto.\n",
        "\n",
        "1ª geração: Bulbasaur 001 - Mew 151\n",
        "\n",
        "2ª geração: Chikorita 152 - Celebi 251\n",
        "\n",
        "3ª geração: Treecko 252 - Deoxys 386\n",
        "\n",
        "4ª geração: Turtwig 387 - Arceus 493\n",
        "\n",
        "5ª geração: Victini 494 - Genesect 649\n",
        "\n",
        "6ª geração: Chespin 650 - Volcanion 721\n",
        "\n",
        "7ª geração: Rowlet 722 - Melmetal 809\n",
        "\n",
        "8ª geração: Grookey 810 - Zarude 893*\n",
        "\n",
        "- Observação: A Pokédex da 8ª geração ainda está em desenvolvimento pela  *Pokémon Company*. Nos limitaremos ao banco de dados disponível até o presente momento: 20\\09\\2020"
      ]
    },
    {
      "cell_type": "markdown",
      "metadata": {
        "id": "G6VtIp8nU8k2"
      },
      "source": [
        "## Desenvolvimento <a name=\"desenvolvimento\"></a>\n",
        "\n",
        "Aqui trabalhamos com a geração do Data Frame principal, além de analisar os dados coletados."
      ]
    },
    {
      "cell_type": "markdown",
      "metadata": {
        "id": "GtKMu9dM4AWK"
      },
      "source": [
        "### Gerando o Data Frame principal <a name=\"dataframe\"></a>\n",
        "\n",
        "Vamos trabalhar com os datasets coletados para gerar um único Data Frame do Pandas."
      ]
    },
    {
      "cell_type": "markdown",
      "metadata": {
        "id": "GOrAkqs5HJXW"
      },
      "source": [
        "Leitura do CSV gerado do Pokémon Database como data frame do Pandas"
      ]
    },
    {
      "cell_type": "code",
      "metadata": {
        "ExecuteTime": {
          "end_time": "2020-10-01T03:48:18.406252Z",
          "start_time": "2020-10-01T03:48:17.978730Z"
        },
        "id": "v80yq8iQS_BP",
        "outputId": "b015b02b-2d48-4b54-a733-931ca19846ac",
        "colab": {
          "base_uri": "https://localhost:8080/",
          "height": 293
        }
      },
      "source": [
        "import numpy as np\n",
        "import pandas as pd\n",
        "\n",
        "from IPython.display import Image\n",
        "from IPython.core.display import HTML\n",
        "\n",
        "dfPokemonDB = pd.read_csv(\n",
        "    \"https://raw.githubusercontent.com/brenoslivio/SCC0652_Computational_Visualization/master/notebooks/crawler/pokemon.csv\",\n",
        "    dtype={'attack': np.int32,\n",
        "           'cod': str,\n",
        "           'defense': np.int32,\n",
        "           'hp': np.int32,\n",
        "           'spatk': np.int32,\n",
        "           'spdef': np.int32,\n",
        "           'speed': np.int32,\n",
        "           'total': np.int32},\n",
        "    keep_default_na=False)\n",
        "\n",
        "dfPokemonDB['img'].replace('', np.nan, inplace=True)\n",
        "\n",
        "dfPokemonDB.dropna(subset=['img'], inplace=True)\n",
        "\n",
        "dfPokemonDB.sample(5)"
      ],
      "execution_count": 21,
      "outputs": [
        {
          "output_type": "execute_result",
          "data": {
            "text/html": [
              "<div>\n",
              "<style scoped>\n",
              "    .dataframe tbody tr th:only-of-type {\n",
              "        vertical-align: middle;\n",
              "    }\n",
              "\n",
              "    .dataframe tbody tr th {\n",
              "        vertical-align: top;\n",
              "    }\n",
              "\n",
              "    .dataframe thead th {\n",
              "        text-align: right;\n",
              "    }\n",
              "</style>\n",
              "<table border=\"1\" class=\"dataframe\">\n",
              "  <thead>\n",
              "    <tr style=\"text-align: right;\">\n",
              "      <th></th>\n",
              "      <th>attack</th>\n",
              "      <th>cod</th>\n",
              "      <th>defense</th>\n",
              "      <th>form</th>\n",
              "      <th>hp</th>\n",
              "      <th>img</th>\n",
              "      <th>name</th>\n",
              "      <th>spatk</th>\n",
              "      <th>spdef</th>\n",
              "      <th>speed</th>\n",
              "      <th>total</th>\n",
              "      <th>type1</th>\n",
              "      <th>type2</th>\n",
              "    </tr>\n",
              "  </thead>\n",
              "  <tbody>\n",
              "    <tr>\n",
              "      <th>198</th>\n",
              "      <td>64</td>\n",
              "      <td>156</td>\n",
              "      <td>58</td>\n",
              "      <td></td>\n",
              "      <td>58</td>\n",
              "      <td>https://img.pokemondb.net/sprites/home/normal/...</td>\n",
              "      <td>Quilava</td>\n",
              "      <td>80</td>\n",
              "      <td>65</td>\n",
              "      <td>80</td>\n",
              "      <td>405</td>\n",
              "      <td>Fire</td>\n",
              "      <td></td>\n",
              "    </tr>\n",
              "    <tr>\n",
              "      <th>731</th>\n",
              "      <td>65</td>\n",
              "      <td>630</td>\n",
              "      <td>105</td>\n",
              "      <td></td>\n",
              "      <td>110</td>\n",
              "      <td>https://img.pokemondb.net/sprites/home/normal/...</td>\n",
              "      <td>Mandibuzz</td>\n",
              "      <td>55</td>\n",
              "      <td>95</td>\n",
              "      <td>80</td>\n",
              "      <td>510</td>\n",
              "      <td>Dark</td>\n",
              "      <td>Flying</td>\n",
              "    </tr>\n",
              "    <tr>\n",
              "      <th>962</th>\n",
              "      <td>50</td>\n",
              "      <td>830</td>\n",
              "      <td>90</td>\n",
              "      <td></td>\n",
              "      <td>60</td>\n",
              "      <td>https://img.pokemondb.net/sprites/home/normal/...</td>\n",
              "      <td>Eldegoss</td>\n",
              "      <td>80</td>\n",
              "      <td>120</td>\n",
              "      <td>60</td>\n",
              "      <td>460</td>\n",
              "      <td>Grass</td>\n",
              "      <td></td>\n",
              "    </tr>\n",
              "    <tr>\n",
              "      <th>184</th>\n",
              "      <td>85</td>\n",
              "      <td>144</td>\n",
              "      <td>100</td>\n",
              "      <td></td>\n",
              "      <td>90</td>\n",
              "      <td>https://img.pokemondb.net/sprites/home/normal/...</td>\n",
              "      <td>Articuno</td>\n",
              "      <td>95</td>\n",
              "      <td>125</td>\n",
              "      <td>85</td>\n",
              "      <td>580</td>\n",
              "      <td>Ice</td>\n",
              "      <td>Flying</td>\n",
              "    </tr>\n",
              "    <tr>\n",
              "      <th>59</th>\n",
              "      <td>70</td>\n",
              "      <td>046</td>\n",
              "      <td>55</td>\n",
              "      <td></td>\n",
              "      <td>35</td>\n",
              "      <td>https://img.pokemondb.net/sprites/home/normal/...</td>\n",
              "      <td>Paras</td>\n",
              "      <td>45</td>\n",
              "      <td>55</td>\n",
              "      <td>25</td>\n",
              "      <td>285</td>\n",
              "      <td>Bug</td>\n",
              "      <td>Grass</td>\n",
              "    </tr>\n",
              "  </tbody>\n",
              "</table>\n",
              "</div>"
            ],
            "text/plain": [
              "     attack  cod  defense form   hp  ... spdef speed  total  type1   type2\n",
              "198      64  156       58        58  ...    65    80    405   Fire        \n",
              "731      65  630      105       110  ...    95    80    510   Dark  Flying\n",
              "962      50  830       90        60  ...   120    60    460  Grass        \n",
              "184      85  144      100        90  ...   125    85    580    Ice  Flying\n",
              "59       70  046       55        35  ...    55    25    285    Bug   Grass\n",
              "\n",
              "[5 rows x 13 columns]"
            ]
          },
          "metadata": {
            "tags": []
          },
          "execution_count": 21
        }
      ]
    },
    {
      "cell_type": "markdown",
      "metadata": {
        "id": "14zNeZyrE0se"
      },
      "source": [
        "Leitura do CSV retirado do Kaggle como data frame do Pandas"
      ]
    },
    {
      "cell_type": "code",
      "metadata": {
        "ExecuteTime": {
          "end_time": "2020-10-01T03:48:18.694242Z",
          "start_time": "2020-10-01T03:48:18.411106Z"
        },
        "id": "0P_cYGm6E02u",
        "outputId": "aa259aad-391a-4403-f4ed-066a6a870df6",
        "colab": {
          "base_uri": "https://localhost:8080/",
          "height": 206
        }
      },
      "source": [
        "dfPokemonKaggle = pd.read_csv(\n",
        "    \"https://raw.githubusercontent.com/brenoslivio/SCC0652_Computatio\" +\n",
        "    \"nal_Visualization/master/notebooks/kaggle/pokedexKaggle.csv\",\n",
        "    usecols=['name', 'generation', 'status',\n",
        "             'species', 'height_m', 'weight_kg'],\n",
        "    dtype={'name': str,\n",
        "           'generation': np.int32,\n",
        "           'status': str,\n",
        "           'species': str,\n",
        "           'height_m': np.float64,\n",
        "           'weight_kg': np.float64})\n",
        "\n",
        "dfPokemonKaggle.sample(5)"
      ],
      "execution_count": 22,
      "outputs": [
        {
          "output_type": "execute_result",
          "data": {
            "text/html": [
              "<div>\n",
              "<style scoped>\n",
              "    .dataframe tbody tr th:only-of-type {\n",
              "        vertical-align: middle;\n",
              "    }\n",
              "\n",
              "    .dataframe tbody tr th {\n",
              "        vertical-align: top;\n",
              "    }\n",
              "\n",
              "    .dataframe thead th {\n",
              "        text-align: right;\n",
              "    }\n",
              "</style>\n",
              "<table border=\"1\" class=\"dataframe\">\n",
              "  <thead>\n",
              "    <tr style=\"text-align: right;\">\n",
              "      <th></th>\n",
              "      <th>name</th>\n",
              "      <th>generation</th>\n",
              "      <th>status</th>\n",
              "      <th>species</th>\n",
              "      <th>height_m</th>\n",
              "      <th>weight_kg</th>\n",
              "    </tr>\n",
              "  </thead>\n",
              "  <tbody>\n",
              "    <tr>\n",
              "      <th>616</th>\n",
              "      <td>Boldore</td>\n",
              "      <td>5</td>\n",
              "      <td>Normal</td>\n",
              "      <td>Ore Pokémon</td>\n",
              "      <td>0.9</td>\n",
              "      <td>102.0</td>\n",
              "    </tr>\n",
              "    <tr>\n",
              "      <th>822</th>\n",
              "      <td>Pumpkaboo Super Size</td>\n",
              "      <td>6</td>\n",
              "      <td>Normal</td>\n",
              "      <td>Pumpkin Pokémon</td>\n",
              "      <td>0.8</td>\n",
              "      <td>15.0</td>\n",
              "    </tr>\n",
              "    <tr>\n",
              "      <th>310</th>\n",
              "      <td>Mega Swampert</td>\n",
              "      <td>3</td>\n",
              "      <td>Normal</td>\n",
              "      <td>Mud Fish Pokémon</td>\n",
              "      <td>1.9</td>\n",
              "      <td>102.0</td>\n",
              "    </tr>\n",
              "    <tr>\n",
              "      <th>776</th>\n",
              "      <td>Flabébé</td>\n",
              "      <td>6</td>\n",
              "      <td>Normal</td>\n",
              "      <td>Single Bloom Pokémon</td>\n",
              "      <td>0.1</td>\n",
              "      <td>0.1</td>\n",
              "    </tr>\n",
              "    <tr>\n",
              "      <th>222</th>\n",
              "      <td>Mega Ampharos</td>\n",
              "      <td>2</td>\n",
              "      <td>Normal</td>\n",
              "      <td>Light Pokémon</td>\n",
              "      <td>1.4</td>\n",
              "      <td>61.5</td>\n",
              "    </tr>\n",
              "  </tbody>\n",
              "</table>\n",
              "</div>"
            ],
            "text/plain": [
              "                     name  generation  ... height_m weight_kg\n",
              "616               Boldore           5  ...      0.9     102.0\n",
              "822  Pumpkaboo Super Size           6  ...      0.8      15.0\n",
              "310         Mega Swampert           3  ...      1.9     102.0\n",
              "776               Flabébé           6  ...      0.1       0.1\n",
              "222         Mega Ampharos           2  ...      1.4      61.5\n",
              "\n",
              "[5 rows x 6 columns]"
            ]
          },
          "metadata": {
            "tags": []
          },
          "execution_count": 22
        }
      ]
    },
    {
      "cell_type": "markdown",
      "metadata": {
        "id": "tam_S9x3t02m"
      },
      "source": [
        "Vamos juntar os dois datasets, combinando as variáveis relevantes para análise.\n",
        "\n",
        "Para unificarmos duas tabelas precisamos guiar a junção com chaves primárias, no dataframe ```dfPokemonDB``` a chave primária é a junção dos atributos ```name``` e ```form```, enquanto no dataframe ```dfPokemonKaggle``` é o atributo ```name```."
      ]
    },
    {
      "cell_type": "code",
      "metadata": {
        "ExecuteTime": {
          "end_time": "2020-10-01T03:48:18.759203Z",
          "start_time": "2020-10-01T03:48:18.697893Z"
        },
        "id": "cPxPmRobt0_9"
      },
      "source": [
        "# No nosso dataframe criamos uma nova coluna 'tmp' que recebe uma copia\n",
        "# da coluna 'form'\n",
        "dfPokemonDB['tmp'] = dfPokemonDB.loc[:, 'form']\n",
        "\n",
        "# Nessa nova coluna todas as linhas que estiverem vazias receberao os\n",
        "# valores da coluna 'name'\n",
        "dfPokemonDB.loc[dfPokemonDB.loc[:, 'tmp'] == '',\n",
        "                'tmp'] = dfPokemonDB.loc[:, 'name']\n",
        "\n",
        "# Tratando casos de borda:\n",
        "# Pokemons com 'Form', 'Cloak', 'Mode', 'Male', 'Female', 'Size' e\n",
        "# 'Style' na sua forma devem seguir a definicao 'tmp' = 'name' + 'form'\n",
        "for exception in ['Form', 'Cloak', 'Mode', 'Male',\n",
        "                  'Female', 'Size', 'Style']:\n",
        "    dfPokemonDB.loc[dfPokemonDB.loc[:, 'form'].str.contains(exception),\n",
        "                    'tmp'] = dfPokemonDB.loc[:, 'name'] + \" \" + dfPokemonDB.loc[:, 'form']\n",
        "\n",
        "# Tratando casos de borda:\n",
        "# Pokemons com os nomes 'Hoopa', 'Eiscue', 'Zacian' e 'Zamazenta'\n",
        "# tambem devem seguir a definicao 'tmp' = 'name' + 'form'\n",
        "for exception in ['Hoopa', 'Eiscue', 'Zacian', 'Zamazenta']:\n",
        "    dfPokemonDB.loc[dfPokemonDB.loc[:, 'name'].str.contains(exception),\n",
        "                    'tmp'] = dfPokemonDB.loc[:, 'name'] + \" \" + dfPokemonDB.loc[:, 'form']\n",
        "\n",
        "# Duas excecoes precisam ser tratadas manualmente\n",
        "dfPokemonDB.loc[dfPokemonDB.loc[:, 'name'] == 'Keldeo',\n",
        "                'tmp'] = dfPokemonDB.loc[:, 'tmp'] + \"e\"\n",
        "dfPokemonDB.loc[dfPokemonDB.loc[:, 'form'] == 'Eternamax',\n",
        "                'tmp'] = dfPokemonDB.loc[:, 'name'] + \" \" + dfPokemonDB.loc[:, 'form']"
      ],
      "execution_count": 23,
      "outputs": []
    },
    {
      "cell_type": "markdown",
      "metadata": {
        "id": "OvgHpkxK4ajG"
      },
      "source": [
        "Finalmente damos o merge entre os datasets, trocando as colunas para lugares mais convenientes"
      ]
    },
    {
      "cell_type": "code",
      "metadata": {
        "ExecuteTime": {
          "end_time": "2020-10-01T03:48:18.807550Z",
          "start_time": "2020-10-01T03:48:18.763351Z"
        },
        "id": "M5rB5Svn-IvR",
        "outputId": "0539e0f4-0004-4910-cb98-3f0fdb9e6ea7",
        "colab": {
          "base_uri": "https://localhost:8080/",
          "height": 313
        }
      },
      "source": [
        "# Mudaremos tambem o nome da coluna 'name' no dataframe do Kaggle para\n",
        "# 'tmp'\n",
        "dfPokemonKaggle.rename(columns={'name': 'tmp'}, inplace=True)\n",
        "\n",
        "dfPokemon = pd.merge(dfPokemonDB, dfPokemonKaggle,\n",
        "                     on='tmp', how='outer')\n",
        "\n",
        "dfPokemon = dfPokemon.drop('tmp', axis=1)\n",
        "\n",
        "dfPokemon = dfPokemon[['cod',\n",
        "                       'name',\n",
        "                       'generation',\n",
        "                       'status',\n",
        "                       'species',\n",
        "                       'form',\n",
        "                       'type1',\n",
        "                       'type2',\n",
        "                       'height_m',\n",
        "                       'weight_kg',\n",
        "                       'total',\n",
        "                       'hp',\n",
        "                       'attack',\n",
        "                       'defense',\n",
        "                       'spatk',\n",
        "                       'spdef',\n",
        "                       'speed',\n",
        "                       'img']]\n",
        "\n",
        "dfPokemon.sample(5)"
      ],
      "execution_count": 24,
      "outputs": [
        {
          "output_type": "execute_result",
          "data": {
            "text/html": [
              "<div>\n",
              "<style scoped>\n",
              "    .dataframe tbody tr th:only-of-type {\n",
              "        vertical-align: middle;\n",
              "    }\n",
              "\n",
              "    .dataframe tbody tr th {\n",
              "        vertical-align: top;\n",
              "    }\n",
              "\n",
              "    .dataframe thead th {\n",
              "        text-align: right;\n",
              "    }\n",
              "</style>\n",
              "<table border=\"1\" class=\"dataframe\">\n",
              "  <thead>\n",
              "    <tr style=\"text-align: right;\">\n",
              "      <th></th>\n",
              "      <th>cod</th>\n",
              "      <th>name</th>\n",
              "      <th>generation</th>\n",
              "      <th>status</th>\n",
              "      <th>species</th>\n",
              "      <th>form</th>\n",
              "      <th>type1</th>\n",
              "      <th>type2</th>\n",
              "      <th>height_m</th>\n",
              "      <th>weight_kg</th>\n",
              "      <th>total</th>\n",
              "      <th>hp</th>\n",
              "      <th>attack</th>\n",
              "      <th>defense</th>\n",
              "      <th>spatk</th>\n",
              "      <th>spdef</th>\n",
              "      <th>speed</th>\n",
              "      <th>img</th>\n",
              "    </tr>\n",
              "  </thead>\n",
              "  <tbody>\n",
              "    <tr>\n",
              "      <th>174</th>\n",
              "      <td>137</td>\n",
              "      <td>Porygon</td>\n",
              "      <td>1</td>\n",
              "      <td>Normal</td>\n",
              "      <td>Virtual Pokémon</td>\n",
              "      <td></td>\n",
              "      <td>Normal</td>\n",
              "      <td></td>\n",
              "      <td>0.8</td>\n",
              "      <td>36.5</td>\n",
              "      <td>395</td>\n",
              "      <td>65</td>\n",
              "      <td>60</td>\n",
              "      <td>70</td>\n",
              "      <td>85</td>\n",
              "      <td>75</td>\n",
              "      <td>40</td>\n",
              "      <td>https://img.pokemondb.net/sprites/home/normal/...</td>\n",
              "    </tr>\n",
              "    <tr>\n",
              "      <th>332</th>\n",
              "      <td>280</td>\n",
              "      <td>Ralts</td>\n",
              "      <td>3</td>\n",
              "      <td>Normal</td>\n",
              "      <td>Feeling Pokémon</td>\n",
              "      <td></td>\n",
              "      <td>Psychic</td>\n",
              "      <td>Fairy</td>\n",
              "      <td>0.4</td>\n",
              "      <td>6.6</td>\n",
              "      <td>198</td>\n",
              "      <td>28</td>\n",
              "      <td>25</td>\n",
              "      <td>25</td>\n",
              "      <td>45</td>\n",
              "      <td>35</td>\n",
              "      <td>40</td>\n",
              "      <td>https://img.pokemondb.net/sprites/home/normal/...</td>\n",
              "    </tr>\n",
              "    <tr>\n",
              "      <th>281</th>\n",
              "      <td>235</td>\n",
              "      <td>Smeargle</td>\n",
              "      <td>2</td>\n",
              "      <td>Normal</td>\n",
              "      <td>Painter Pokémon</td>\n",
              "      <td></td>\n",
              "      <td>Normal</td>\n",
              "      <td></td>\n",
              "      <td>1.2</td>\n",
              "      <td>58.0</td>\n",
              "      <td>250</td>\n",
              "      <td>55</td>\n",
              "      <td>20</td>\n",
              "      <td>35</td>\n",
              "      <td>20</td>\n",
              "      <td>45</td>\n",
              "      <td>75</td>\n",
              "      <td>https://img.pokemondb.net/sprites/home/normal/...</td>\n",
              "    </tr>\n",
              "    <tr>\n",
              "      <th>237</th>\n",
              "      <td>196</td>\n",
              "      <td>Espeon</td>\n",
              "      <td>2</td>\n",
              "      <td>Normal</td>\n",
              "      <td>Sun Pokémon</td>\n",
              "      <td></td>\n",
              "      <td>Psychic</td>\n",
              "      <td></td>\n",
              "      <td>0.9</td>\n",
              "      <td>26.5</td>\n",
              "      <td>525</td>\n",
              "      <td>65</td>\n",
              "      <td>65</td>\n",
              "      <td>60</td>\n",
              "      <td>130</td>\n",
              "      <td>95</td>\n",
              "      <td>110</td>\n",
              "      <td>https://img.pokemondb.net/sprites/home/normal/...</td>\n",
              "    </tr>\n",
              "    <tr>\n",
              "      <th>311</th>\n",
              "      <td>261</td>\n",
              "      <td>Poochyena</td>\n",
              "      <td>3</td>\n",
              "      <td>Normal</td>\n",
              "      <td>Bite Pokémon</td>\n",
              "      <td></td>\n",
              "      <td>Dark</td>\n",
              "      <td></td>\n",
              "      <td>0.5</td>\n",
              "      <td>13.6</td>\n",
              "      <td>220</td>\n",
              "      <td>35</td>\n",
              "      <td>55</td>\n",
              "      <td>35</td>\n",
              "      <td>30</td>\n",
              "      <td>30</td>\n",
              "      <td>35</td>\n",
              "      <td>https://img.pokemondb.net/sprites/home/normal/...</td>\n",
              "    </tr>\n",
              "  </tbody>\n",
              "</table>\n",
              "</div>"
            ],
            "text/plain": [
              "     cod       name  ...  speed                                                img\n",
              "174  137    Porygon  ...     40  https://img.pokemondb.net/sprites/home/normal/...\n",
              "332  280      Ralts  ...     40  https://img.pokemondb.net/sprites/home/normal/...\n",
              "281  235   Smeargle  ...     75  https://img.pokemondb.net/sprites/home/normal/...\n",
              "237  196     Espeon  ...    110  https://img.pokemondb.net/sprites/home/normal/...\n",
              "311  261  Poochyena  ...     35  https://img.pokemondb.net/sprites/home/normal/...\n",
              "\n",
              "[5 rows x 18 columns]"
            ]
          },
          "metadata": {
            "tags": []
          },
          "execution_count": 24
        }
      ]
    },
    {
      "cell_type": "markdown",
      "metadata": {
        "id": "mCz5SuC2-aTb"
      },
      "source": [
        "Temos dois casos únicos para Pokémons que usam símbolos especiais em seus nomes. Podemos tratar esses dados."
      ]
    },
    {
      "cell_type": "code",
      "metadata": {
        "id": "T0bYekmv-apM",
        "outputId": "56cd9efd-29d5-45c7-cc8c-5c40df8ec3f4",
        "colab": {
          "base_uri": "https://localhost:8080/",
          "height": 202
        }
      },
      "source": [
        "dfPokemon.loc[dfPokemon['cod'].isin(['029', '032'])]"
      ],
      "execution_count": 25,
      "outputs": [
        {
          "output_type": "execute_result",
          "data": {
            "text/html": [
              "<div>\n",
              "<style scoped>\n",
              "    .dataframe tbody tr th:only-of-type {\n",
              "        vertical-align: middle;\n",
              "    }\n",
              "\n",
              "    .dataframe tbody tr th {\n",
              "        vertical-align: top;\n",
              "    }\n",
              "\n",
              "    .dataframe thead th {\n",
              "        text-align: right;\n",
              "    }\n",
              "</style>\n",
              "<table border=\"1\" class=\"dataframe\">\n",
              "  <thead>\n",
              "    <tr style=\"text-align: right;\">\n",
              "      <th></th>\n",
              "      <th>cod</th>\n",
              "      <th>name</th>\n",
              "      <th>generation</th>\n",
              "      <th>status</th>\n",
              "      <th>species</th>\n",
              "      <th>form</th>\n",
              "      <th>type1</th>\n",
              "      <th>type2</th>\n",
              "      <th>height_m</th>\n",
              "      <th>weight_kg</th>\n",
              "      <th>total</th>\n",
              "      <th>hp</th>\n",
              "      <th>attack</th>\n",
              "      <th>defense</th>\n",
              "      <th>spatk</th>\n",
              "      <th>spdef</th>\n",
              "      <th>speed</th>\n",
              "      <th>img</th>\n",
              "    </tr>\n",
              "  </thead>\n",
              "  <tbody>\n",
              "    <tr>\n",
              "      <th>40</th>\n",
              "      <td>029</td>\n",
              "      <td>Nidoran♀</td>\n",
              "      <td>1</td>\n",
              "      <td>Normal</td>\n",
              "      <td>Poison Pin Pokémon</td>\n",
              "      <td></td>\n",
              "      <td>Poison</td>\n",
              "      <td></td>\n",
              "      <td>0.4</td>\n",
              "      <td>7.0</td>\n",
              "      <td>275</td>\n",
              "      <td>55</td>\n",
              "      <td>47</td>\n",
              "      <td>52</td>\n",
              "      <td>40</td>\n",
              "      <td>40</td>\n",
              "      <td>41</td>\n",
              "      <td>https://img.pokemondb.net/sprites/home/normal/...</td>\n",
              "    </tr>\n",
              "    <tr>\n",
              "      <th>43</th>\n",
              "      <td>032</td>\n",
              "      <td>Nidoran♂</td>\n",
              "      <td>1</td>\n",
              "      <td>Normal</td>\n",
              "      <td>Poison Pin Pokémon</td>\n",
              "      <td></td>\n",
              "      <td>Poison</td>\n",
              "      <td></td>\n",
              "      <td>0.5</td>\n",
              "      <td>9.0</td>\n",
              "      <td>273</td>\n",
              "      <td>46</td>\n",
              "      <td>57</td>\n",
              "      <td>40</td>\n",
              "      <td>40</td>\n",
              "      <td>40</td>\n",
              "      <td>50</td>\n",
              "      <td>https://img.pokemondb.net/sprites/home/normal/...</td>\n",
              "    </tr>\n",
              "  </tbody>\n",
              "</table>\n",
              "</div>"
            ],
            "text/plain": [
              "    cod      name  ...  speed                                                img\n",
              "40  029  Nidoran♀  ...     41  https://img.pokemondb.net/sprites/home/normal/...\n",
              "43  032  Nidoran♂  ...     50  https://img.pokemondb.net/sprites/home/normal/...\n",
              "\n",
              "[2 rows x 18 columns]"
            ]
          },
          "metadata": {
            "tags": []
          },
          "execution_count": 25
        }
      ]
    },
    {
      "cell_type": "markdown",
      "metadata": {
        "id": "SlK9no9GBJs9"
      },
      "source": [
        "Substituímos os símbolos por caracteres adequados."
      ]
    },
    {
      "cell_type": "code",
      "metadata": {
        "id": "EyaeVvTvBJ_q",
        "outputId": "c3b6c8a0-81fe-44c2-84e7-ba4af4fe7cfe",
        "colab": {
          "base_uri": "https://localhost:8080/",
          "height": 202
        }
      },
      "source": [
        "dfPokemon['name'] = dfPokemon['name'].str.replace('♀', '-f') # Indicate female\n",
        "dfPokemon['name'] = dfPokemon['name'].str.replace('♂', '-m') # Indicate male\n",
        "\n",
        "dfPokemon.loc[dfPokemon['cod'].isin(['029', '032'])]"
      ],
      "execution_count": 26,
      "outputs": [
        {
          "output_type": "execute_result",
          "data": {
            "text/html": [
              "<div>\n",
              "<style scoped>\n",
              "    .dataframe tbody tr th:only-of-type {\n",
              "        vertical-align: middle;\n",
              "    }\n",
              "\n",
              "    .dataframe tbody tr th {\n",
              "        vertical-align: top;\n",
              "    }\n",
              "\n",
              "    .dataframe thead th {\n",
              "        text-align: right;\n",
              "    }\n",
              "</style>\n",
              "<table border=\"1\" class=\"dataframe\">\n",
              "  <thead>\n",
              "    <tr style=\"text-align: right;\">\n",
              "      <th></th>\n",
              "      <th>cod</th>\n",
              "      <th>name</th>\n",
              "      <th>generation</th>\n",
              "      <th>status</th>\n",
              "      <th>species</th>\n",
              "      <th>form</th>\n",
              "      <th>type1</th>\n",
              "      <th>type2</th>\n",
              "      <th>height_m</th>\n",
              "      <th>weight_kg</th>\n",
              "      <th>total</th>\n",
              "      <th>hp</th>\n",
              "      <th>attack</th>\n",
              "      <th>defense</th>\n",
              "      <th>spatk</th>\n",
              "      <th>spdef</th>\n",
              "      <th>speed</th>\n",
              "      <th>img</th>\n",
              "    </tr>\n",
              "  </thead>\n",
              "  <tbody>\n",
              "    <tr>\n",
              "      <th>40</th>\n",
              "      <td>029</td>\n",
              "      <td>Nidoran-f</td>\n",
              "      <td>1</td>\n",
              "      <td>Normal</td>\n",
              "      <td>Poison Pin Pokémon</td>\n",
              "      <td></td>\n",
              "      <td>Poison</td>\n",
              "      <td></td>\n",
              "      <td>0.4</td>\n",
              "      <td>7.0</td>\n",
              "      <td>275</td>\n",
              "      <td>55</td>\n",
              "      <td>47</td>\n",
              "      <td>52</td>\n",
              "      <td>40</td>\n",
              "      <td>40</td>\n",
              "      <td>41</td>\n",
              "      <td>https://img.pokemondb.net/sprites/home/normal/...</td>\n",
              "    </tr>\n",
              "    <tr>\n",
              "      <th>43</th>\n",
              "      <td>032</td>\n",
              "      <td>Nidoran-m</td>\n",
              "      <td>1</td>\n",
              "      <td>Normal</td>\n",
              "      <td>Poison Pin Pokémon</td>\n",
              "      <td></td>\n",
              "      <td>Poison</td>\n",
              "      <td></td>\n",
              "      <td>0.5</td>\n",
              "      <td>9.0</td>\n",
              "      <td>273</td>\n",
              "      <td>46</td>\n",
              "      <td>57</td>\n",
              "      <td>40</td>\n",
              "      <td>40</td>\n",
              "      <td>40</td>\n",
              "      <td>50</td>\n",
              "      <td>https://img.pokemondb.net/sprites/home/normal/...</td>\n",
              "    </tr>\n",
              "  </tbody>\n",
              "</table>\n",
              "</div>"
            ],
            "text/plain": [
              "    cod       name  ...  speed                                                img\n",
              "40  029  Nidoran-f  ...     41  https://img.pokemondb.net/sprites/home/normal/...\n",
              "43  032  Nidoran-m  ...     50  https://img.pokemondb.net/sprites/home/normal/...\n",
              "\n",
              "[2 rows x 18 columns]"
            ]
          },
          "metadata": {
            "tags": []
          },
          "execution_count": 26
        }
      ]
    },
    {
      "cell_type": "markdown",
      "metadata": {
        "id": "TQaVch0w4qXD"
      },
      "source": [
        "Com o tratamento dos dados, geramos o csv por meio Data Frame criado. Será usado nos próximos projetos."
      ]
    },
    {
      "cell_type": "code",
      "metadata": {
        "ExecuteTime": {
          "end_time": "2020-10-01T03:48:18.847752Z",
          "start_time": "2020-10-01T03:48:18.811365Z"
        },
        "id": "gcm8mu3W-IvU"
      },
      "source": [
        "dfPokemon.to_csv('dfPokemon.csv', index=False)"
      ],
      "execution_count": 27,
      "outputs": []
    },
    {
      "cell_type": "markdown",
      "metadata": {
        "id": "le7UkJHh7Adv"
      },
      "source": [
        "### Análise dos dados <a name=\"analise\"></a>\n",
        "\n",
        "Com o Data Frame gerado, vamos analisar os dados que temos com a ideia de entender mais acerca do nosso conjunto de dados."
      ]
    },
    {
      "cell_type": "markdown",
      "metadata": {
        "id": "BnT_vCA0C830"
      },
      "source": [
        "#### Códigos das Pokédex\n",
        "\n",
        "Como explicado anteriormente, `cod` no data frame representa o código de cada Pokémon na Pokédex. Podemos ver os casos que forem duplicados para entender o que está acontecendo.\n",
        "\n"
      ]
    },
    {
      "cell_type": "code",
      "metadata": {
        "id": "7JzyjTmtC9DD",
        "outputId": "f23c5e90-4aa6-40e8-96bc-54b77b8051d5",
        "colab": {
          "base_uri": "https://localhost:8080/",
          "height": 687
        }
      },
      "source": [
        "dfPokemon.loc[dfPokemon.duplicated(subset='cod', keep=False)]"
      ],
      "execution_count": 30,
      "outputs": [
        {
          "output_type": "execute_result",
          "data": {
            "text/html": [
              "<div>\n",
              "<style scoped>\n",
              "    .dataframe tbody tr th:only-of-type {\n",
              "        vertical-align: middle;\n",
              "    }\n",
              "\n",
              "    .dataframe tbody tr th {\n",
              "        vertical-align: top;\n",
              "    }\n",
              "\n",
              "    .dataframe thead th {\n",
              "        text-align: right;\n",
              "    }\n",
              "</style>\n",
              "<table border=\"1\" class=\"dataframe\">\n",
              "  <thead>\n",
              "    <tr style=\"text-align: right;\">\n",
              "      <th></th>\n",
              "      <th>cod</th>\n",
              "      <th>name</th>\n",
              "      <th>generation</th>\n",
              "      <th>status</th>\n",
              "      <th>species</th>\n",
              "      <th>form</th>\n",
              "      <th>type1</th>\n",
              "      <th>type2</th>\n",
              "      <th>height_m</th>\n",
              "      <th>weight_kg</th>\n",
              "      <th>total</th>\n",
              "      <th>hp</th>\n",
              "      <th>attack</th>\n",
              "      <th>defense</th>\n",
              "      <th>spatk</th>\n",
              "      <th>spdef</th>\n",
              "      <th>speed</th>\n",
              "      <th>img</th>\n",
              "    </tr>\n",
              "  </thead>\n",
              "  <tbody>\n",
              "    <tr>\n",
              "      <th>2</th>\n",
              "      <td>003</td>\n",
              "      <td>Venusaur</td>\n",
              "      <td>1</td>\n",
              "      <td>Normal</td>\n",
              "      <td>Seed Pokémon</td>\n",
              "      <td></td>\n",
              "      <td>Grass</td>\n",
              "      <td>Poison</td>\n",
              "      <td>2.0</td>\n",
              "      <td>100.0</td>\n",
              "      <td>525</td>\n",
              "      <td>80</td>\n",
              "      <td>82</td>\n",
              "      <td>83</td>\n",
              "      <td>100</td>\n",
              "      <td>100</td>\n",
              "      <td>80</td>\n",
              "      <td>https://img.pokemondb.net/sprites/home/normal/...</td>\n",
              "    </tr>\n",
              "    <tr>\n",
              "      <th>3</th>\n",
              "      <td>003</td>\n",
              "      <td>Venusaur</td>\n",
              "      <td>1</td>\n",
              "      <td>Normal</td>\n",
              "      <td>Seed Pokémon</td>\n",
              "      <td>Mega Venusaur</td>\n",
              "      <td>Grass</td>\n",
              "      <td>Poison</td>\n",
              "      <td>2.4</td>\n",
              "      <td>155.5</td>\n",
              "      <td>625</td>\n",
              "      <td>80</td>\n",
              "      <td>100</td>\n",
              "      <td>123</td>\n",
              "      <td>122</td>\n",
              "      <td>120</td>\n",
              "      <td>80</td>\n",
              "      <td>https://img.pokemondb.net/sprites/home/normal/...</td>\n",
              "    </tr>\n",
              "    <tr>\n",
              "      <th>6</th>\n",
              "      <td>006</td>\n",
              "      <td>Charizard</td>\n",
              "      <td>1</td>\n",
              "      <td>Normal</td>\n",
              "      <td>Flame Pokémon</td>\n",
              "      <td></td>\n",
              "      <td>Fire</td>\n",
              "      <td>Flying</td>\n",
              "      <td>1.7</td>\n",
              "      <td>90.5</td>\n",
              "      <td>534</td>\n",
              "      <td>78</td>\n",
              "      <td>84</td>\n",
              "      <td>78</td>\n",
              "      <td>109</td>\n",
              "      <td>85</td>\n",
              "      <td>100</td>\n",
              "      <td>https://img.pokemondb.net/sprites/home/normal/...</td>\n",
              "    </tr>\n",
              "    <tr>\n",
              "      <th>7</th>\n",
              "      <td>006</td>\n",
              "      <td>Charizard</td>\n",
              "      <td>1</td>\n",
              "      <td>Normal</td>\n",
              "      <td>Flame Pokémon</td>\n",
              "      <td>Mega Charizard X</td>\n",
              "      <td>Fire</td>\n",
              "      <td>Dragon</td>\n",
              "      <td>1.7</td>\n",
              "      <td>110.5</td>\n",
              "      <td>634</td>\n",
              "      <td>78</td>\n",
              "      <td>130</td>\n",
              "      <td>111</td>\n",
              "      <td>130</td>\n",
              "      <td>85</td>\n",
              "      <td>100</td>\n",
              "      <td>https://img.pokemondb.net/sprites/home/normal/...</td>\n",
              "    </tr>\n",
              "    <tr>\n",
              "      <th>8</th>\n",
              "      <td>006</td>\n",
              "      <td>Charizard</td>\n",
              "      <td>1</td>\n",
              "      <td>Normal</td>\n",
              "      <td>Flame Pokémon</td>\n",
              "      <td>Mega Charizard Y</td>\n",
              "      <td>Fire</td>\n",
              "      <td>Flying</td>\n",
              "      <td>1.7</td>\n",
              "      <td>100.5</td>\n",
              "      <td>634</td>\n",
              "      <td>78</td>\n",
              "      <td>104</td>\n",
              "      <td>78</td>\n",
              "      <td>159</td>\n",
              "      <td>115</td>\n",
              "      <td>100</td>\n",
              "      <td>https://img.pokemondb.net/sprites/home/normal/...</td>\n",
              "    </tr>\n",
              "    <tr>\n",
              "      <th>...</th>\n",
              "      <td>...</td>\n",
              "      <td>...</td>\n",
              "      <td>...</td>\n",
              "      <td>...</td>\n",
              "      <td>...</td>\n",
              "      <td>...</td>\n",
              "      <td>...</td>\n",
              "      <td>...</td>\n",
              "      <td>...</td>\n",
              "      <td>...</td>\n",
              "      <td>...</td>\n",
              "      <td>...</td>\n",
              "      <td>...</td>\n",
              "      <td>...</td>\n",
              "      <td>...</td>\n",
              "      <td>...</td>\n",
              "      <td>...</td>\n",
              "      <td>...</td>\n",
              "    </tr>\n",
              "    <tr>\n",
              "      <th>1023</th>\n",
              "      <td>888</td>\n",
              "      <td>Zacian</td>\n",
              "      <td>8</td>\n",
              "      <td>Legendary</td>\n",
              "      <td>Warrior Pokémon</td>\n",
              "      <td>Hero of Many Battles</td>\n",
              "      <td>Fairy</td>\n",
              "      <td></td>\n",
              "      <td>2.8</td>\n",
              "      <td>110.0</td>\n",
              "      <td>670</td>\n",
              "      <td>92</td>\n",
              "      <td>130</td>\n",
              "      <td>115</td>\n",
              "      <td>80</td>\n",
              "      <td>115</td>\n",
              "      <td>138</td>\n",
              "      <td>https://img.pokemondb.net/sprites/home/normal/...</td>\n",
              "    </tr>\n",
              "    <tr>\n",
              "      <th>1024</th>\n",
              "      <td>889</td>\n",
              "      <td>Zamazenta</td>\n",
              "      <td>8</td>\n",
              "      <td>Legendary</td>\n",
              "      <td>Warrior Pokémon</td>\n",
              "      <td>Crowned Shield</td>\n",
              "      <td>Fighting</td>\n",
              "      <td>Steel</td>\n",
              "      <td>2.9</td>\n",
              "      <td>785.0</td>\n",
              "      <td>720</td>\n",
              "      <td>92</td>\n",
              "      <td>130</td>\n",
              "      <td>145</td>\n",
              "      <td>80</td>\n",
              "      <td>145</td>\n",
              "      <td>128</td>\n",
              "      <td>https://img.pokemondb.net/sprites/home/normal/...</td>\n",
              "    </tr>\n",
              "    <tr>\n",
              "      <th>1025</th>\n",
              "      <td>889</td>\n",
              "      <td>Zamazenta</td>\n",
              "      <td>8</td>\n",
              "      <td>Legendary</td>\n",
              "      <td>Warrior Pokémon</td>\n",
              "      <td>Hero of Many Battles</td>\n",
              "      <td>Fighting</td>\n",
              "      <td></td>\n",
              "      <td>2.9</td>\n",
              "      <td>210.0</td>\n",
              "      <td>670</td>\n",
              "      <td>92</td>\n",
              "      <td>130</td>\n",
              "      <td>115</td>\n",
              "      <td>80</td>\n",
              "      <td>115</td>\n",
              "      <td>138</td>\n",
              "      <td>https://img.pokemondb.net/sprites/home/normal/...</td>\n",
              "    </tr>\n",
              "    <tr>\n",
              "      <th>1026</th>\n",
              "      <td>890</td>\n",
              "      <td>Eternatus</td>\n",
              "      <td>8</td>\n",
              "      <td>Legendary</td>\n",
              "      <td>Gigantic Pokémon</td>\n",
              "      <td></td>\n",
              "      <td>Poison</td>\n",
              "      <td>Dragon</td>\n",
              "      <td>20.0</td>\n",
              "      <td>950.0</td>\n",
              "      <td>690</td>\n",
              "      <td>140</td>\n",
              "      <td>85</td>\n",
              "      <td>95</td>\n",
              "      <td>145</td>\n",
              "      <td>95</td>\n",
              "      <td>130</td>\n",
              "      <td>https://img.pokemondb.net/sprites/home/normal/...</td>\n",
              "    </tr>\n",
              "    <tr>\n",
              "      <th>1027</th>\n",
              "      <td>890</td>\n",
              "      <td>Eternatus</td>\n",
              "      <td>8</td>\n",
              "      <td>Legendary</td>\n",
              "      <td>Gigantic Pokémon</td>\n",
              "      <td>Eternamax</td>\n",
              "      <td>Poison</td>\n",
              "      <td>Dragon</td>\n",
              "      <td>100.0</td>\n",
              "      <td>NaN</td>\n",
              "      <td>1125</td>\n",
              "      <td>255</td>\n",
              "      <td>115</td>\n",
              "      <td>250</td>\n",
              "      <td>125</td>\n",
              "      <td>250</td>\n",
              "      <td>130</td>\n",
              "      <td>https://img.pokemondb.net/sprites/home/normal/...</td>\n",
              "    </tr>\n",
              "  </tbody>\n",
              "</table>\n",
              "<p>251 rows × 18 columns</p>\n",
              "</div>"
            ],
            "text/plain": [
              "      cod       name  ...  speed                                                img\n",
              "2     003   Venusaur  ...     80  https://img.pokemondb.net/sprites/home/normal/...\n",
              "3     003   Venusaur  ...     80  https://img.pokemondb.net/sprites/home/normal/...\n",
              "6     006  Charizard  ...    100  https://img.pokemondb.net/sprites/home/normal/...\n",
              "7     006  Charizard  ...    100  https://img.pokemondb.net/sprites/home/normal/...\n",
              "8     006  Charizard  ...    100  https://img.pokemondb.net/sprites/home/normal/...\n",
              "...   ...        ...  ...    ...                                                ...\n",
              "1023  888     Zacian  ...    138  https://img.pokemondb.net/sprites/home/normal/...\n",
              "1024  889  Zamazenta  ...    128  https://img.pokemondb.net/sprites/home/normal/...\n",
              "1025  889  Zamazenta  ...    138  https://img.pokemondb.net/sprites/home/normal/...\n",
              "1026  890  Eternatus  ...    130  https://img.pokemondb.net/sprites/home/normal/...\n",
              "1027  890  Eternatus  ...    130  https://img.pokemondb.net/sprites/home/normal/...\n",
              "\n",
              "[251 rows x 18 columns]"
            ]
          },
          "metadata": {
            "tags": []
          },
          "execution_count": 30
        }
      ]
    },
    {
      "cell_type": "markdown",
      "metadata": {
        "id": "kkn_Q2iGD45W"
      },
      "source": [
        "É possível notar que os duplicados para o código da Pokédex se trata de Pokémons com versões alternativas, representadas em `form`. Se o campo estiver vazio, se trata da forma original. Podemos também ver quantas formas alternativas existem para os Pokémons baseado nos códigos que aparecem mais de uma vez."
      ]
    },
    {
      "cell_type": "code",
      "metadata": {
        "id": "eyIqWwbNEj10",
        "outputId": "9305cbda-4581-488d-c1a2-68edb822e3a9",
        "colab": {
          "base_uri": "https://localhost:8080/",
          "height": 34
        }
      },
      "source": [
        "len(dfPokemon.loc[dfPokemon.duplicated(subset='cod', keep='first')])"
      ],
      "execution_count": 32,
      "outputs": [
        {
          "output_type": "execute_result",
          "data": {
            "text/plain": [
              "138"
            ]
          },
          "metadata": {
            "tags": []
          },
          "execution_count": 32
        }
      ]
    },
    {
      "cell_type": "markdown",
      "metadata": {
        "id": "7cL8TUufMvAJ"
      },
      "source": [
        "#### Outliers <a name=\"outliers\"></a>\n",
        "\n",
        "Achando outliers no nosso conjunto de dados. No caso estamos apenas encontrando outliers considerando a coluna `total`."
      ]
    },
    {
      "cell_type": "code",
      "metadata": {
        "ExecuteTime": {
          "end_time": "2020-10-01T03:48:18.888615Z",
          "start_time": "2020-10-01T03:48:18.851542Z"
        },
        "id": "YNxMP7mJ-IvX",
        "outputId": "9b61a9ed-99f8-4f10-8166-fc9144bc6819",
        "colab": {
          "base_uri": "https://localhost:8080/",
          "height": 118
        }
      },
      "source": [
        "dfPokemon.drop((dfPokemon.loc[:, 'form'] == 'Eternamax').index)\n",
        "\n",
        "Q1, Q3 = dfPokemon.loc[:, 'total'].quantile([.25, .75]) # primeiro quartil e segundo quartil\n",
        "IQR = Q3 - Q1 # distância interquartil\n",
        "\n",
        "outliers = dfPokemon.loc[\n",
        "    (dfPokemon.loc[:, 'total'] < (Q1 - 1.5 * IQR)) | \n",
        "    (dfPokemon.loc[:, 'total'] > (Q3 + 1.5 * IQR)), :]\n",
        "\n",
        "outliers"
      ],
      "execution_count": null,
      "outputs": [
        {
          "output_type": "execute_result",
          "data": {
            "text/html": [
              "<div>\n",
              "<style scoped>\n",
              "    .dataframe tbody tr th:only-of-type {\n",
              "        vertical-align: middle;\n",
              "    }\n",
              "\n",
              "    .dataframe tbody tr th {\n",
              "        vertical-align: top;\n",
              "    }\n",
              "\n",
              "    .dataframe thead th {\n",
              "        text-align: right;\n",
              "    }\n",
              "</style>\n",
              "<table border=\"1\" class=\"dataframe\">\n",
              "  <thead>\n",
              "    <tr style=\"text-align: right;\">\n",
              "      <th></th>\n",
              "      <th>cod</th>\n",
              "      <th>name</th>\n",
              "      <th>generation</th>\n",
              "      <th>status</th>\n",
              "      <th>species</th>\n",
              "      <th>form</th>\n",
              "      <th>type1</th>\n",
              "      <th>type2</th>\n",
              "      <th>height_m</th>\n",
              "      <th>weight_kg</th>\n",
              "      <th>total</th>\n",
              "      <th>hp</th>\n",
              "      <th>attack</th>\n",
              "      <th>defense</th>\n",
              "      <th>spatk</th>\n",
              "      <th>spdef</th>\n",
              "      <th>speed</th>\n",
              "      <th>img</th>\n",
              "    </tr>\n",
              "  </thead>\n",
              "  <tbody>\n",
              "    <tr>\n",
              "      <th>1027</th>\n",
              "      <td>890</td>\n",
              "      <td>Eternatus</td>\n",
              "      <td>8</td>\n",
              "      <td>Legendary</td>\n",
              "      <td>Gigantic Pokémon</td>\n",
              "      <td>Eternamax</td>\n",
              "      <td>Poison</td>\n",
              "      <td>Dragon</td>\n",
              "      <td>100.0</td>\n",
              "      <td>NaN</td>\n",
              "      <td>1125</td>\n",
              "      <td>255</td>\n",
              "      <td>115</td>\n",
              "      <td>250</td>\n",
              "      <td>125</td>\n",
              "      <td>250</td>\n",
              "      <td>130</td>\n",
              "      <td>https://img.pokemondb.net/sprites/home/normal/...</td>\n",
              "    </tr>\n",
              "  </tbody>\n",
              "</table>\n",
              "</div>"
            ],
            "text/plain": [
              "      cod       name  ...  speed                                                img\n",
              "1027  890  Eternatus  ...    130  https://img.pokemondb.net/sprites/home/normal/...\n",
              "\n",
              "[1 rows x 18 columns]"
            ]
          },
          "metadata": {
            "tags": []
          },
          "execution_count": 53
        }
      ]
    },
    {
      "cell_type": "markdown",
      "metadata": {
        "id": "iKI6rTXNY-th"
      },
      "source": [
        "#### Comparações entre os extremos dos stats <a name=\"extremos\"></a>\n",
        "\n",
        "Comparações entre os extremos de todos os stats presentes nos pokémons, com imagens dos pokémons que possuem tais extremos.\n"
      ]
    },
    {
      "cell_type": "markdown",
      "metadata": {
        "id": "FqVMy8libxrM"
      },
      "source": [
        "Comparação `hp` (health points/pontos de vida)"
      ]
    },
    {
      "cell_type": "code",
      "metadata": {
        "ExecuteTime": {
          "end_time": "2020-10-01T03:48:18.960031Z",
          "start_time": "2020-10-01T03:48:18.928670Z"
        },
        "id": "9SPI7N-IZHnE",
        "outputId": "0835769f-b25d-43b9-baa1-7f5fa8880f83",
        "colab": {
          "base_uri": "https://localhost:8080/",
          "height": 114
        }
      },
      "source": [
        "hpPokemonMax = dfPokemon.loc[[dfPokemon['hp'].idxmax()]]\n",
        "hpPokemonMax"
      ],
      "execution_count": null,
      "outputs": [
        {
          "output_type": "execute_result",
          "data": {
            "text/html": [
              "<div>\n",
              "<style scoped>\n",
              "    .dataframe tbody tr th:only-of-type {\n",
              "        vertical-align: middle;\n",
              "    }\n",
              "\n",
              "    .dataframe tbody tr th {\n",
              "        vertical-align: top;\n",
              "    }\n",
              "\n",
              "    .dataframe thead th {\n",
              "        text-align: right;\n",
              "    }\n",
              "</style>\n",
              "<table border=\"1\" class=\"dataframe\">\n",
              "  <thead>\n",
              "    <tr style=\"text-align: right;\">\n",
              "      <th></th>\n",
              "      <th>cod</th>\n",
              "      <th>name</th>\n",
              "      <th>generation</th>\n",
              "      <th>status</th>\n",
              "      <th>species</th>\n",
              "      <th>form</th>\n",
              "      <th>type1</th>\n",
              "      <th>type2</th>\n",
              "      <th>height_m</th>\n",
              "      <th>weight_kg</th>\n",
              "      <th>total</th>\n",
              "      <th>hp</th>\n",
              "      <th>attack</th>\n",
              "      <th>defense</th>\n",
              "      <th>spatk</th>\n",
              "      <th>spdef</th>\n",
              "      <th>speed</th>\n",
              "      <th>img</th>\n",
              "    </tr>\n",
              "  </thead>\n",
              "  <tbody>\n",
              "    <tr>\n",
              "      <th>288</th>\n",
              "      <td>242</td>\n",
              "      <td>Blissey</td>\n",
              "      <td>2</td>\n",
              "      <td>Normal</td>\n",
              "      <td>Happiness Pokémon</td>\n",
              "      <td></td>\n",
              "      <td>Normal</td>\n",
              "      <td></td>\n",
              "      <td>1.5</td>\n",
              "      <td>46.8</td>\n",
              "      <td>540</td>\n",
              "      <td>255</td>\n",
              "      <td>10</td>\n",
              "      <td>10</td>\n",
              "      <td>75</td>\n",
              "      <td>135</td>\n",
              "      <td>55</td>\n",
              "      <td>https://img.pokemondb.net/sprites/home/normal/...</td>\n",
              "    </tr>\n",
              "  </tbody>\n",
              "</table>\n",
              "</div>"
            ],
            "text/plain": [
              "     cod     name  generation  status            species form   type1 type2  \\\n",
              "288  242  Blissey           2  Normal  Happiness Pokémon       Normal         \n",
              "\n",
              "     height_m  weight_kg  total   hp  attack  defense  spatk  spdef  speed  \\\n",
              "288       1.5       46.8    540  255      10       10     75    135     55   \n",
              "\n",
              "                                                   img  \n",
              "288  https://img.pokemondb.net/sprites/home/normal/...  "
            ]
          },
          "metadata": {
            "tags": []
          },
          "execution_count": 8
        }
      ]
    },
    {
      "cell_type": "code",
      "metadata": {
        "ExecuteTime": {
          "end_time": "2020-10-01T03:48:18.971143Z",
          "start_time": "2020-10-01T03:48:18.964429Z"
        },
        "id": "dwInzqBvgJUX",
        "outputId": "d52f2265-d1c2-48c0-a5ee-d37d4efa1145",
        "colab": {
          "base_uri": "https://localhost:8080/",
          "height": 171
        }
      },
      "source": [
        "Image(url=hpPokemonMax['img'].item(), width=150, height=150)"
      ],
      "execution_count": null,
      "outputs": [
        {
          "output_type": "execute_result",
          "data": {
            "text/html": [
              "<img src=\"https://img.pokemondb.net/sprites/home/normal/blissey.png\" width=\"150\" height=\"150\"/>"
            ],
            "text/plain": [
              "<IPython.core.display.Image object>"
            ]
          },
          "metadata": {
            "tags": []
          },
          "execution_count": 9
        }
      ]
    },
    {
      "cell_type": "code",
      "metadata": {
        "ExecuteTime": {
          "end_time": "2020-10-01T03:48:19.006258Z",
          "start_time": "2020-10-01T03:48:18.973881Z"
        },
        "id": "8xo_oifabYKx",
        "outputId": "eb644bda-463f-48aa-d658-b8e21b4b419c",
        "colab": {
          "base_uri": "https://localhost:8080/",
          "height": 114
        }
      },
      "source": [
        "hpPokemonMin = dfPokemon.loc[[dfPokemon['hp'].idxmin()]]\n",
        "hpPokemonMin"
      ],
      "execution_count": null,
      "outputs": [
        {
          "output_type": "execute_result",
          "data": {
            "text/html": [
              "<div>\n",
              "<style scoped>\n",
              "    .dataframe tbody tr th:only-of-type {\n",
              "        vertical-align: middle;\n",
              "    }\n",
              "\n",
              "    .dataframe tbody tr th {\n",
              "        vertical-align: top;\n",
              "    }\n",
              "\n",
              "    .dataframe thead th {\n",
              "        text-align: right;\n",
              "    }\n",
              "</style>\n",
              "<table border=\"1\" class=\"dataframe\">\n",
              "  <thead>\n",
              "    <tr style=\"text-align: right;\">\n",
              "      <th></th>\n",
              "      <th>cod</th>\n",
              "      <th>name</th>\n",
              "      <th>generation</th>\n",
              "      <th>status</th>\n",
              "      <th>species</th>\n",
              "      <th>form</th>\n",
              "      <th>type1</th>\n",
              "      <th>type2</th>\n",
              "      <th>height_m</th>\n",
              "      <th>weight_kg</th>\n",
              "      <th>total</th>\n",
              "      <th>hp</th>\n",
              "      <th>attack</th>\n",
              "      <th>defense</th>\n",
              "      <th>spatk</th>\n",
              "      <th>spdef</th>\n",
              "      <th>speed</th>\n",
              "      <th>img</th>\n",
              "    </tr>\n",
              "  </thead>\n",
              "  <tbody>\n",
              "    <tr>\n",
              "      <th>345</th>\n",
              "      <td>292</td>\n",
              "      <td>Shedinja</td>\n",
              "      <td>3</td>\n",
              "      <td>Normal</td>\n",
              "      <td>Shed Pokémon</td>\n",
              "      <td></td>\n",
              "      <td>Bug</td>\n",
              "      <td>Ghost</td>\n",
              "      <td>0.8</td>\n",
              "      <td>1.2</td>\n",
              "      <td>236</td>\n",
              "      <td>1</td>\n",
              "      <td>90</td>\n",
              "      <td>45</td>\n",
              "      <td>30</td>\n",
              "      <td>30</td>\n",
              "      <td>40</td>\n",
              "      <td>https://img.pokemondb.net/sprites/home/normal/...</td>\n",
              "    </tr>\n",
              "  </tbody>\n",
              "</table>\n",
              "</div>"
            ],
            "text/plain": [
              "     cod      name  generation  status       species form type1  type2  \\\n",
              "345  292  Shedinja           3  Normal  Shed Pokémon        Bug  Ghost   \n",
              "\n",
              "     height_m  weight_kg  total  hp  attack  defense  spatk  spdef  speed  \\\n",
              "345       0.8        1.2    236   1      90       45     30     30     40   \n",
              "\n",
              "                                                   img  \n",
              "345  https://img.pokemondb.net/sprites/home/normal/...  "
            ]
          },
          "metadata": {
            "tags": []
          },
          "execution_count": 10
        }
      ]
    },
    {
      "cell_type": "code",
      "metadata": {
        "ExecuteTime": {
          "end_time": "2020-10-01T03:48:19.018430Z",
          "start_time": "2020-10-01T03:48:19.010126Z"
        },
        "id": "DLrBzBv9kqJX",
        "outputId": "10041de0-b294-48ff-df77-f00cc8008d0f",
        "colab": {
          "base_uri": "https://localhost:8080/",
          "height": 171
        }
      },
      "source": [
        "Image(url=hpPokemonMin['img'].item(), width=150, height=150)"
      ],
      "execution_count": null,
      "outputs": [
        {
          "output_type": "execute_result",
          "data": {
            "text/html": [
              "<img src=\"https://img.pokemondb.net/sprites/home/normal/shedinja.png\" width=\"150\" height=\"150\"/>"
            ],
            "text/plain": [
              "<IPython.core.display.Image object>"
            ]
          },
          "metadata": {
            "tags": []
          },
          "execution_count": 11
        }
      ]
    },
    {
      "cell_type": "markdown",
      "metadata": {
        "id": "tRcWlWYSdN2O"
      },
      "source": [
        "Comparação `attack` (pontos de ataque)"
      ]
    },
    {
      "cell_type": "code",
      "metadata": {
        "ExecuteTime": {
          "end_time": "2020-10-01T03:48:19.053003Z",
          "start_time": "2020-10-01T03:48:19.022079Z"
        },
        "id": "16xBKlIydM6F",
        "outputId": "d5937499-811f-42fe-bc0c-51434455fccf",
        "colab": {
          "base_uri": "https://localhost:8080/",
          "height": 130
        }
      },
      "source": [
        "attackPokemonMax = dfPokemon.loc[[dfPokemon['attack'].idxmax()]]\n",
        "attackPokemonMax"
      ],
      "execution_count": null,
      "outputs": [
        {
          "output_type": "execute_result",
          "data": {
            "text/html": [
              "<div>\n",
              "<style scoped>\n",
              "    .dataframe tbody tr th:only-of-type {\n",
              "        vertical-align: middle;\n",
              "    }\n",
              "\n",
              "    .dataframe tbody tr th {\n",
              "        vertical-align: top;\n",
              "    }\n",
              "\n",
              "    .dataframe thead th {\n",
              "        text-align: right;\n",
              "    }\n",
              "</style>\n",
              "<table border=\"1\" class=\"dataframe\">\n",
              "  <thead>\n",
              "    <tr style=\"text-align: right;\">\n",
              "      <th></th>\n",
              "      <th>cod</th>\n",
              "      <th>name</th>\n",
              "      <th>generation</th>\n",
              "      <th>status</th>\n",
              "      <th>species</th>\n",
              "      <th>form</th>\n",
              "      <th>type1</th>\n",
              "      <th>type2</th>\n",
              "      <th>height_m</th>\n",
              "      <th>weight_kg</th>\n",
              "      <th>total</th>\n",
              "      <th>hp</th>\n",
              "      <th>attack</th>\n",
              "      <th>defense</th>\n",
              "      <th>spatk</th>\n",
              "      <th>spdef</th>\n",
              "      <th>speed</th>\n",
              "      <th>img</th>\n",
              "    </tr>\n",
              "  </thead>\n",
              "  <tbody>\n",
              "    <tr>\n",
              "      <th>189</th>\n",
              "      <td>150</td>\n",
              "      <td>Mewtwo</td>\n",
              "      <td>1</td>\n",
              "      <td>Legendary</td>\n",
              "      <td>Genetic Pokémon</td>\n",
              "      <td>Mega Mewtwo X</td>\n",
              "      <td>Psychic</td>\n",
              "      <td>Fighting</td>\n",
              "      <td>2.3</td>\n",
              "      <td>127.0</td>\n",
              "      <td>780</td>\n",
              "      <td>106</td>\n",
              "      <td>190</td>\n",
              "      <td>100</td>\n",
              "      <td>154</td>\n",
              "      <td>100</td>\n",
              "      <td>130</td>\n",
              "      <td>https://img.pokemondb.net/sprites/home/normal/...</td>\n",
              "    </tr>\n",
              "  </tbody>\n",
              "</table>\n",
              "</div>"
            ],
            "text/plain": [
              "     cod    name  generation     status          species           form  \\\n",
              "189  150  Mewtwo           1  Legendary  Genetic Pokémon  Mega Mewtwo X   \n",
              "\n",
              "       type1     type2  height_m  weight_kg  total   hp  attack  defense  \\\n",
              "189  Psychic  Fighting       2.3      127.0    780  106     190      100   \n",
              "\n",
              "     spatk  spdef  speed                                                img  \n",
              "189    154    100    130  https://img.pokemondb.net/sprites/home/normal/...  "
            ]
          },
          "metadata": {
            "tags": []
          },
          "execution_count": 12
        }
      ]
    },
    {
      "cell_type": "code",
      "metadata": {
        "ExecuteTime": {
          "end_time": "2020-10-01T03:48:19.065352Z",
          "start_time": "2020-10-01T03:48:19.055890Z"
        },
        "id": "BY-mh6pir_9-",
        "outputId": "9c607b28-4cf7-4f94-bd84-7db0e073595b",
        "colab": {
          "base_uri": "https://localhost:8080/",
          "height": 171
        }
      },
      "source": [
        "Image(url=attackPokemonMax['img'].item(), width=150, height=150)"
      ],
      "execution_count": null,
      "outputs": [
        {
          "output_type": "execute_result",
          "data": {
            "text/html": [
              "<img src=\"https://img.pokemondb.net/sprites/home/normal/mewtwo-mega-x.png\" width=\"150\" height=\"150\"/>"
            ],
            "text/plain": [
              "<IPython.core.display.Image object>"
            ]
          },
          "metadata": {
            "tags": []
          },
          "execution_count": 13
        }
      ]
    },
    {
      "cell_type": "code",
      "metadata": {
        "ExecuteTime": {
          "end_time": "2020-10-01T03:48:19.104590Z",
          "start_time": "2020-10-01T03:48:19.068969Z"
        },
        "id": "lHGf1lVFdXW9",
        "outputId": "2a1b6cb4-5f7f-4cfb-bc20-35e70a694202",
        "colab": {
          "base_uri": "https://localhost:8080/",
          "height": 114
        }
      },
      "source": [
        "attackPokemonMin = dfPokemon.loc[[dfPokemon['attack'].idxmin()]]\n",
        "attackPokemonMin"
      ],
      "execution_count": null,
      "outputs": [
        {
          "output_type": "execute_result",
          "data": {
            "text/html": [
              "<div>\n",
              "<style scoped>\n",
              "    .dataframe tbody tr th:only-of-type {\n",
              "        vertical-align: middle;\n",
              "    }\n",
              "\n",
              "    .dataframe tbody tr th {\n",
              "        vertical-align: top;\n",
              "    }\n",
              "\n",
              "    .dataframe thead th {\n",
              "        text-align: right;\n",
              "    }\n",
              "</style>\n",
              "<table border=\"1\" class=\"dataframe\">\n",
              "  <thead>\n",
              "    <tr style=\"text-align: right;\">\n",
              "      <th></th>\n",
              "      <th>cod</th>\n",
              "      <th>name</th>\n",
              "      <th>generation</th>\n",
              "      <th>status</th>\n",
              "      <th>species</th>\n",
              "      <th>form</th>\n",
              "      <th>type1</th>\n",
              "      <th>type2</th>\n",
              "      <th>height_m</th>\n",
              "      <th>weight_kg</th>\n",
              "      <th>total</th>\n",
              "      <th>hp</th>\n",
              "      <th>attack</th>\n",
              "      <th>defense</th>\n",
              "      <th>spatk</th>\n",
              "      <th>spdef</th>\n",
              "      <th>speed</th>\n",
              "      <th>img</th>\n",
              "    </tr>\n",
              "  </thead>\n",
              "  <tbody>\n",
              "    <tr>\n",
              "      <th>145</th>\n",
              "      <td>113</td>\n",
              "      <td>Chansey</td>\n",
              "      <td>1</td>\n",
              "      <td>Normal</td>\n",
              "      <td>Egg Pokémon</td>\n",
              "      <td></td>\n",
              "      <td>Normal</td>\n",
              "      <td></td>\n",
              "      <td>1.1</td>\n",
              "      <td>34.6</td>\n",
              "      <td>450</td>\n",
              "      <td>250</td>\n",
              "      <td>5</td>\n",
              "      <td>5</td>\n",
              "      <td>35</td>\n",
              "      <td>105</td>\n",
              "      <td>50</td>\n",
              "      <td>https://img.pokemondb.net/sprites/home/normal/...</td>\n",
              "    </tr>\n",
              "  </tbody>\n",
              "</table>\n",
              "</div>"
            ],
            "text/plain": [
              "     cod     name  generation  status      species form   type1 type2  \\\n",
              "145  113  Chansey           1  Normal  Egg Pokémon       Normal         \n",
              "\n",
              "     height_m  weight_kg  total   hp  attack  defense  spatk  spdef  speed  \\\n",
              "145       1.1       34.6    450  250       5        5     35    105     50   \n",
              "\n",
              "                                                   img  \n",
              "145  https://img.pokemondb.net/sprites/home/normal/...  "
            ]
          },
          "metadata": {
            "tags": []
          },
          "execution_count": 14
        }
      ]
    },
    {
      "cell_type": "code",
      "metadata": {
        "ExecuteTime": {
          "end_time": "2020-10-01T03:48:19.119662Z",
          "start_time": "2020-10-01T03:48:19.107917Z"
        },
        "id": "-GNyj6N_sbhD",
        "outputId": "8f89584b-3529-4013-e2d4-e817dbe6579a",
        "colab": {
          "base_uri": "https://localhost:8080/",
          "height": 171
        }
      },
      "source": [
        "Image(url=attackPokemonMin['img'].item(), width=150, height=150)"
      ],
      "execution_count": null,
      "outputs": [
        {
          "output_type": "execute_result",
          "data": {
            "text/html": [
              "<img src=\"https://img.pokemondb.net/sprites/home/normal/chansey.png\" width=\"150\" height=\"150\"/>"
            ],
            "text/plain": [
              "<IPython.core.display.Image object>"
            ]
          },
          "metadata": {
            "tags": []
          },
          "execution_count": 15
        }
      ]
    },
    {
      "cell_type": "markdown",
      "metadata": {
        "id": "Fs1SNxhWddof"
      },
      "source": [
        "Comparação `defense` (pontos de defesa)"
      ]
    },
    {
      "cell_type": "code",
      "metadata": {
        "ExecuteTime": {
          "end_time": "2020-10-01T03:48:19.151501Z",
          "start_time": "2020-10-01T03:48:19.123890Z"
        },
        "id": "m8tZhHbKdsig",
        "outputId": "0791462e-b406-4269-c492-99a2ba31964a",
        "colab": {
          "base_uri": "https://localhost:8080/",
          "height": 114
        }
      },
      "source": [
        "defensePokemonMax = dfPokemon.loc[[dfPokemon['defense'].idxmax()]]\n",
        "defensePokemonMax"
      ],
      "execution_count": null,
      "outputs": [
        {
          "output_type": "execute_result",
          "data": {
            "text/html": [
              "<div>\n",
              "<style scoped>\n",
              "    .dataframe tbody tr th:only-of-type {\n",
              "        vertical-align: middle;\n",
              "    }\n",
              "\n",
              "    .dataframe tbody tr th {\n",
              "        vertical-align: top;\n",
              "    }\n",
              "\n",
              "    .dataframe thead th {\n",
              "        text-align: right;\n",
              "    }\n",
              "</style>\n",
              "<table border=\"1\" class=\"dataframe\">\n",
              "  <thead>\n",
              "    <tr style=\"text-align: right;\">\n",
              "      <th></th>\n",
              "      <th>cod</th>\n",
              "      <th>name</th>\n",
              "      <th>generation</th>\n",
              "      <th>status</th>\n",
              "      <th>species</th>\n",
              "      <th>form</th>\n",
              "      <th>type1</th>\n",
              "      <th>type2</th>\n",
              "      <th>height_m</th>\n",
              "      <th>weight_kg</th>\n",
              "      <th>total</th>\n",
              "      <th>hp</th>\n",
              "      <th>attack</th>\n",
              "      <th>defense</th>\n",
              "      <th>spatk</th>\n",
              "      <th>spdef</th>\n",
              "      <th>speed</th>\n",
              "      <th>img</th>\n",
              "    </tr>\n",
              "  </thead>\n",
              "  <tbody>\n",
              "    <tr>\n",
              "      <th>1027</th>\n",
              "      <td>890</td>\n",
              "      <td>Eternatus</td>\n",
              "      <td>8</td>\n",
              "      <td>Legendary</td>\n",
              "      <td>Gigantic Pokémon</td>\n",
              "      <td>Eternamax</td>\n",
              "      <td>Poison</td>\n",
              "      <td>Dragon</td>\n",
              "      <td>100.0</td>\n",
              "      <td>NaN</td>\n",
              "      <td>1125</td>\n",
              "      <td>255</td>\n",
              "      <td>115</td>\n",
              "      <td>250</td>\n",
              "      <td>125</td>\n",
              "      <td>250</td>\n",
              "      <td>130</td>\n",
              "      <td>https://img.pokemondb.net/sprites/home/normal/...</td>\n",
              "    </tr>\n",
              "  </tbody>\n",
              "</table>\n",
              "</div>"
            ],
            "text/plain": [
              "      cod       name  generation     status           species       form  \\\n",
              "1027  890  Eternatus           8  Legendary  Gigantic Pokémon  Eternamax   \n",
              "\n",
              "       type1   type2  height_m  weight_kg  total   hp  attack  defense  spatk  \\\n",
              "1027  Poison  Dragon     100.0        NaN   1125  255     115      250    125   \n",
              "\n",
              "      spdef  speed                                                img  \n",
              "1027    250    130  https://img.pokemondb.net/sprites/home/normal/...  "
            ]
          },
          "metadata": {
            "tags": []
          },
          "execution_count": 16
        }
      ]
    },
    {
      "cell_type": "code",
      "metadata": {
        "ExecuteTime": {
          "end_time": "2020-10-01T03:48:19.163220Z",
          "start_time": "2020-10-01T03:48:19.155857Z"
        },
        "id": "xAtOezvsvATx",
        "outputId": "c74d01c3-b371-4183-d83e-9f7c4a72bc94",
        "colab": {
          "base_uri": "https://localhost:8080/",
          "height": 171
        }
      },
      "source": [
        "Image(url=defensePokemonMax['img'].item(), width=150, height=150)"
      ],
      "execution_count": null,
      "outputs": [
        {
          "output_type": "execute_result",
          "data": {
            "text/html": [
              "<img src=\"https://img.pokemondb.net/sprites/home/normal/eternatus-eternamax.png\" width=\"150\" height=\"150\"/>"
            ],
            "text/plain": [
              "<IPython.core.display.Image object>"
            ]
          },
          "metadata": {
            "tags": []
          },
          "execution_count": 17
        }
      ]
    },
    {
      "cell_type": "code",
      "metadata": {
        "ExecuteTime": {
          "end_time": "2020-10-01T03:48:19.200294Z",
          "start_time": "2020-10-01T03:48:19.169187Z"
        },
        "id": "wHmMx-fSdxVy",
        "outputId": "5a05f935-adf3-4343-b368-37be606f96a3",
        "colab": {
          "base_uri": "https://localhost:8080/",
          "height": 114
        }
      },
      "source": [
        "defensePokemonMin = dfPokemon.loc[[dfPokemon['defense'].idxmin()]]\n",
        "defensePokemonMin"
      ],
      "execution_count": null,
      "outputs": [
        {
          "output_type": "execute_result",
          "data": {
            "text/html": [
              "<div>\n",
              "<style scoped>\n",
              "    .dataframe tbody tr th:only-of-type {\n",
              "        vertical-align: middle;\n",
              "    }\n",
              "\n",
              "    .dataframe tbody tr th {\n",
              "        vertical-align: top;\n",
              "    }\n",
              "\n",
              "    .dataframe thead th {\n",
              "        text-align: right;\n",
              "    }\n",
              "</style>\n",
              "<table border=\"1\" class=\"dataframe\">\n",
              "  <thead>\n",
              "    <tr style=\"text-align: right;\">\n",
              "      <th></th>\n",
              "      <th>cod</th>\n",
              "      <th>name</th>\n",
              "      <th>generation</th>\n",
              "      <th>status</th>\n",
              "      <th>species</th>\n",
              "      <th>form</th>\n",
              "      <th>type1</th>\n",
              "      <th>type2</th>\n",
              "      <th>height_m</th>\n",
              "      <th>weight_kg</th>\n",
              "      <th>total</th>\n",
              "      <th>hp</th>\n",
              "      <th>attack</th>\n",
              "      <th>defense</th>\n",
              "      <th>spatk</th>\n",
              "      <th>spdef</th>\n",
              "      <th>speed</th>\n",
              "      <th>img</th>\n",
              "    </tr>\n",
              "  </thead>\n",
              "  <tbody>\n",
              "    <tr>\n",
              "      <th>145</th>\n",
              "      <td>113</td>\n",
              "      <td>Chansey</td>\n",
              "      <td>1</td>\n",
              "      <td>Normal</td>\n",
              "      <td>Egg Pokémon</td>\n",
              "      <td></td>\n",
              "      <td>Normal</td>\n",
              "      <td></td>\n",
              "      <td>1.1</td>\n",
              "      <td>34.6</td>\n",
              "      <td>450</td>\n",
              "      <td>250</td>\n",
              "      <td>5</td>\n",
              "      <td>5</td>\n",
              "      <td>35</td>\n",
              "      <td>105</td>\n",
              "      <td>50</td>\n",
              "      <td>https://img.pokemondb.net/sprites/home/normal/...</td>\n",
              "    </tr>\n",
              "  </tbody>\n",
              "</table>\n",
              "</div>"
            ],
            "text/plain": [
              "     cod     name  generation  status      species form   type1 type2  \\\n",
              "145  113  Chansey           1  Normal  Egg Pokémon       Normal         \n",
              "\n",
              "     height_m  weight_kg  total   hp  attack  defense  spatk  spdef  speed  \\\n",
              "145       1.1       34.6    450  250       5        5     35    105     50   \n",
              "\n",
              "                                                   img  \n",
              "145  https://img.pokemondb.net/sprites/home/normal/...  "
            ]
          },
          "metadata": {
            "tags": []
          },
          "execution_count": 18
        }
      ]
    },
    {
      "cell_type": "code",
      "metadata": {
        "ExecuteTime": {
          "end_time": "2020-10-01T03:48:19.219853Z",
          "start_time": "2020-10-01T03:48:19.207586Z"
        },
        "id": "KjfTG3NmvDmv",
        "outputId": "78fa1125-ef51-484e-a846-90e943e99b3e",
        "colab": {
          "base_uri": "https://localhost:8080/",
          "height": 171
        }
      },
      "source": [
        "Image(url=defensePokemonMin['img'].item(), width=150, height=150)"
      ],
      "execution_count": null,
      "outputs": [
        {
          "output_type": "execute_result",
          "data": {
            "text/html": [
              "<img src=\"https://img.pokemondb.net/sprites/home/normal/chansey.png\" width=\"150\" height=\"150\"/>"
            ],
            "text/plain": [
              "<IPython.core.display.Image object>"
            ]
          },
          "metadata": {
            "tags": []
          },
          "execution_count": 19
        }
      ]
    },
    {
      "cell_type": "markdown",
      "metadata": {
        "id": "ay-ZSpy-d4vM"
      },
      "source": [
        "Comparação `spatk` (pontos de ataque especial)"
      ]
    },
    {
      "cell_type": "code",
      "metadata": {
        "ExecuteTime": {
          "end_time": "2020-10-01T03:48:19.257915Z",
          "start_time": "2020-10-01T03:48:19.223468Z"
        },
        "id": "ZCXGEq-Sd3Ka",
        "outputId": "3f46d318-ab4e-4ce0-8c23-ab9b679c78c8",
        "colab": {
          "base_uri": "https://localhost:8080/",
          "height": 130
        }
      },
      "source": [
        "spatkPokemonMax = dfPokemon.loc[[dfPokemon['spatk'].idxmax()]]\n",
        "spatkPokemonMax"
      ],
      "execution_count": null,
      "outputs": [
        {
          "output_type": "execute_result",
          "data": {
            "text/html": [
              "<div>\n",
              "<style scoped>\n",
              "    .dataframe tbody tr th:only-of-type {\n",
              "        vertical-align: middle;\n",
              "    }\n",
              "\n",
              "    .dataframe tbody tr th {\n",
              "        vertical-align: top;\n",
              "    }\n",
              "\n",
              "    .dataframe thead th {\n",
              "        text-align: right;\n",
              "    }\n",
              "</style>\n",
              "<table border=\"1\" class=\"dataframe\">\n",
              "  <thead>\n",
              "    <tr style=\"text-align: right;\">\n",
              "      <th></th>\n",
              "      <th>cod</th>\n",
              "      <th>name</th>\n",
              "      <th>generation</th>\n",
              "      <th>status</th>\n",
              "      <th>species</th>\n",
              "      <th>form</th>\n",
              "      <th>type1</th>\n",
              "      <th>type2</th>\n",
              "      <th>height_m</th>\n",
              "      <th>weight_kg</th>\n",
              "      <th>total</th>\n",
              "      <th>hp</th>\n",
              "      <th>attack</th>\n",
              "      <th>defense</th>\n",
              "      <th>spatk</th>\n",
              "      <th>spdef</th>\n",
              "      <th>speed</th>\n",
              "      <th>img</th>\n",
              "    </tr>\n",
              "  </thead>\n",
              "  <tbody>\n",
              "    <tr>\n",
              "      <th>190</th>\n",
              "      <td>150</td>\n",
              "      <td>Mewtwo</td>\n",
              "      <td>1</td>\n",
              "      <td>Legendary</td>\n",
              "      <td>Genetic Pokémon</td>\n",
              "      <td>Mega Mewtwo Y</td>\n",
              "      <td>Psychic</td>\n",
              "      <td></td>\n",
              "      <td>1.5</td>\n",
              "      <td>33.0</td>\n",
              "      <td>780</td>\n",
              "      <td>106</td>\n",
              "      <td>150</td>\n",
              "      <td>70</td>\n",
              "      <td>194</td>\n",
              "      <td>120</td>\n",
              "      <td>140</td>\n",
              "      <td>https://img.pokemondb.net/sprites/home/normal/...</td>\n",
              "    </tr>\n",
              "  </tbody>\n",
              "</table>\n",
              "</div>"
            ],
            "text/plain": [
              "     cod    name  generation     status          species           form  \\\n",
              "190  150  Mewtwo           1  Legendary  Genetic Pokémon  Mega Mewtwo Y   \n",
              "\n",
              "       type1 type2  height_m  weight_kg  total   hp  attack  defense  spatk  \\\n",
              "190  Psychic             1.5       33.0    780  106     150       70    194   \n",
              "\n",
              "     spdef  speed                                                img  \n",
              "190    120    140  https://img.pokemondb.net/sprites/home/normal/...  "
            ]
          },
          "metadata": {
            "tags": []
          },
          "execution_count": 20
        }
      ]
    },
    {
      "cell_type": "code",
      "metadata": {
        "ExecuteTime": {
          "end_time": "2020-10-01T03:48:19.273763Z",
          "start_time": "2020-10-01T03:48:19.262696Z"
        },
        "id": "9MAB8N17vEn6",
        "outputId": "f9f4446a-38a9-427f-8bce-410359756fe8",
        "colab": {
          "base_uri": "https://localhost:8080/",
          "height": 171
        }
      },
      "source": [
        "Image(url=spatkPokemonMax['img'].item(), width=150, height=150)"
      ],
      "execution_count": null,
      "outputs": [
        {
          "output_type": "execute_result",
          "data": {
            "text/html": [
              "<img src=\"https://img.pokemondb.net/sprites/home/normal/mewtwo-mega-y.png\" width=\"150\" height=\"150\"/>"
            ],
            "text/plain": [
              "<IPython.core.display.Image object>"
            ]
          },
          "metadata": {
            "tags": []
          },
          "execution_count": 21
        }
      ]
    },
    {
      "cell_type": "code",
      "metadata": {
        "ExecuteTime": {
          "end_time": "2020-10-01T03:48:19.310851Z",
          "start_time": "2020-10-01T03:48:19.282382Z"
        },
        "id": "MhJvyrZteFvG",
        "outputId": "2373f555-76d9-4062-cc5a-8d8f76781479",
        "colab": {
          "base_uri": "https://localhost:8080/",
          "height": 114
        }
      },
      "source": [
        "spatkPokemonMin = dfPokemon.loc[[dfPokemon['hp'].idxmin()]]\n",
        "spatkPokemonMin"
      ],
      "execution_count": null,
      "outputs": [
        {
          "output_type": "execute_result",
          "data": {
            "text/html": [
              "<div>\n",
              "<style scoped>\n",
              "    .dataframe tbody tr th:only-of-type {\n",
              "        vertical-align: middle;\n",
              "    }\n",
              "\n",
              "    .dataframe tbody tr th {\n",
              "        vertical-align: top;\n",
              "    }\n",
              "\n",
              "    .dataframe thead th {\n",
              "        text-align: right;\n",
              "    }\n",
              "</style>\n",
              "<table border=\"1\" class=\"dataframe\">\n",
              "  <thead>\n",
              "    <tr style=\"text-align: right;\">\n",
              "      <th></th>\n",
              "      <th>cod</th>\n",
              "      <th>name</th>\n",
              "      <th>generation</th>\n",
              "      <th>status</th>\n",
              "      <th>species</th>\n",
              "      <th>form</th>\n",
              "      <th>type1</th>\n",
              "      <th>type2</th>\n",
              "      <th>height_m</th>\n",
              "      <th>weight_kg</th>\n",
              "      <th>total</th>\n",
              "      <th>hp</th>\n",
              "      <th>attack</th>\n",
              "      <th>defense</th>\n",
              "      <th>spatk</th>\n",
              "      <th>spdef</th>\n",
              "      <th>speed</th>\n",
              "      <th>img</th>\n",
              "    </tr>\n",
              "  </thead>\n",
              "  <tbody>\n",
              "    <tr>\n",
              "      <th>345</th>\n",
              "      <td>292</td>\n",
              "      <td>Shedinja</td>\n",
              "      <td>3</td>\n",
              "      <td>Normal</td>\n",
              "      <td>Shed Pokémon</td>\n",
              "      <td></td>\n",
              "      <td>Bug</td>\n",
              "      <td>Ghost</td>\n",
              "      <td>0.8</td>\n",
              "      <td>1.2</td>\n",
              "      <td>236</td>\n",
              "      <td>1</td>\n",
              "      <td>90</td>\n",
              "      <td>45</td>\n",
              "      <td>30</td>\n",
              "      <td>30</td>\n",
              "      <td>40</td>\n",
              "      <td>https://img.pokemondb.net/sprites/home/normal/...</td>\n",
              "    </tr>\n",
              "  </tbody>\n",
              "</table>\n",
              "</div>"
            ],
            "text/plain": [
              "     cod      name  generation  status       species form type1  type2  \\\n",
              "345  292  Shedinja           3  Normal  Shed Pokémon        Bug  Ghost   \n",
              "\n",
              "     height_m  weight_kg  total  hp  attack  defense  spatk  spdef  speed  \\\n",
              "345       0.8        1.2    236   1      90       45     30     30     40   \n",
              "\n",
              "                                                   img  \n",
              "345  https://img.pokemondb.net/sprites/home/normal/...  "
            ]
          },
          "metadata": {
            "tags": []
          },
          "execution_count": 22
        }
      ]
    },
    {
      "cell_type": "code",
      "metadata": {
        "ExecuteTime": {
          "end_time": "2020-10-01T03:48:19.323037Z",
          "start_time": "2020-10-01T03:48:19.316406Z"
        },
        "id": "F03XHZyxvFY3",
        "outputId": "a5e2f34b-53b8-4a45-9f2e-089cccb52f72",
        "colab": {
          "base_uri": "https://localhost:8080/",
          "height": 171
        }
      },
      "source": [
        "Image(url=spatkPokemonMin['img'].item(), width=150, height=150)"
      ],
      "execution_count": null,
      "outputs": [
        {
          "output_type": "execute_result",
          "data": {
            "text/html": [
              "<img src=\"https://img.pokemondb.net/sprites/home/normal/shedinja.png\" width=\"150\" height=\"150\"/>"
            ],
            "text/plain": [
              "<IPython.core.display.Image object>"
            ]
          },
          "metadata": {
            "tags": []
          },
          "execution_count": 23
        }
      ]
    },
    {
      "cell_type": "markdown",
      "metadata": {
        "id": "bBjV5AxUeJmI"
      },
      "source": [
        "Comparação `spdef` (pontos de defesa especial)"
      ]
    },
    {
      "cell_type": "code",
      "metadata": {
        "ExecuteTime": {
          "end_time": "2020-10-01T03:48:19.355571Z",
          "start_time": "2020-10-01T03:48:19.326786Z"
        },
        "id": "CeK-WFGyeMX_",
        "outputId": "ab58abe9-6afc-492c-d605-97fd50389e0e",
        "colab": {
          "base_uri": "https://localhost:8080/",
          "height": 114
        }
      },
      "source": [
        "spdefPokemonMax = dfPokemon.loc[[dfPokemon['spdef'].idxmax()]]\n",
        "spdefPokemonMax"
      ],
      "execution_count": null,
      "outputs": [
        {
          "output_type": "execute_result",
          "data": {
            "text/html": [
              "<div>\n",
              "<style scoped>\n",
              "    .dataframe tbody tr th:only-of-type {\n",
              "        vertical-align: middle;\n",
              "    }\n",
              "\n",
              "    .dataframe tbody tr th {\n",
              "        vertical-align: top;\n",
              "    }\n",
              "\n",
              "    .dataframe thead th {\n",
              "        text-align: right;\n",
              "    }\n",
              "</style>\n",
              "<table border=\"1\" class=\"dataframe\">\n",
              "  <thead>\n",
              "    <tr style=\"text-align: right;\">\n",
              "      <th></th>\n",
              "      <th>cod</th>\n",
              "      <th>name</th>\n",
              "      <th>generation</th>\n",
              "      <th>status</th>\n",
              "      <th>species</th>\n",
              "      <th>form</th>\n",
              "      <th>type1</th>\n",
              "      <th>type2</th>\n",
              "      <th>height_m</th>\n",
              "      <th>weight_kg</th>\n",
              "      <th>total</th>\n",
              "      <th>hp</th>\n",
              "      <th>attack</th>\n",
              "      <th>defense</th>\n",
              "      <th>spatk</th>\n",
              "      <th>spdef</th>\n",
              "      <th>speed</th>\n",
              "      <th>img</th>\n",
              "    </tr>\n",
              "  </thead>\n",
              "  <tbody>\n",
              "    <tr>\n",
              "      <th>1027</th>\n",
              "      <td>890</td>\n",
              "      <td>Eternatus</td>\n",
              "      <td>8</td>\n",
              "      <td>Legendary</td>\n",
              "      <td>Gigantic Pokémon</td>\n",
              "      <td>Eternamax</td>\n",
              "      <td>Poison</td>\n",
              "      <td>Dragon</td>\n",
              "      <td>100.0</td>\n",
              "      <td>NaN</td>\n",
              "      <td>1125</td>\n",
              "      <td>255</td>\n",
              "      <td>115</td>\n",
              "      <td>250</td>\n",
              "      <td>125</td>\n",
              "      <td>250</td>\n",
              "      <td>130</td>\n",
              "      <td>https://img.pokemondb.net/sprites/home/normal/...</td>\n",
              "    </tr>\n",
              "  </tbody>\n",
              "</table>\n",
              "</div>"
            ],
            "text/plain": [
              "      cod       name  generation     status           species       form  \\\n",
              "1027  890  Eternatus           8  Legendary  Gigantic Pokémon  Eternamax   \n",
              "\n",
              "       type1   type2  height_m  weight_kg  total   hp  attack  defense  spatk  \\\n",
              "1027  Poison  Dragon     100.0        NaN   1125  255     115      250    125   \n",
              "\n",
              "      spdef  speed                                                img  \n",
              "1027    250    130  https://img.pokemondb.net/sprites/home/normal/...  "
            ]
          },
          "metadata": {
            "tags": []
          },
          "execution_count": 24
        }
      ]
    },
    {
      "cell_type": "code",
      "metadata": {
        "ExecuteTime": {
          "end_time": "2020-10-01T03:48:19.368648Z",
          "start_time": "2020-10-01T03:48:19.358361Z"
        },
        "id": "fArw5LmGvHMo",
        "outputId": "25c35185-5a1a-429e-87b6-e6845b5314fd",
        "colab": {
          "base_uri": "https://localhost:8080/",
          "height": 171
        }
      },
      "source": [
        "Image(url=spdefPokemonMax['img'].item(), width=150, height=150)"
      ],
      "execution_count": null,
      "outputs": [
        {
          "output_type": "execute_result",
          "data": {
            "text/html": [
              "<img src=\"https://img.pokemondb.net/sprites/home/normal/eternatus-eternamax.png\" width=\"150\" height=\"150\"/>"
            ],
            "text/plain": [
              "<IPython.core.display.Image object>"
            ]
          },
          "metadata": {
            "tags": []
          },
          "execution_count": 25
        }
      ]
    },
    {
      "cell_type": "code",
      "metadata": {
        "ExecuteTime": {
          "end_time": "2020-10-01T03:48:19.397484Z",
          "start_time": "2020-10-01T03:48:19.371992Z"
        },
        "id": "T68FBWg3ePnD",
        "outputId": "4ade1748-f8af-4c12-a8e4-e7ebfa7d91cd",
        "colab": {
          "base_uri": "https://localhost:8080/",
          "height": 114
        }
      },
      "source": [
        "spdefPokemonMin = dfPokemon.loc[[dfPokemon['spdef'].idxmin()]]\n",
        "spdefPokemonMin"
      ],
      "execution_count": null,
      "outputs": [
        {
          "output_type": "execute_result",
          "data": {
            "text/html": [
              "<div>\n",
              "<style scoped>\n",
              "    .dataframe tbody tr th:only-of-type {\n",
              "        vertical-align: middle;\n",
              "    }\n",
              "\n",
              "    .dataframe tbody tr th {\n",
              "        vertical-align: top;\n",
              "    }\n",
              "\n",
              "    .dataframe thead th {\n",
              "        text-align: right;\n",
              "    }\n",
              "</style>\n",
              "<table border=\"1\" class=\"dataframe\">\n",
              "  <thead>\n",
              "    <tr style=\"text-align: right;\">\n",
              "      <th></th>\n",
              "      <th>cod</th>\n",
              "      <th>name</th>\n",
              "      <th>generation</th>\n",
              "      <th>status</th>\n",
              "      <th>species</th>\n",
              "      <th>form</th>\n",
              "      <th>type1</th>\n",
              "      <th>type2</th>\n",
              "      <th>height_m</th>\n",
              "      <th>weight_kg</th>\n",
              "      <th>total</th>\n",
              "      <th>hp</th>\n",
              "      <th>attack</th>\n",
              "      <th>defense</th>\n",
              "      <th>spatk</th>\n",
              "      <th>spdef</th>\n",
              "      <th>speed</th>\n",
              "      <th>img</th>\n",
              "    </tr>\n",
              "  </thead>\n",
              "  <tbody>\n",
              "    <tr>\n",
              "      <th>13</th>\n",
              "      <td>010</td>\n",
              "      <td>Caterpie</td>\n",
              "      <td>1</td>\n",
              "      <td>Normal</td>\n",
              "      <td>Worm Pokémon</td>\n",
              "      <td></td>\n",
              "      <td>Bug</td>\n",
              "      <td></td>\n",
              "      <td>0.3</td>\n",
              "      <td>2.9</td>\n",
              "      <td>195</td>\n",
              "      <td>45</td>\n",
              "      <td>30</td>\n",
              "      <td>35</td>\n",
              "      <td>20</td>\n",
              "      <td>20</td>\n",
              "      <td>45</td>\n",
              "      <td>https://img.pokemondb.net/sprites/home/normal/...</td>\n",
              "    </tr>\n",
              "  </tbody>\n",
              "</table>\n",
              "</div>"
            ],
            "text/plain": [
              "    cod      name  generation  status       species form type1 type2  \\\n",
              "13  010  Caterpie           1  Normal  Worm Pokémon        Bug         \n",
              "\n",
              "    height_m  weight_kg  total  hp  attack  defense  spatk  spdef  speed  \\\n",
              "13       0.3        2.9    195  45      30       35     20     20     45   \n",
              "\n",
              "                                                  img  \n",
              "13  https://img.pokemondb.net/sprites/home/normal/...  "
            ]
          },
          "metadata": {
            "tags": []
          },
          "execution_count": 26
        }
      ]
    },
    {
      "cell_type": "code",
      "metadata": {
        "ExecuteTime": {
          "end_time": "2020-10-01T03:48:19.406368Z",
          "start_time": "2020-10-01T03:48:19.400202Z"
        },
        "id": "2z-SnK9MvImC",
        "outputId": "ce84daba-cfd2-4b19-e27b-480742ed5b0a",
        "colab": {
          "base_uri": "https://localhost:8080/",
          "height": 171
        }
      },
      "source": [
        "Image(url=spdefPokemonMin['img'].item(), width=150, height=150)"
      ],
      "execution_count": null,
      "outputs": [
        {
          "output_type": "execute_result",
          "data": {
            "text/html": [
              "<img src=\"https://img.pokemondb.net/sprites/home/normal/caterpie.png\" width=\"150\" height=\"150\"/>"
            ],
            "text/plain": [
              "<IPython.core.display.Image object>"
            ]
          },
          "metadata": {
            "tags": []
          },
          "execution_count": 27
        }
      ]
    },
    {
      "cell_type": "markdown",
      "metadata": {
        "id": "TU0w3dV-fome"
      },
      "source": [
        "Comparação `speed` (pontos de velocidade)"
      ]
    },
    {
      "cell_type": "code",
      "metadata": {
        "ExecuteTime": {
          "end_time": "2020-10-01T03:48:19.439549Z",
          "start_time": "2020-10-01T03:48:19.410724Z"
        },
        "id": "K8apC9oFfsbH",
        "outputId": "78dff298-64bd-4cc7-8d7a-170f02348453",
        "colab": {
          "base_uri": "https://localhost:8080/",
          "height": 114
        }
      },
      "source": [
        "speedPokemonMax = dfPokemon.loc[[dfPokemon['speed'].idxmax()]]\n",
        "speedPokemonMax"
      ],
      "execution_count": null,
      "outputs": [
        {
          "output_type": "execute_result",
          "data": {
            "text/html": [
              "<div>\n",
              "<style scoped>\n",
              "    .dataframe tbody tr th:only-of-type {\n",
              "        vertical-align: middle;\n",
              "    }\n",
              "\n",
              "    .dataframe tbody tr th {\n",
              "        vertical-align: top;\n",
              "    }\n",
              "\n",
              "    .dataframe thead th {\n",
              "        text-align: right;\n",
              "    }\n",
              "</style>\n",
              "<table border=\"1\" class=\"dataframe\">\n",
              "  <thead>\n",
              "    <tr style=\"text-align: right;\">\n",
              "      <th></th>\n",
              "      <th>cod</th>\n",
              "      <th>name</th>\n",
              "      <th>generation</th>\n",
              "      <th>status</th>\n",
              "      <th>species</th>\n",
              "      <th>form</th>\n",
              "      <th>type1</th>\n",
              "      <th>type2</th>\n",
              "      <th>height_m</th>\n",
              "      <th>weight_kg</th>\n",
              "      <th>total</th>\n",
              "      <th>hp</th>\n",
              "      <th>attack</th>\n",
              "      <th>defense</th>\n",
              "      <th>spatk</th>\n",
              "      <th>spdef</th>\n",
              "      <th>speed</th>\n",
              "      <th>img</th>\n",
              "    </tr>\n",
              "  </thead>\n",
              "  <tbody>\n",
              "    <tr>\n",
              "      <th>463</th>\n",
              "      <td>386</td>\n",
              "      <td>Deoxys</td>\n",
              "      <td>3</td>\n",
              "      <td>Mythical</td>\n",
              "      <td>DNA Pokémon</td>\n",
              "      <td>Speed Forme</td>\n",
              "      <td>Psychic</td>\n",
              "      <td></td>\n",
              "      <td>1.7</td>\n",
              "      <td>60.8</td>\n",
              "      <td>600</td>\n",
              "      <td>50</td>\n",
              "      <td>95</td>\n",
              "      <td>90</td>\n",
              "      <td>95</td>\n",
              "      <td>90</td>\n",
              "      <td>180</td>\n",
              "      <td>https://img.pokemondb.net/sprites/home/normal/...</td>\n",
              "    </tr>\n",
              "  </tbody>\n",
              "</table>\n",
              "</div>"
            ],
            "text/plain": [
              "     cod    name  generation    status      species         form    type1  \\\n",
              "463  386  Deoxys           3  Mythical  DNA Pokémon  Speed Forme  Psychic   \n",
              "\n",
              "    type2  height_m  weight_kg  total  hp  attack  defense  spatk  spdef  \\\n",
              "463             1.7       60.8    600  50      95       90     95     90   \n",
              "\n",
              "     speed                                                img  \n",
              "463    180  https://img.pokemondb.net/sprites/home/normal/...  "
            ]
          },
          "metadata": {
            "tags": []
          },
          "execution_count": 28
        }
      ]
    },
    {
      "cell_type": "code",
      "metadata": {
        "ExecuteTime": {
          "end_time": "2020-10-01T03:48:19.452268Z",
          "start_time": "2020-10-01T03:48:19.443086Z"
        },
        "id": "V7SE6RxmvJxd",
        "outputId": "6c899e3b-2218-4b32-a4ec-e8fb9022bbc9",
        "colab": {
          "base_uri": "https://localhost:8080/",
          "height": 171
        }
      },
      "source": [
        "Image(url=speedPokemonMax['img'].item(), width=150, height=150)"
      ],
      "execution_count": null,
      "outputs": [
        {
          "output_type": "execute_result",
          "data": {
            "text/html": [
              "<img src=\"https://img.pokemondb.net/sprites/home/normal/deoxys-speed.png\" width=\"150\" height=\"150\"/>"
            ],
            "text/plain": [
              "<IPython.core.display.Image object>"
            ]
          },
          "metadata": {
            "tags": []
          },
          "execution_count": 29
        }
      ]
    },
    {
      "cell_type": "code",
      "metadata": {
        "ExecuteTime": {
          "end_time": "2020-10-01T03:48:19.481994Z",
          "start_time": "2020-10-01T03:48:19.455744Z"
        },
        "id": "XXM1JaSbhKpK",
        "outputId": "1615be5e-84df-48ec-90ad-fa0c70cabc24",
        "colab": {
          "base_uri": "https://localhost:8080/",
          "height": 114
        }
      },
      "source": [
        "speedPokemonMin = dfPokemon.loc[[dfPokemon['speed'].idxmin()]]\n",
        "speedPokemonMin"
      ],
      "execution_count": null,
      "outputs": [
        {
          "output_type": "execute_result",
          "data": {
            "text/html": [
              "<div>\n",
              "<style scoped>\n",
              "    .dataframe tbody tr th:only-of-type {\n",
              "        vertical-align: middle;\n",
              "    }\n",
              "\n",
              "    .dataframe tbody tr th {\n",
              "        vertical-align: top;\n",
              "    }\n",
              "\n",
              "    .dataframe thead th {\n",
              "        text-align: right;\n",
              "    }\n",
              "</style>\n",
              "<table border=\"1\" class=\"dataframe\">\n",
              "  <thead>\n",
              "    <tr style=\"text-align: right;\">\n",
              "      <th></th>\n",
              "      <th>cod</th>\n",
              "      <th>name</th>\n",
              "      <th>generation</th>\n",
              "      <th>status</th>\n",
              "      <th>species</th>\n",
              "      <th>form</th>\n",
              "      <th>type1</th>\n",
              "      <th>type2</th>\n",
              "      <th>height_m</th>\n",
              "      <th>weight_kg</th>\n",
              "      <th>total</th>\n",
              "      <th>hp</th>\n",
              "      <th>attack</th>\n",
              "      <th>defense</th>\n",
              "      <th>spatk</th>\n",
              "      <th>spdef</th>\n",
              "      <th>speed</th>\n",
              "      <th>img</th>\n",
              "    </tr>\n",
              "  </thead>\n",
              "  <tbody>\n",
              "    <tr>\n",
              "      <th>256</th>\n",
              "      <td>213</td>\n",
              "      <td>Shuckle</td>\n",
              "      <td>2</td>\n",
              "      <td>Normal</td>\n",
              "      <td>Mold Pokémon</td>\n",
              "      <td></td>\n",
              "      <td>Bug</td>\n",
              "      <td>Rock</td>\n",
              "      <td>0.6</td>\n",
              "      <td>20.5</td>\n",
              "      <td>505</td>\n",
              "      <td>20</td>\n",
              "      <td>10</td>\n",
              "      <td>230</td>\n",
              "      <td>10</td>\n",
              "      <td>230</td>\n",
              "      <td>5</td>\n",
              "      <td>https://img.pokemondb.net/sprites/home/normal/...</td>\n",
              "    </tr>\n",
              "  </tbody>\n",
              "</table>\n",
              "</div>"
            ],
            "text/plain": [
              "     cod     name  generation  status       species form type1 type2  \\\n",
              "256  213  Shuckle           2  Normal  Mold Pokémon        Bug  Rock   \n",
              "\n",
              "     height_m  weight_kg  total  hp  attack  defense  spatk  spdef  speed  \\\n",
              "256       0.6       20.5    505  20      10      230     10    230      5   \n",
              "\n",
              "                                                   img  \n",
              "256  https://img.pokemondb.net/sprites/home/normal/...  "
            ]
          },
          "metadata": {
            "tags": []
          },
          "execution_count": 30
        }
      ]
    },
    {
      "cell_type": "code",
      "metadata": {
        "ExecuteTime": {
          "end_time": "2020-10-01T03:48:19.492933Z",
          "start_time": "2020-10-01T03:48:19.486245Z"
        },
        "id": "BcYKAXtGvLPh",
        "outputId": "167c6083-4e13-4fbc-c5cd-ed0a714cc32b",
        "colab": {
          "base_uri": "https://localhost:8080/",
          "height": 171
        }
      },
      "source": [
        "Image(url=speedPokemonMin['img'].item(), width=150, height=150)"
      ],
      "execution_count": null,
      "outputs": [
        {
          "output_type": "execute_result",
          "data": {
            "text/html": [
              "<img src=\"https://img.pokemondb.net/sprites/home/normal/shuckle.png\" width=\"150\" height=\"150\"/>"
            ],
            "text/plain": [
              "<IPython.core.display.Image object>"
            ]
          },
          "metadata": {
            "tags": []
          },
          "execution_count": 31
        }
      ]
    },
    {
      "cell_type": "markdown",
      "metadata": {
        "id": "NEaOXWGa1KFN"
      },
      "source": [
        "Comparação `total` (pontos totais dos stats)"
      ]
    },
    {
      "cell_type": "code",
      "metadata": {
        "ExecuteTime": {
          "end_time": "2020-10-01T03:48:19.524857Z",
          "start_time": "2020-10-01T03:48:19.498110Z"
        },
        "id": "YGZduJ5h1Coj",
        "outputId": "0487102d-a40c-40bc-e243-2d3f390fd7b8",
        "colab": {
          "base_uri": "https://localhost:8080/",
          "height": 114
        }
      },
      "source": [
        "totalPokemonMax = dfPokemon.loc[[dfPokemon['total'].idxmax()]]\n",
        "totalPokemonMax"
      ],
      "execution_count": null,
      "outputs": [
        {
          "output_type": "execute_result",
          "data": {
            "text/html": [
              "<div>\n",
              "<style scoped>\n",
              "    .dataframe tbody tr th:only-of-type {\n",
              "        vertical-align: middle;\n",
              "    }\n",
              "\n",
              "    .dataframe tbody tr th {\n",
              "        vertical-align: top;\n",
              "    }\n",
              "\n",
              "    .dataframe thead th {\n",
              "        text-align: right;\n",
              "    }\n",
              "</style>\n",
              "<table border=\"1\" class=\"dataframe\">\n",
              "  <thead>\n",
              "    <tr style=\"text-align: right;\">\n",
              "      <th></th>\n",
              "      <th>cod</th>\n",
              "      <th>name</th>\n",
              "      <th>generation</th>\n",
              "      <th>status</th>\n",
              "      <th>species</th>\n",
              "      <th>form</th>\n",
              "      <th>type1</th>\n",
              "      <th>type2</th>\n",
              "      <th>height_m</th>\n",
              "      <th>weight_kg</th>\n",
              "      <th>total</th>\n",
              "      <th>hp</th>\n",
              "      <th>attack</th>\n",
              "      <th>defense</th>\n",
              "      <th>spatk</th>\n",
              "      <th>spdef</th>\n",
              "      <th>speed</th>\n",
              "      <th>img</th>\n",
              "    </tr>\n",
              "  </thead>\n",
              "  <tbody>\n",
              "    <tr>\n",
              "      <th>1027</th>\n",
              "      <td>890</td>\n",
              "      <td>Eternatus</td>\n",
              "      <td>8</td>\n",
              "      <td>Legendary</td>\n",
              "      <td>Gigantic Pokémon</td>\n",
              "      <td>Eternamax</td>\n",
              "      <td>Poison</td>\n",
              "      <td>Dragon</td>\n",
              "      <td>100.0</td>\n",
              "      <td>NaN</td>\n",
              "      <td>1125</td>\n",
              "      <td>255</td>\n",
              "      <td>115</td>\n",
              "      <td>250</td>\n",
              "      <td>125</td>\n",
              "      <td>250</td>\n",
              "      <td>130</td>\n",
              "      <td>https://img.pokemondb.net/sprites/home/normal/...</td>\n",
              "    </tr>\n",
              "  </tbody>\n",
              "</table>\n",
              "</div>"
            ],
            "text/plain": [
              "      cod       name  generation     status           species       form  \\\n",
              "1027  890  Eternatus           8  Legendary  Gigantic Pokémon  Eternamax   \n",
              "\n",
              "       type1   type2  height_m  weight_kg  total   hp  attack  defense  spatk  \\\n",
              "1027  Poison  Dragon     100.0        NaN   1125  255     115      250    125   \n",
              "\n",
              "      spdef  speed                                                img  \n",
              "1027    250    130  https://img.pokemondb.net/sprites/home/normal/...  "
            ]
          },
          "metadata": {
            "tags": []
          },
          "execution_count": 32
        }
      ]
    },
    {
      "cell_type": "code",
      "metadata": {
        "ExecuteTime": {
          "end_time": "2020-10-01T03:48:19.537165Z",
          "start_time": "2020-10-01T03:48:19.528969Z"
        },
        "id": "bkFT0XY41WeI",
        "outputId": "dc213317-b38b-44ec-d529-6369c6b21049",
        "colab": {
          "base_uri": "https://localhost:8080/",
          "height": 171
        }
      },
      "source": [
        "Image(url=totalPokemonMax['img'].item(), width=150, height=150)"
      ],
      "execution_count": null,
      "outputs": [
        {
          "output_type": "execute_result",
          "data": {
            "text/html": [
              "<img src=\"https://img.pokemondb.net/sprites/home/normal/eternatus-eternamax.png\" width=\"150\" height=\"150\"/>"
            ],
            "text/plain": [
              "<IPython.core.display.Image object>"
            ]
          },
          "metadata": {
            "tags": []
          },
          "execution_count": 33
        }
      ]
    },
    {
      "cell_type": "code",
      "metadata": {
        "ExecuteTime": {
          "end_time": "2020-10-01T03:48:19.566564Z",
          "start_time": "2020-10-01T03:48:19.540596Z"
        },
        "id": "3GizC75U1fml",
        "outputId": "3d150177-bd3d-4728-d811-7911260a4809",
        "colab": {
          "base_uri": "https://localhost:8080/",
          "height": 114
        }
      },
      "source": [
        "totalPokemonMin = dfPokemon.loc[[dfPokemon['total'].idxmin()]]\n",
        "totalPokemonMin"
      ],
      "execution_count": null,
      "outputs": [
        {
          "output_type": "execute_result",
          "data": {
            "text/html": [
              "<div>\n",
              "<style scoped>\n",
              "    .dataframe tbody tr th:only-of-type {\n",
              "        vertical-align: middle;\n",
              "    }\n",
              "\n",
              "    .dataframe tbody tr th {\n",
              "        vertical-align: top;\n",
              "    }\n",
              "\n",
              "    .dataframe thead th {\n",
              "        text-align: right;\n",
              "    }\n",
              "</style>\n",
              "<table border=\"1\" class=\"dataframe\">\n",
              "  <thead>\n",
              "    <tr style=\"text-align: right;\">\n",
              "      <th></th>\n",
              "      <th>cod</th>\n",
              "      <th>name</th>\n",
              "      <th>generation</th>\n",
              "      <th>status</th>\n",
              "      <th>species</th>\n",
              "      <th>form</th>\n",
              "      <th>type1</th>\n",
              "      <th>type2</th>\n",
              "      <th>height_m</th>\n",
              "      <th>weight_kg</th>\n",
              "      <th>total</th>\n",
              "      <th>hp</th>\n",
              "      <th>attack</th>\n",
              "      <th>defense</th>\n",
              "      <th>spatk</th>\n",
              "      <th>spdef</th>\n",
              "      <th>speed</th>\n",
              "      <th>img</th>\n",
              "    </tr>\n",
              "  </thead>\n",
              "  <tbody>\n",
              "    <tr>\n",
              "      <th>871</th>\n",
              "      <td>746</td>\n",
              "      <td>Wishiwashi</td>\n",
              "      <td>7</td>\n",
              "      <td>Normal</td>\n",
              "      <td>Small Fry Pokémon</td>\n",
              "      <td>Solo Form</td>\n",
              "      <td>Water</td>\n",
              "      <td></td>\n",
              "      <td>0.2</td>\n",
              "      <td>0.3</td>\n",
              "      <td>175</td>\n",
              "      <td>45</td>\n",
              "      <td>20</td>\n",
              "      <td>20</td>\n",
              "      <td>25</td>\n",
              "      <td>25</td>\n",
              "      <td>40</td>\n",
              "      <td>https://img.pokemondb.net/sprites/home/normal/...</td>\n",
              "    </tr>\n",
              "  </tbody>\n",
              "</table>\n",
              "</div>"
            ],
            "text/plain": [
              "     cod        name  generation  status            species       form  type1  \\\n",
              "871  746  Wishiwashi           7  Normal  Small Fry Pokémon  Solo Form  Water   \n",
              "\n",
              "    type2  height_m  weight_kg  total  hp  attack  defense  spatk  spdef  \\\n",
              "871             0.2        0.3    175  45      20       20     25     25   \n",
              "\n",
              "     speed                                                img  \n",
              "871     40  https://img.pokemondb.net/sprites/home/normal/...  "
            ]
          },
          "metadata": {
            "tags": []
          },
          "execution_count": 34
        }
      ]
    },
    {
      "cell_type": "code",
      "metadata": {
        "ExecuteTime": {
          "end_time": "2020-10-01T03:48:19.577259Z",
          "start_time": "2020-10-01T03:48:19.570252Z"
        },
        "id": "NQsiHK5e2LPf",
        "outputId": "a42f0b34-b7f9-4a72-ec68-19910f1acadf",
        "colab": {
          "base_uri": "https://localhost:8080/",
          "height": 171
        }
      },
      "source": [
        "Image(url=totalPokemonMin['img'].item(), width=150, height=150)"
      ],
      "execution_count": null,
      "outputs": [
        {
          "output_type": "execute_result",
          "data": {
            "text/html": [
              "<img src=\"https://img.pokemondb.net/sprites/home/normal/wishiwashi-solo.png\" width=\"150\" height=\"150\"/>"
            ],
            "text/plain": [
              "<IPython.core.display.Image object>"
            ]
          },
          "metadata": {
            "tags": []
          },
          "execution_count": 35
        }
      ]
    },
    {
      "cell_type": "markdown",
      "metadata": {
        "id": "-GVsGe2bAW38"
      },
      "source": [
        "#### As melhores gerações <a name=\"bestgen\"></a>\n",
        "\n",
        "Considerando os stats dos Pokémons, representados pelas colunas analisadas anteriormente, vamos agrupar os Pokémons em gerações, analisando quais têm as melhores médias para os stats."
      ]
    },
    {
      "cell_type": "markdown",
      "metadata": {
        "id": "vVhZREtiAbQ5"
      },
      "source": [
        "Assim, fazendo as médias dos stats, ordenamos em ordem descendente as gerações."
      ]
    },
    {
      "cell_type": "code",
      "metadata": {
        "id": "lzzMSOUlNKEj",
        "outputId": "efe7a7c6-01f1-4c5c-f406-fa49ac104f0b",
        "colab": {
          "base_uri": "https://localhost:8080/",
          "height": 332
        }
      },
      "source": [
        "bestGenerations = dfPokemon.groupby('generation').mean()[['total','hp','attack','defense', 'spatk', 'spdef', 'speed']]\n",
        "\n",
        "bestGenerations.sort_values(by = 'total', ascending = False)"
      ],
      "execution_count": null,
      "outputs": [
        {
          "output_type": "execute_result",
          "data": {
            "text/html": [
              "<div>\n",
              "<style scoped>\n",
              "    .dataframe tbody tr th:only-of-type {\n",
              "        vertical-align: middle;\n",
              "    }\n",
              "\n",
              "    .dataframe tbody tr th {\n",
              "        vertical-align: top;\n",
              "    }\n",
              "\n",
              "    .dataframe thead th {\n",
              "        text-align: right;\n",
              "    }\n",
              "</style>\n",
              "<table border=\"1\" class=\"dataframe\">\n",
              "  <thead>\n",
              "    <tr style=\"text-align: right;\">\n",
              "      <th></th>\n",
              "      <th>total</th>\n",
              "      <th>hp</th>\n",
              "      <th>attack</th>\n",
              "      <th>defense</th>\n",
              "      <th>spatk</th>\n",
              "      <th>spdef</th>\n",
              "      <th>speed</th>\n",
              "    </tr>\n",
              "    <tr>\n",
              "      <th>generation</th>\n",
              "      <th></th>\n",
              "      <th></th>\n",
              "      <th></th>\n",
              "      <th></th>\n",
              "      <th></th>\n",
              "      <th></th>\n",
              "      <th></th>\n",
              "    </tr>\n",
              "  </thead>\n",
              "  <tbody>\n",
              "    <tr>\n",
              "      <th>7</th>\n",
              "      <td>459.232323</td>\n",
              "      <td>71.464646</td>\n",
              "      <td>87.313131</td>\n",
              "      <td>79.202020</td>\n",
              "      <td>77.848485</td>\n",
              "      <td>75.555556</td>\n",
              "      <td>67.848485</td>\n",
              "    </tr>\n",
              "    <tr>\n",
              "      <th>4</th>\n",
              "      <td>459.016529</td>\n",
              "      <td>73.082645</td>\n",
              "      <td>82.867769</td>\n",
              "      <td>78.132231</td>\n",
              "      <td>76.404959</td>\n",
              "      <td>77.190083</td>\n",
              "      <td>71.338843</td>\n",
              "    </tr>\n",
              "    <tr>\n",
              "      <th>6</th>\n",
              "      <td>442.082353</td>\n",
              "      <td>69.882353</td>\n",
              "      <td>77.070588</td>\n",
              "      <td>76.905882</td>\n",
              "      <td>75.141176</td>\n",
              "      <td>75.082353</td>\n",
              "      <td>68.000000</td>\n",
              "    </tr>\n",
              "    <tr>\n",
              "      <th>8</th>\n",
              "      <td>438.329545</td>\n",
              "      <td>70.465909</td>\n",
              "      <td>80.000000</td>\n",
              "      <td>75.125000</td>\n",
              "      <td>71.772727</td>\n",
              "      <td>72.454545</td>\n",
              "      <td>68.511364</td>\n",
              "    </tr>\n",
              "    <tr>\n",
              "      <th>3</th>\n",
              "      <td>436.006061</td>\n",
              "      <td>66.806061</td>\n",
              "      <td>81.030303</td>\n",
              "      <td>74.048485</td>\n",
              "      <td>75.600000</td>\n",
              "      <td>71.139394</td>\n",
              "      <td>67.381818</td>\n",
              "    </tr>\n",
              "    <tr>\n",
              "      <th>5</th>\n",
              "      <td>435.157895</td>\n",
              "      <td>72.292398</td>\n",
              "      <td>82.976608</td>\n",
              "      <td>72.269006</td>\n",
              "      <td>70.929825</td>\n",
              "      <td>68.426901</td>\n",
              "      <td>68.263158</td>\n",
              "    </tr>\n",
              "    <tr>\n",
              "      <th>1</th>\n",
              "      <td>424.104167</td>\n",
              "      <td>64.760417</td>\n",
              "      <td>77.302083</td>\n",
              "      <td>71.005208</td>\n",
              "      <td>69.927083</td>\n",
              "      <td>68.598958</td>\n",
              "      <td>72.510417</td>\n",
              "    </tr>\n",
              "    <tr>\n",
              "      <th>2</th>\n",
              "      <td>419.140187</td>\n",
              "      <td>71.476636</td>\n",
              "      <td>71.869159</td>\n",
              "      <td>73.822430</td>\n",
              "      <td>66.121495</td>\n",
              "      <td>74.336449</td>\n",
              "      <td>61.514019</td>\n",
              "    </tr>\n",
              "  </tbody>\n",
              "</table>\n",
              "</div>"
            ],
            "text/plain": [
              "                 total         hp     attack  ...      spatk      spdef      speed\n",
              "generation                                    ...                                 \n",
              "7           459.232323  71.464646  87.313131  ...  77.848485  75.555556  67.848485\n",
              "4           459.016529  73.082645  82.867769  ...  76.404959  77.190083  71.338843\n",
              "6           442.082353  69.882353  77.070588  ...  75.141176  75.082353  68.000000\n",
              "8           438.329545  70.465909  80.000000  ...  71.772727  72.454545  68.511364\n",
              "3           436.006061  66.806061  81.030303  ...  75.600000  71.139394  67.381818\n",
              "5           435.157895  72.292398  82.976608  ...  70.929825  68.426901  68.263158\n",
              "1           424.104167  64.760417  77.302083  ...  69.927083  68.598958  72.510417\n",
              "2           419.140187  71.476636  71.869159  ...  66.121495  74.336449  61.514019\n",
              "\n",
              "[8 rows x 7 columns]"
            ]
          },
          "metadata": {
            "tags": []
          },
          "execution_count": 33
        }
      ]
    },
    {
      "cell_type": "markdown",
      "metadata": {
        "id": "2SnCJfnHQ6GI"
      },
      "source": [
        "#### Resumo descritivo <a name=\"resumo\"></a>\n",
        "\n",
        "Fazemos o resumo das medidas estatísticas dos dados."
      ]
    },
    {
      "cell_type": "code",
      "metadata": {
        "id": "OYnHr2EAQ6T6",
        "outputId": "6fdcdf09-82b2-45cc-efba-8e036358308a",
        "colab": {
          "base_uri": "https://localhost:8080/",
          "height": 320
        }
      },
      "source": [
        "dfPokemon.describe()"
      ],
      "execution_count": null,
      "outputs": [
        {
          "output_type": "execute_result",
          "data": {
            "text/html": [
              "<div>\n",
              "<style scoped>\n",
              "    .dataframe tbody tr th:only-of-type {\n",
              "        vertical-align: middle;\n",
              "    }\n",
              "\n",
              "    .dataframe tbody tr th {\n",
              "        vertical-align: top;\n",
              "    }\n",
              "\n",
              "    .dataframe thead th {\n",
              "        text-align: right;\n",
              "    }\n",
              "</style>\n",
              "<table border=\"1\" class=\"dataframe\">\n",
              "  <thead>\n",
              "    <tr style=\"text-align: right;\">\n",
              "      <th></th>\n",
              "      <th>generation</th>\n",
              "      <th>height_m</th>\n",
              "      <th>weight_kg</th>\n",
              "      <th>total</th>\n",
              "      <th>hp</th>\n",
              "      <th>attack</th>\n",
              "      <th>defense</th>\n",
              "      <th>spatk</th>\n",
              "      <th>spdef</th>\n",
              "      <th>speed</th>\n",
              "    </tr>\n",
              "  </thead>\n",
              "  <tbody>\n",
              "    <tr>\n",
              "      <th>count</th>\n",
              "      <td>1028.000000</td>\n",
              "      <td>1028.000000</td>\n",
              "      <td>1027.000000</td>\n",
              "      <td>1028.000000</td>\n",
              "      <td>1028.000000</td>\n",
              "      <td>1028.000000</td>\n",
              "      <td>1028.000000</td>\n",
              "      <td>1028.000000</td>\n",
              "      <td>1028.000000</td>\n",
              "      <td>1028.000000</td>\n",
              "    </tr>\n",
              "    <tr>\n",
              "      <th>mean</th>\n",
              "      <td>4.034047</td>\n",
              "      <td>1.368093</td>\n",
              "      <td>69.753749</td>\n",
              "      <td>437.533074</td>\n",
              "      <td>69.577821</td>\n",
              "      <td>80.109922</td>\n",
              "      <td>74.465953</td>\n",
              "      <td>72.722763</td>\n",
              "      <td>72.122568</td>\n",
              "      <td>68.534047</td>\n",
              "    </tr>\n",
              "    <tr>\n",
              "      <th>std</th>\n",
              "      <td>2.234937</td>\n",
              "      <td>3.380126</td>\n",
              "      <td>129.221230</td>\n",
              "      <td>121.641715</td>\n",
              "      <td>26.385849</td>\n",
              "      <td>32.352799</td>\n",
              "      <td>31.281363</td>\n",
              "      <td>32.656156</td>\n",
              "      <td>28.058406</td>\n",
              "      <td>29.802103</td>\n",
              "    </tr>\n",
              "    <tr>\n",
              "      <th>min</th>\n",
              "      <td>1.000000</td>\n",
              "      <td>0.100000</td>\n",
              "      <td>0.100000</td>\n",
              "      <td>175.000000</td>\n",
              "      <td>1.000000</td>\n",
              "      <td>5.000000</td>\n",
              "      <td>5.000000</td>\n",
              "      <td>10.000000</td>\n",
              "      <td>20.000000</td>\n",
              "      <td>5.000000</td>\n",
              "    </tr>\n",
              "    <tr>\n",
              "      <th>25%</th>\n",
              "      <td>2.000000</td>\n",
              "      <td>0.600000</td>\n",
              "      <td>8.800000</td>\n",
              "      <td>330.000000</td>\n",
              "      <td>50.000000</td>\n",
              "      <td>55.000000</td>\n",
              "      <td>50.000000</td>\n",
              "      <td>50.000000</td>\n",
              "      <td>50.000000</td>\n",
              "      <td>45.000000</td>\n",
              "    </tr>\n",
              "    <tr>\n",
              "      <th>50%</th>\n",
              "      <td>4.000000</td>\n",
              "      <td>1.000000</td>\n",
              "      <td>28.500000</td>\n",
              "      <td>455.000000</td>\n",
              "      <td>66.500000</td>\n",
              "      <td>76.000000</td>\n",
              "      <td>70.000000</td>\n",
              "      <td>65.000000</td>\n",
              "      <td>70.000000</td>\n",
              "      <td>65.000000</td>\n",
              "    </tr>\n",
              "    <tr>\n",
              "      <th>75%</th>\n",
              "      <td>6.000000</td>\n",
              "      <td>1.500000</td>\n",
              "      <td>69.100000</td>\n",
              "      <td>510.000000</td>\n",
              "      <td>80.000000</td>\n",
              "      <td>100.000000</td>\n",
              "      <td>90.000000</td>\n",
              "      <td>95.000000</td>\n",
              "      <td>90.000000</td>\n",
              "      <td>90.000000</td>\n",
              "    </tr>\n",
              "    <tr>\n",
              "      <th>max</th>\n",
              "      <td>8.000000</td>\n",
              "      <td>100.000000</td>\n",
              "      <td>999.900000</td>\n",
              "      <td>1125.000000</td>\n",
              "      <td>255.000000</td>\n",
              "      <td>190.000000</td>\n",
              "      <td>250.000000</td>\n",
              "      <td>194.000000</td>\n",
              "      <td>250.000000</td>\n",
              "      <td>180.000000</td>\n",
              "    </tr>\n",
              "  </tbody>\n",
              "</table>\n",
              "</div>"
            ],
            "text/plain": [
              "        generation     height_m  ...        spdef        speed\n",
              "count  1028.000000  1028.000000  ...  1028.000000  1028.000000\n",
              "mean      4.034047     1.368093  ...    72.122568    68.534047\n",
              "std       2.234937     3.380126  ...    28.058406    29.802103\n",
              "min       1.000000     0.100000  ...    20.000000     5.000000\n",
              "25%       2.000000     0.600000  ...    50.000000    45.000000\n",
              "50%       4.000000     1.000000  ...    70.000000    65.000000\n",
              "75%       6.000000     1.500000  ...    90.000000    90.000000\n",
              "max       8.000000   100.000000  ...   250.000000   180.000000\n",
              "\n",
              "[8 rows x 10 columns]"
            ]
          },
          "metadata": {
            "tags": []
          },
          "execution_count": 34
        }
      ]
    }
  ]
}