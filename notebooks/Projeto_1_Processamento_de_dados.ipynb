{
 "cells": [
  {
   "cell_type": "markdown",
   "metadata": {
    "colab_type": "text",
    "id": "view-in-github"
   },
   "source": [
    "<a href=\"https://colab.research.google.com/github/brenoslivio/SCC0652_Computational_Visualization/blob/master/notebooks/Projeto_1_Processamento_de_dados.ipynb\" target=\"_parent\"><img src=\"https://colab.research.google.com/assets/colab-badge.svg\" alt=\"Open In Colab\"/></a>"
   ]
  },
  {
   "cell_type": "markdown",
   "metadata": {
    "id": "ZjnGg3J0TMEQ"
   },
   "source": [
    "# Projeto 1 - Processamento de dados\n",
    "\n",
    "Alunos:\n",
    "\n",
    "Afonso Henrique Piacentini Garcia, Nº USP: 9795272\n",
    "\n",
    "Breno Lívio Silva de Almeida, Nº USP: 10276675\n",
    "\n",
    "Vitor Henrique Gratiere Torres, Nº USP: 10284952"
   ]
  },
  {
   "cell_type": "markdown",
   "metadata": {
    "id": "gGf-rOJPUTR9"
   },
   "source": [
    "---"
   ]
  },
  {
   "cell_type": "markdown",
   "metadata": {
    "id": "HVnmE2tLVCC6"
   },
   "source": [
    "## Descrição\n",
    "\n",
    "Essa parte do projeto da disciplina consiste no processamento de um conjunto de dados, um dataset. O conjunto de dados escolhido foi o de [Pokémons](https://www.pokemon.com/br/), do vídeo-game homônimo. As criaturas, chamadas de Pokémons, são representadas no jogo em questão por um item chamado [Pokédex](https://www.pokemon.com/br/pokedex/), que contém o nome e outras estatísticas relevantes aos jogos, como pontos de vida, ataque e etc. Os dados referentes à Pokédex foram retirados do site [Pokémon Database](https://pokemondb.net/pokedex/all). Também retiramos um [dataset do site Kaggle](https://www.kaggle.com/mariotormo/complete-pokemon-dataset-updated-090420). Ele será usado para utilizar informações relevantes como as gerações, peso e altura dos Pokémons."
   ]
  },
  {
   "cell_type": "markdown",
   "metadata": {
    "id": "enEaSEwJ2rRT"
   },
   "source": [
    "### [pokemon.csv](https://github.com/brenoslivio/SCC0652_Computational_Visualization/blob/master/notebooks/crawler/pokemon.csv)\n",
    "\n",
    "*   attack: stat que indica o poder de ataque fisico base do pokémon\n",
    "*   cod: O número do pokémon na pokédex\n",
    "*   defense: stat que indica a defesa física base do pokémon\n",
    "*   hp: stat que indica a vida base do pokémon\n",
    "*   img: link para a imagem do pokémon \n",
    "*   name: O nome do pokémon\n",
    "*   spatk: stat que indica o poder de ataque especial do pokémon\n",
    "*   spdef: stat que indica o poder de defesa especial do pokémon\n",
    "*   speed: stat que indica a velocidade base do pokémon\n",
    "*   form: discriminante de mega evoluções e outras formas\n",
    "*   total: soma total dos stats do pokémon\n",
    "*   type1: tipo do pokémon\n",
    "*   type2: segundo tipo do pokémon, caso possua\n",
    "*   generation: a qual geração o pokémon em questão pertence\n",
    "*   status: refere-se a raridade do pokémon, variando de normal até mítico\n",
    "*   species: apelido dado para cada pokémon baseado em algum de seus atributos\n",
    "*   height_m: altura do pokémon em metros\n",
    "*   weight_kg: peso do pokémon em kilogramas"
   ]
  },
  {
   "cell_type": "markdown",
   "metadata": {
    "id": "fIOxU-dtsJRO"
   },
   "source": [
    "### Gerações dos Pokémons\n",
    "\n",
    "A série de jogos Pokemon se iniciou em 1996, com os jogos *Pokemon Red* e *Pokemon Green*. Com o passar do tempo e lançamento de novos jogos, novas criaturas e mecânicas foram sendo integradas ao jogo, e com isso criou-se o sistema de gerações para facilitar a organização dos pokemons.\n",
    "\n",
    "1ª geração: Bulbasaur 001 - Mew 151\n",
    "\n",
    "2ª geração: Chikorita 152 - Celebi 251\n",
    "\n",
    "3ª geração: Treecko 252 - Deoxys 386\n",
    "\n",
    "4ª geração: Turtwig 387 - Arceus 493\n",
    "\n",
    "5ª geração: Victini 494 - Genesect 649\n",
    "\n",
    "6ª geração: Chespin 650 - Volcanion 721\n",
    "\n",
    "7ª geração: Rowlet 722 - Melmetal 809\n",
    "\n",
    "8ª geração: Grookey 810 - Eternamax 890"
   ]
  },
  {
   "cell_type": "markdown",
   "metadata": {
    "id": "QyHBh_l8Gan9"
   },
   "source": [
    "### [pokemonKaggle.csv](https://github.com/brenoslivio/SCC0652_Computational_Visualization/blob/master/notebooks/kaggle/pokedexKaggle.csv)"
   ]
  },
  {
   "cell_type": "markdown",
   "metadata": {
    "id": "G6VtIp8nU8k2"
   },
   "source": [
    "## Desenvolvimento\n"
   ]
  },
  {
   "cell_type": "markdown",
   "metadata": {
    "id": "GOrAkqs5HJXW"
   },
   "source": [
    "Leitura do CSV gerado do Pokémon Database como data frame do Pandas"
   ]
  },
  {
   "cell_type": "code",
   "execution_count": 1,
   "metadata": {
    "ExecuteTime": {
     "end_time": "2020-10-01T03:48:18.406252Z",
     "start_time": "2020-10-01T03:48:17.978730Z"
    },
    "colab": {
     "base_uri": "https://localhost:8080/",
     "height": 195
    },
    "id": "v80yq8iQS_BP",
    "outputId": "85da0674-61f7-4339-b1a8-79e85c2ea515"
   },
   "outputs": [
    {
     "data": {
      "text/html": [
       "<div>\n",
       "<style scoped>\n",
       "    .dataframe tbody tr th:only-of-type {\n",
       "        vertical-align: middle;\n",
       "    }\n",
       "\n",
       "    .dataframe tbody tr th {\n",
       "        vertical-align: top;\n",
       "    }\n",
       "\n",
       "    .dataframe thead th {\n",
       "        text-align: right;\n",
       "    }\n",
       "</style>\n",
       "<table border=\"1\" class=\"dataframe\">\n",
       "  <thead>\n",
       "    <tr style=\"text-align: right;\">\n",
       "      <th></th>\n",
       "      <th>attack</th>\n",
       "      <th>cod</th>\n",
       "      <th>defense</th>\n",
       "      <th>form</th>\n",
       "      <th>hp</th>\n",
       "      <th>img</th>\n",
       "      <th>name</th>\n",
       "      <th>spatk</th>\n",
       "      <th>spdef</th>\n",
       "      <th>speed</th>\n",
       "      <th>total</th>\n",
       "      <th>type1</th>\n",
       "      <th>type2</th>\n",
       "    </tr>\n",
       "  </thead>\n",
       "  <tbody>\n",
       "    <tr>\n",
       "      <th>471</th>\n",
       "      <td>104</td>\n",
       "      <td>392</td>\n",
       "      <td>71</td>\n",
       "      <td></td>\n",
       "      <td>76</td>\n",
       "      <td>https://img.pokemondb.net/sprites/home/normal/...</td>\n",
       "      <td>Infernape</td>\n",
       "      <td>104</td>\n",
       "      <td>71</td>\n",
       "      <td>108</td>\n",
       "      <td>534</td>\n",
       "      <td>Fire</td>\n",
       "      <td>Fighting</td>\n",
       "    </tr>\n",
       "    <tr>\n",
       "      <th>1002</th>\n",
       "      <td>60</td>\n",
       "      <td>869</td>\n",
       "      <td>75</td>\n",
       "      <td></td>\n",
       "      <td>65</td>\n",
       "      <td>https://img.pokemondb.net/sprites/home/normal/...</td>\n",
       "      <td>Alcremie</td>\n",
       "      <td>110</td>\n",
       "      <td>121</td>\n",
       "      <td>64</td>\n",
       "      <td>495</td>\n",
       "      <td>Fairy</td>\n",
       "      <td></td>\n",
       "    </tr>\n",
       "    <tr>\n",
       "      <th>421</th>\n",
       "      <td>165</td>\n",
       "      <td>354</td>\n",
       "      <td>75</td>\n",
       "      <td>Mega Banette</td>\n",
       "      <td>64</td>\n",
       "      <td>https://img.pokemondb.net/sprites/home/normal/...</td>\n",
       "      <td>Banette</td>\n",
       "      <td>93</td>\n",
       "      <td>83</td>\n",
       "      <td>75</td>\n",
       "      <td>555</td>\n",
       "      <td>Ghost</td>\n",
       "      <td></td>\n",
       "    </tr>\n",
       "    <tr>\n",
       "      <th>924</th>\n",
       "      <td>137</td>\n",
       "      <td>795</td>\n",
       "      <td>37</td>\n",
       "      <td></td>\n",
       "      <td>71</td>\n",
       "      <td>https://img.pokemondb.net/sprites/home/normal/...</td>\n",
       "      <td>Pheromosa</td>\n",
       "      <td>137</td>\n",
       "      <td>37</td>\n",
       "      <td>151</td>\n",
       "      <td>570</td>\n",
       "      <td>Bug</td>\n",
       "      <td>Fighting</td>\n",
       "    </tr>\n",
       "    <tr>\n",
       "      <th>636</th>\n",
       "      <td>103</td>\n",
       "      <td>542</td>\n",
       "      <td>80</td>\n",
       "      <td></td>\n",
       "      <td>75</td>\n",
       "      <td>https://img.pokemondb.net/sprites/home/normal/...</td>\n",
       "      <td>Leavanny</td>\n",
       "      <td>70</td>\n",
       "      <td>80</td>\n",
       "      <td>92</td>\n",
       "      <td>500</td>\n",
       "      <td>Bug</td>\n",
       "      <td>Grass</td>\n",
       "    </tr>\n",
       "  </tbody>\n",
       "</table>\n",
       "</div>"
      ],
      "text/plain": [
       "      attack  cod  defense          form  hp  \\\n",
       "471      104  392       71                76   \n",
       "1002      60  869       75                65   \n",
       "421      165  354       75  Mega Banette  64   \n",
       "924      137  795       37                71   \n",
       "636      103  542       80                75   \n",
       "\n",
       "                                                    img       name  spatk  \\\n",
       "471   https://img.pokemondb.net/sprites/home/normal/...  Infernape    104   \n",
       "1002  https://img.pokemondb.net/sprites/home/normal/...   Alcremie    110   \n",
       "421   https://img.pokemondb.net/sprites/home/normal/...    Banette     93   \n",
       "924   https://img.pokemondb.net/sprites/home/normal/...  Pheromosa    137   \n",
       "636   https://img.pokemondb.net/sprites/home/normal/...   Leavanny     70   \n",
       "\n",
       "      spdef  speed  total  type1     type2  \n",
       "471      71    108    534   Fire  Fighting  \n",
       "1002    121     64    495  Fairy            \n",
       "421      83     75    555  Ghost            \n",
       "924      37    151    570    Bug  Fighting  \n",
       "636      80     92    500    Bug     Grass  "
      ]
     },
     "execution_count": 1,
     "metadata": {},
     "output_type": "execute_result"
    }
   ],
   "source": [
    "import numpy as np\n",
    "import pandas as pd\n",
    "\n",
    "from IPython.display import Image\n",
    "from IPython.core.display import HTML\n",
    "\n",
    "dfPokemonDB = pd.read_csv(\n",
    "    \"crawler/pokemon.csv\",\n",
    "    dtype={'attack': np.int32,\n",
    "           'cod': str,\n",
    "           'defense': np.int32,\n",
    "           'hp': np.int32,\n",
    "           'spatk': np.int32,\n",
    "           'spdef': np.int32,\n",
    "           'speed': np.int32,\n",
    "           'total': np.int32},\n",
    "    keep_default_na=False)\n",
    "\n",
    "dfPokemonDB['img'].replace('', np.nan, inplace=True)\n",
    "\n",
    "dfPokemonDB.dropna(subset=['img'], inplace=True)\n",
    "\n",
    "dfPokemonDB.sample(5)"
   ]
  },
  {
   "cell_type": "markdown",
   "metadata": {
    "id": "14zNeZyrE0se"
   },
   "source": [
    "Leitura do CSV retirado do Kaggle como data frame do Pandas"
   ]
  },
  {
   "cell_type": "code",
   "execution_count": 2,
   "metadata": {
    "ExecuteTime": {
     "end_time": "2020-10-01T03:48:18.694242Z",
     "start_time": "2020-10-01T03:48:18.411106Z"
    },
    "colab": {
     "base_uri": "https://localhost:8080/",
     "height": 195
    },
    "id": "0P_cYGm6E02u",
    "outputId": "a414aee4-18bd-4293-c7a5-d9d9a50766ac"
   },
   "outputs": [
    {
     "data": {
      "text/html": [
       "<div>\n",
       "<style scoped>\n",
       "    .dataframe tbody tr th:only-of-type {\n",
       "        vertical-align: middle;\n",
       "    }\n",
       "\n",
       "    .dataframe tbody tr th {\n",
       "        vertical-align: top;\n",
       "    }\n",
       "\n",
       "    .dataframe thead th {\n",
       "        text-align: right;\n",
       "    }\n",
       "</style>\n",
       "<table border=\"1\" class=\"dataframe\">\n",
       "  <thead>\n",
       "    <tr style=\"text-align: right;\">\n",
       "      <th></th>\n",
       "      <th>name</th>\n",
       "      <th>generation</th>\n",
       "      <th>status</th>\n",
       "      <th>species</th>\n",
       "      <th>height_m</th>\n",
       "      <th>weight_kg</th>\n",
       "    </tr>\n",
       "  </thead>\n",
       "  <tbody>\n",
       "    <tr>\n",
       "      <th>205</th>\n",
       "      <td>Ledyba</td>\n",
       "      <td>2</td>\n",
       "      <td>Normal</td>\n",
       "      <td>Five Star Pokémon</td>\n",
       "      <td>1.0</td>\n",
       "      <td>10.8</td>\n",
       "    </tr>\n",
       "    <tr>\n",
       "      <th>962</th>\n",
       "      <td>Dubwool</td>\n",
       "      <td>8</td>\n",
       "      <td>Normal</td>\n",
       "      <td>Sheep Pokémon</td>\n",
       "      <td>1.3</td>\n",
       "      <td>43.0</td>\n",
       "    </tr>\n",
       "    <tr>\n",
       "      <th>37</th>\n",
       "      <td>Alolan Sandshrew</td>\n",
       "      <td>1</td>\n",
       "      <td>Normal</td>\n",
       "      <td>Mouse Pokémon</td>\n",
       "      <td>0.7</td>\n",
       "      <td>40.0</td>\n",
       "    </tr>\n",
       "    <tr>\n",
       "      <th>229</th>\n",
       "      <td>Skiploom</td>\n",
       "      <td>2</td>\n",
       "      <td>Normal</td>\n",
       "      <td>Cottonweed Pokémon</td>\n",
       "      <td>0.6</td>\n",
       "      <td>1.0</td>\n",
       "    </tr>\n",
       "    <tr>\n",
       "      <th>815</th>\n",
       "      <td>Goodra</td>\n",
       "      <td>6</td>\n",
       "      <td>Normal</td>\n",
       "      <td>Dragon Pokémon</td>\n",
       "      <td>2.0</td>\n",
       "      <td>150.5</td>\n",
       "    </tr>\n",
       "  </tbody>\n",
       "</table>\n",
       "</div>"
      ],
      "text/plain": [
       "                 name  generation  status             species  height_m  \\\n",
       "205            Ledyba           2  Normal   Five Star Pokémon       1.0   \n",
       "962           Dubwool           8  Normal       Sheep Pokémon       1.3   \n",
       "37   Alolan Sandshrew           1  Normal       Mouse Pokémon       0.7   \n",
       "229          Skiploom           2  Normal  Cottonweed Pokémon       0.6   \n",
       "815            Goodra           6  Normal      Dragon Pokémon       2.0   \n",
       "\n",
       "     weight_kg  \n",
       "205       10.8  \n",
       "962       43.0  \n",
       "37        40.0  \n",
       "229        1.0  \n",
       "815      150.5  "
      ]
     },
     "execution_count": 2,
     "metadata": {},
     "output_type": "execute_result"
    }
   ],
   "source": [
    "dfPokemonKaggle = pd.read_csv(\n",
    "    \"https://raw.githubusercontent.com/brenoslivio/SCC0652_Computatio\" +\n",
    "    \"nal_Visualization/master/notebooks/kaggle/pokedexKaggle.csv\",\n",
    "    usecols=['name', 'generation', 'status',\n",
    "             'species', 'height_m', 'weight_kg'],\n",
    "    dtype={'name': str,\n",
    "           'generation': np.int32,\n",
    "           'status': str,\n",
    "           'species': str,\n",
    "           'height_m': np.float64,\n",
    "           'weight_kg': np.float64})\n",
    "\n",
    "dfPokemonKaggle.sample(5)"
   ]
  },
  {
   "cell_type": "markdown",
   "metadata": {
    "id": "tam_S9x3t02m"
   },
   "source": [
    "Vamos juntar os dois datasets, combinando as variáveis relevantes para análise.\n",
    "\n",
    "Para unificarmos duas tabelas precisamos guiar a junção com chaves primárias, no dataframe ```dfPokemonDB``` a chave primária é a junção dos atributos ```name``` e ```form```, enquanto no dataframe ```dfPokemonKaggle``` é o atributo ```name```."
   ]
  },
  {
   "cell_type": "code",
   "execution_count": 3,
   "metadata": {
    "ExecuteTime": {
     "end_time": "2020-10-01T03:48:18.759203Z",
     "start_time": "2020-10-01T03:48:18.697893Z"
    },
    "colab": {
     "base_uri": "https://localhost:8080/",
     "height": 623
    },
    "id": "cPxPmRobt0_9",
    "outputId": "ea5e78af-c1e6-452b-b045-e97bba5dd097"
   },
   "outputs": [],
   "source": [
    "# No nosso dataframe criamos uma nova coluna 'tmp' que recebe uma copia\n",
    "# da coluna 'form'\n",
    "dfPokemonDB['tmp'] = dfPokemonDB.loc[:, 'form']\n",
    "\n",
    "# Nessa nova coluna todas as linhas que estiverem vazias receberao os\n",
    "# valores da coluna 'name'\n",
    "dfPokemonDB.loc[dfPokemonDB.loc[:, 'tmp'] == '',\n",
    "                'tmp'] = dfPokemonDB.loc[:, 'name']\n",
    "\n",
    "# Tratando casos de borda:\n",
    "# Pokemons com 'Form', 'Cloak', 'Mode', 'Male', 'Female', 'Size' e\n",
    "# 'Style' na sua forma devem seguir a definicao 'tmp' = 'name' + 'form'\n",
    "for exception in ['Form', 'Cloak', 'Mode', 'Male',\n",
    "                  'Female', 'Size', 'Style']:\n",
    "    dfPokemonDB.loc[dfPokemonDB.loc[:, 'form'].str.contains(exception),\n",
    "                    'tmp'] = dfPokemonDB.loc[:, 'name'] + \" \" + dfPokemonDB.loc[:, 'form']\n",
    "\n",
    "# Tratando casos de borda:\n",
    "# Pokemons com os nomes 'Hoopa', 'Eiscue', 'Zacian' e 'Zamazenta'\n",
    "# tambem devem seguir a definicao 'tmp' = 'name' + 'form'\n",
    "for exception in ['Hoopa', 'Eiscue', 'Zacian', 'Zamazenta']:\n",
    "    dfPokemonDB.loc[dfPokemonDB.loc[:, 'name'].str.contains(exception),\n",
    "                    'tmp'] = dfPokemonDB.loc[:, 'name'] + \" \" + dfPokemonDB.loc[:, 'form']\n",
    "\n",
    "# Duas excecoes precisam ser tratadas manualmente\n",
    "dfPokemonDB.loc[dfPokemonDB.loc[:, 'name'] == 'Keldeo',\n",
    "                'tmp'] = dfPokemonDB.loc[:, 'tmp'] + \"e\"\n",
    "dfPokemonDB.loc[dfPokemonDB.loc[:, 'form'] == 'Eternamax',\n",
    "                'tmp'] = dfPokemonDB.loc[:, 'name'] + \" \" + dfPokemonDB.loc[:, 'form']"
   ]
  },
  {
   "cell_type": "code",
   "execution_count": 4,
   "metadata": {
    "ExecuteTime": {
     "end_time": "2020-10-01T03:48:18.807550Z",
     "start_time": "2020-10-01T03:48:18.763351Z"
    }
   },
   "outputs": [
    {
     "data": {
      "text/html": [
       "<div>\n",
       "<style scoped>\n",
       "    .dataframe tbody tr th:only-of-type {\n",
       "        vertical-align: middle;\n",
       "    }\n",
       "\n",
       "    .dataframe tbody tr th {\n",
       "        vertical-align: top;\n",
       "    }\n",
       "\n",
       "    .dataframe thead th {\n",
       "        text-align: right;\n",
       "    }\n",
       "</style>\n",
       "<table border=\"1\" class=\"dataframe\">\n",
       "  <thead>\n",
       "    <tr style=\"text-align: right;\">\n",
       "      <th></th>\n",
       "      <th>cod</th>\n",
       "      <th>name</th>\n",
       "      <th>generation</th>\n",
       "      <th>status</th>\n",
       "      <th>species</th>\n",
       "      <th>form</th>\n",
       "      <th>type1</th>\n",
       "      <th>type2</th>\n",
       "      <th>height_m</th>\n",
       "      <th>weight_kg</th>\n",
       "      <th>total</th>\n",
       "      <th>hp</th>\n",
       "      <th>attack</th>\n",
       "      <th>defense</th>\n",
       "      <th>spatk</th>\n",
       "      <th>spdef</th>\n",
       "      <th>speed</th>\n",
       "      <th>img</th>\n",
       "    </tr>\n",
       "  </thead>\n",
       "  <tbody>\n",
       "    <tr>\n",
       "      <th>433</th>\n",
       "      <td>366</td>\n",
       "      <td>Clamperl</td>\n",
       "      <td>3</td>\n",
       "      <td>Normal</td>\n",
       "      <td>Bivalve Pokémon</td>\n",
       "      <td></td>\n",
       "      <td>Water</td>\n",
       "      <td></td>\n",
       "      <td>0.4</td>\n",
       "      <td>52.5</td>\n",
       "      <td>345</td>\n",
       "      <td>35</td>\n",
       "      <td>64</td>\n",
       "      <td>85</td>\n",
       "      <td>74</td>\n",
       "      <td>55</td>\n",
       "      <td>32</td>\n",
       "      <td>https://img.pokemondb.net/sprites/home/normal/...</td>\n",
       "    </tr>\n",
       "    <tr>\n",
       "      <th>493</th>\n",
       "      <td>414</td>\n",
       "      <td>Mothim</td>\n",
       "      <td>4</td>\n",
       "      <td>Normal</td>\n",
       "      <td>Moth Pokémon</td>\n",
       "      <td></td>\n",
       "      <td>Bug</td>\n",
       "      <td>Flying</td>\n",
       "      <td>0.9</td>\n",
       "      <td>23.3</td>\n",
       "      <td>424</td>\n",
       "      <td>70</td>\n",
       "      <td>94</td>\n",
       "      <td>50</td>\n",
       "      <td>94</td>\n",
       "      <td>50</td>\n",
       "      <td>66</td>\n",
       "      <td>https://img.pokemondb.net/sprites/home/normal/...</td>\n",
       "    </tr>\n",
       "    <tr>\n",
       "      <th>266</th>\n",
       "      <td>222</td>\n",
       "      <td>Corsola</td>\n",
       "      <td>2</td>\n",
       "      <td>Normal</td>\n",
       "      <td>Coral Pokémon</td>\n",
       "      <td></td>\n",
       "      <td>Water</td>\n",
       "      <td>Rock</td>\n",
       "      <td>0.6</td>\n",
       "      <td>5.0</td>\n",
       "      <td>410</td>\n",
       "      <td>65</td>\n",
       "      <td>55</td>\n",
       "      <td>95</td>\n",
       "      <td>65</td>\n",
       "      <td>95</td>\n",
       "      <td>35</td>\n",
       "      <td>https://img.pokemondb.net/sprites/home/normal/...</td>\n",
       "    </tr>\n",
       "    <tr>\n",
       "      <th>100</th>\n",
       "      <td>077</td>\n",
       "      <td>Ponyta</td>\n",
       "      <td>1</td>\n",
       "      <td>Normal</td>\n",
       "      <td>Unique Horn Pokémon</td>\n",
       "      <td>Galarian Ponyta</td>\n",
       "      <td>Psychic</td>\n",
       "      <td></td>\n",
       "      <td>0.8</td>\n",
       "      <td>24.0</td>\n",
       "      <td>410</td>\n",
       "      <td>50</td>\n",
       "      <td>85</td>\n",
       "      <td>55</td>\n",
       "      <td>65</td>\n",
       "      <td>65</td>\n",
       "      <td>90</td>\n",
       "      <td>https://img.pokemondb.net/sprites/home/normal/...</td>\n",
       "    </tr>\n",
       "    <tr>\n",
       "      <th>89</th>\n",
       "      <td>070</td>\n",
       "      <td>Weepinbell</td>\n",
       "      <td>1</td>\n",
       "      <td>Normal</td>\n",
       "      <td>Flycatcher Pokémon</td>\n",
       "      <td></td>\n",
       "      <td>Grass</td>\n",
       "      <td>Poison</td>\n",
       "      <td>1.0</td>\n",
       "      <td>6.4</td>\n",
       "      <td>390</td>\n",
       "      <td>65</td>\n",
       "      <td>90</td>\n",
       "      <td>50</td>\n",
       "      <td>85</td>\n",
       "      <td>45</td>\n",
       "      <td>55</td>\n",
       "      <td>https://img.pokemondb.net/sprites/home/normal/...</td>\n",
       "    </tr>\n",
       "  </tbody>\n",
       "</table>\n",
       "</div>"
      ],
      "text/plain": [
       "     cod        name  generation  status              species  \\\n",
       "433  366    Clamperl           3  Normal      Bivalve Pokémon   \n",
       "493  414      Mothim           4  Normal         Moth Pokémon   \n",
       "266  222     Corsola           2  Normal        Coral Pokémon   \n",
       "100  077      Ponyta           1  Normal  Unique Horn Pokémon   \n",
       "89   070  Weepinbell           1  Normal   Flycatcher Pokémon   \n",
       "\n",
       "                form    type1   type2  height_m  weight_kg  total  hp  attack  \\\n",
       "433                     Water               0.4       52.5    345  35      64   \n",
       "493                       Bug  Flying       0.9       23.3    424  70      94   \n",
       "266                     Water    Rock       0.6        5.0    410  65      55   \n",
       "100  Galarian Ponyta  Psychic               0.8       24.0    410  50      85   \n",
       "89                      Grass  Poison       1.0        6.4    390  65      90   \n",
       "\n",
       "     defense  spatk  spdef  speed  \\\n",
       "433       85     74     55     32   \n",
       "493       50     94     50     66   \n",
       "266       95     65     95     35   \n",
       "100       55     65     65     90   \n",
       "89        50     85     45     55   \n",
       "\n",
       "                                                   img  \n",
       "433  https://img.pokemondb.net/sprites/home/normal/...  \n",
       "493  https://img.pokemondb.net/sprites/home/normal/...  \n",
       "266  https://img.pokemondb.net/sprites/home/normal/...  \n",
       "100  https://img.pokemondb.net/sprites/home/normal/...  \n",
       "89   https://img.pokemondb.net/sprites/home/normal/...  "
      ]
     },
     "execution_count": 4,
     "metadata": {},
     "output_type": "execute_result"
    }
   ],
   "source": [
    "# Mudaremos tambem o nome da coluna 'name' no dataframe do Kaggle para\n",
    "# 'tmp'\n",
    "dfPokemonKaggle.rename(columns={'name': 'tmp'}, inplace=True)\n",
    "\n",
    "dfPokemon = pd.merge(dfPokemonDB, dfPokemonKaggle,\n",
    "                     on='tmp', how='outer')\n",
    "\n",
    "dfPokemon = dfPokemon.drop('tmp', axis=1)\n",
    "\n",
    "dfPokemon = dfPokemon[['cod',\n",
    "                       'name',\n",
    "                       'generation',\n",
    "                       'status',\n",
    "                       'species',\n",
    "                       'form',\n",
    "                       'type1',\n",
    "                       'type2',\n",
    "                       'height_m',\n",
    "                       'weight_kg',\n",
    "                       'total',\n",
    "                       'hp',\n",
    "                       'attack',\n",
    "                       'defense',\n",
    "                       'spatk',\n",
    "                       'spdef',\n",
    "                       'speed',\n",
    "                       'img']]\n",
    "\n",
    "dfPokemon.sample(5)"
   ]
  },
  {
   "cell_type": "code",
   "execution_count": 5,
   "metadata": {
    "ExecuteTime": {
     "end_time": "2020-10-01T03:48:18.847752Z",
     "start_time": "2020-10-01T03:48:18.811365Z"
    }
   },
   "outputs": [],
   "source": [
    "# Exportando o dataframe para a proxima parte do projeto\n",
    "dfPokemon.to_csv('dfPokemon.csv', index=False)"
   ]
  },
  {
   "cell_type": "markdown",
   "metadata": {
    "id": "7cL8TUufMvAJ"
   },
   "source": [
    "Achando outliers"
   ]
  },
  {
   "cell_type": "code",
   "execution_count": 6,
   "metadata": {
    "ExecuteTime": {
     "end_time": "2020-10-01T03:48:18.888615Z",
     "start_time": "2020-10-01T03:48:18.851542Z"
    }
   },
   "outputs": [
    {
     "data": {
      "text/html": [
       "<div>\n",
       "<style scoped>\n",
       "    .dataframe tbody tr th:only-of-type {\n",
       "        vertical-align: middle;\n",
       "    }\n",
       "\n",
       "    .dataframe tbody tr th {\n",
       "        vertical-align: top;\n",
       "    }\n",
       "\n",
       "    .dataframe thead th {\n",
       "        text-align: right;\n",
       "    }\n",
       "</style>\n",
       "<table border=\"1\" class=\"dataframe\">\n",
       "  <thead>\n",
       "    <tr style=\"text-align: right;\">\n",
       "      <th></th>\n",
       "      <th>cod</th>\n",
       "      <th>name</th>\n",
       "      <th>generation</th>\n",
       "      <th>status</th>\n",
       "      <th>species</th>\n",
       "      <th>form</th>\n",
       "      <th>type1</th>\n",
       "      <th>type2</th>\n",
       "      <th>height_m</th>\n",
       "      <th>weight_kg</th>\n",
       "      <th>total</th>\n",
       "      <th>hp</th>\n",
       "      <th>attack</th>\n",
       "      <th>defense</th>\n",
       "      <th>spatk</th>\n",
       "      <th>spdef</th>\n",
       "      <th>speed</th>\n",
       "      <th>img</th>\n",
       "    </tr>\n",
       "  </thead>\n",
       "  <tbody>\n",
       "    <tr>\n",
       "      <th>1027</th>\n",
       "      <td>890</td>\n",
       "      <td>Eternatus</td>\n",
       "      <td>8</td>\n",
       "      <td>Legendary</td>\n",
       "      <td>Gigantic Pokémon</td>\n",
       "      <td>Eternamax</td>\n",
       "      <td>Poison</td>\n",
       "      <td>Dragon</td>\n",
       "      <td>100.0</td>\n",
       "      <td>NaN</td>\n",
       "      <td>1125</td>\n",
       "      <td>255</td>\n",
       "      <td>115</td>\n",
       "      <td>250</td>\n",
       "      <td>125</td>\n",
       "      <td>250</td>\n",
       "      <td>130</td>\n",
       "      <td>https://img.pokemondb.net/sprites/home/normal/...</td>\n",
       "    </tr>\n",
       "  </tbody>\n",
       "</table>\n",
       "</div>"
      ],
      "text/plain": [
       "      cod       name  generation     status           species       form  \\\n",
       "1027  890  Eternatus           8  Legendary  Gigantic Pokémon  Eternamax   \n",
       "\n",
       "       type1   type2  height_m  weight_kg  total   hp  attack  defense  spatk  \\\n",
       "1027  Poison  Dragon     100.0        NaN   1125  255     115      250    125   \n",
       "\n",
       "      spdef  speed                                                img  \n",
       "1027    250    130  https://img.pokemondb.net/sprites/home/normal/...  "
      ]
     },
     "execution_count": 6,
     "metadata": {},
     "output_type": "execute_result"
    }
   ],
   "source": [
    "dfPokemon.drop((dfPokemon.loc[:, 'form'] == 'Eternamax').index)\n",
    "\n",
    "Q1, Q3 = dfPokemon.loc[:, 'total'].quantile([.25, .75])\n",
    "IQR = Q3 - Q1\n",
    "\n",
    "outliers = dfPokemon.loc[\n",
    "    (dfPokemon.loc[:, 'total'] < (Q1 - 1.5 * IQR)) | \n",
    "    (dfPokemon.loc[:, 'total'] > (Q3 + 1.5 * IQR)), :]\n",
    "outliers"
   ]
  },
  {
   "cell_type": "code",
   "execution_count": 7,
   "metadata": {
    "ExecuteTime": {
     "end_time": "2020-10-01T03:48:18.924905Z",
     "start_time": "2020-10-01T03:48:18.894944Z"
    },
    "colab": {
     "base_uri": "https://localhost:8080/",
     "height": 1000
    },
    "id": "_Gcgo96m_fH8",
    "outputId": "b2d59d13-eb0c-47cd-b022-c62a14c24599"
   },
   "outputs": [
    {
     "data": {
      "text/html": [
       "<div>\n",
       "<style scoped>\n",
       "    .dataframe tbody tr th:only-of-type {\n",
       "        vertical-align: middle;\n",
       "    }\n",
       "\n",
       "    .dataframe tbody tr th {\n",
       "        vertical-align: top;\n",
       "    }\n",
       "\n",
       "    .dataframe thead th {\n",
       "        text-align: right;\n",
       "    }\n",
       "</style>\n",
       "<table border=\"1\" class=\"dataframe\">\n",
       "  <thead>\n",
       "    <tr style=\"text-align: right;\">\n",
       "      <th></th>\n",
       "      <th>cod</th>\n",
       "      <th>name</th>\n",
       "      <th>generation</th>\n",
       "      <th>status</th>\n",
       "      <th>species</th>\n",
       "      <th>form</th>\n",
       "      <th>type1</th>\n",
       "      <th>type2</th>\n",
       "      <th>height_m</th>\n",
       "      <th>weight_kg</th>\n",
       "      <th>total</th>\n",
       "      <th>hp</th>\n",
       "      <th>attack</th>\n",
       "      <th>defense</th>\n",
       "      <th>spatk</th>\n",
       "      <th>spdef</th>\n",
       "      <th>speed</th>\n",
       "      <th>img</th>\n",
       "    </tr>\n",
       "  </thead>\n",
       "  <tbody>\n",
       "    <tr>\n",
       "      <th>1027</th>\n",
       "      <td>890</td>\n",
       "      <td>Eternatus</td>\n",
       "      <td>8</td>\n",
       "      <td>Legendary</td>\n",
       "      <td>Gigantic Pokémon</td>\n",
       "      <td>Eternamax</td>\n",
       "      <td>Poison</td>\n",
       "      <td>Dragon</td>\n",
       "      <td>100.0</td>\n",
       "      <td>NaN</td>\n",
       "      <td>1125</td>\n",
       "      <td>255</td>\n",
       "      <td>115</td>\n",
       "      <td>250</td>\n",
       "      <td>125</td>\n",
       "      <td>250</td>\n",
       "      <td>130</td>\n",
       "      <td>https://img.pokemondb.net/sprites/home/normal/...</td>\n",
       "    </tr>\n",
       "  </tbody>\n",
       "</table>\n",
       "</div>"
      ],
      "text/plain": [
       "      cod       name  generation     status           species       form  \\\n",
       "1027  890  Eternatus           8  Legendary  Gigantic Pokémon  Eternamax   \n",
       "\n",
       "       type1   type2  height_m  weight_kg  total   hp  attack  defense  spatk  \\\n",
       "1027  Poison  Dragon     100.0        NaN   1125  255     115      250    125   \n",
       "\n",
       "      spdef  speed                                                img  \n",
       "1027    250    130  https://img.pokemondb.net/sprites/home/normal/...  "
      ]
     },
     "execution_count": 7,
     "metadata": {},
     "output_type": "execute_result"
    }
   ],
   "source": [
    "Q1 = dfPokemon.loc[:, 'total'].quantile(.25)  # primeiro quartil\n",
    "Q3 = dfPokemon.loc[:, 'total'].quantile(.75)  # segundo quartil\n",
    "IQR = Q3 - Q1  # distância interquartil\n",
    "\n",
    "# vetor contendo os valores booleanos para cada uma das observações\n",
    "# indicando se ele é um outlier (True) ou não (False)\n",
    "out = ((dfPokemon.loc[:, 'total'] < (Q1 - 1.5 * IQR)) |\n",
    "       (dfPokemon.loc[:, 'total'] > (Q3 + 1.5 * IQR)))\n",
    "\n",
    "# vetor contendo os outliers para o conjunto de dados\n",
    "pokemonOut = dfPokemon.loc[out, :]\n",
    "\n",
    "pokemonOut"
   ]
  },
  {
   "cell_type": "markdown",
   "metadata": {
    "id": "iKI6rTXNY-th"
   },
   "source": [
    "### Comparações entre os extremos dos stats\n",
    "\n",
    "Comparações entre os extremos de todos os stats presentes nos pokémons, com imagens dos pokémons que possuem tais extremos\n"
   ]
  },
  {
   "cell_type": "markdown",
   "metadata": {
    "id": "FqVMy8libxrM"
   },
   "source": [
    "**Comparação hp**"
   ]
  },
  {
   "cell_type": "code",
   "execution_count": 8,
   "metadata": {
    "ExecuteTime": {
     "end_time": "2020-10-01T03:48:18.960031Z",
     "start_time": "2020-10-01T03:48:18.928670Z"
    },
    "colab": {
     "base_uri": "https://localhost:8080/",
     "height": 114
    },
    "id": "9SPI7N-IZHnE",
    "outputId": "0835769f-b25d-43b9-baa1-7f5fa8880f83"
   },
   "outputs": [
    {
     "data": {
      "text/html": [
       "<div>\n",
       "<style scoped>\n",
       "    .dataframe tbody tr th:only-of-type {\n",
       "        vertical-align: middle;\n",
       "    }\n",
       "\n",
       "    .dataframe tbody tr th {\n",
       "        vertical-align: top;\n",
       "    }\n",
       "\n",
       "    .dataframe thead th {\n",
       "        text-align: right;\n",
       "    }\n",
       "</style>\n",
       "<table border=\"1\" class=\"dataframe\">\n",
       "  <thead>\n",
       "    <tr style=\"text-align: right;\">\n",
       "      <th></th>\n",
       "      <th>cod</th>\n",
       "      <th>name</th>\n",
       "      <th>generation</th>\n",
       "      <th>status</th>\n",
       "      <th>species</th>\n",
       "      <th>form</th>\n",
       "      <th>type1</th>\n",
       "      <th>type2</th>\n",
       "      <th>height_m</th>\n",
       "      <th>weight_kg</th>\n",
       "      <th>total</th>\n",
       "      <th>hp</th>\n",
       "      <th>attack</th>\n",
       "      <th>defense</th>\n",
       "      <th>spatk</th>\n",
       "      <th>spdef</th>\n",
       "      <th>speed</th>\n",
       "      <th>img</th>\n",
       "    </tr>\n",
       "  </thead>\n",
       "  <tbody>\n",
       "    <tr>\n",
       "      <th>288</th>\n",
       "      <td>242</td>\n",
       "      <td>Blissey</td>\n",
       "      <td>2</td>\n",
       "      <td>Normal</td>\n",
       "      <td>Happiness Pokémon</td>\n",
       "      <td></td>\n",
       "      <td>Normal</td>\n",
       "      <td></td>\n",
       "      <td>1.5</td>\n",
       "      <td>46.8</td>\n",
       "      <td>540</td>\n",
       "      <td>255</td>\n",
       "      <td>10</td>\n",
       "      <td>10</td>\n",
       "      <td>75</td>\n",
       "      <td>135</td>\n",
       "      <td>55</td>\n",
       "      <td>https://img.pokemondb.net/sprites/home/normal/...</td>\n",
       "    </tr>\n",
       "  </tbody>\n",
       "</table>\n",
       "</div>"
      ],
      "text/plain": [
       "     cod     name  generation  status            species form   type1 type2  \\\n",
       "288  242  Blissey           2  Normal  Happiness Pokémon       Normal         \n",
       "\n",
       "     height_m  weight_kg  total   hp  attack  defense  spatk  spdef  speed  \\\n",
       "288       1.5       46.8    540  255      10       10     75    135     55   \n",
       "\n",
       "                                                   img  \n",
       "288  https://img.pokemondb.net/sprites/home/normal/...  "
      ]
     },
     "execution_count": 8,
     "metadata": {},
     "output_type": "execute_result"
    }
   ],
   "source": [
    "hpPokemonMax = dfPokemon.loc[[dfPokemon['hp'].idxmax()]]\n",
    "hpPokemonMax"
   ]
  },
  {
   "cell_type": "code",
   "execution_count": 9,
   "metadata": {
    "ExecuteTime": {
     "end_time": "2020-10-01T03:48:18.971143Z",
     "start_time": "2020-10-01T03:48:18.964429Z"
    },
    "colab": {
     "base_uri": "https://localhost:8080/",
     "height": 171
    },
    "id": "dwInzqBvgJUX",
    "outputId": "d52f2265-d1c2-48c0-a5ee-d37d4efa1145"
   },
   "outputs": [
    {
     "data": {
      "text/html": [
       "<img src=\"https://img.pokemondb.net/sprites/home/normal/blissey.png\" width=\"150\" height=\"150\"/>"
      ],
      "text/plain": [
       "<IPython.core.display.Image object>"
      ]
     },
     "execution_count": 9,
     "metadata": {},
     "output_type": "execute_result"
    }
   ],
   "source": [
    "Image(url=hpPokemonMax['img'].item(), width=150, height=150)"
   ]
  },
  {
   "cell_type": "code",
   "execution_count": 10,
   "metadata": {
    "ExecuteTime": {
     "end_time": "2020-10-01T03:48:19.006258Z",
     "start_time": "2020-10-01T03:48:18.973881Z"
    },
    "colab": {
     "base_uri": "https://localhost:8080/",
     "height": 114
    },
    "id": "8xo_oifabYKx",
    "outputId": "eb644bda-463f-48aa-d658-b8e21b4b419c"
   },
   "outputs": [
    {
     "data": {
      "text/html": [
       "<div>\n",
       "<style scoped>\n",
       "    .dataframe tbody tr th:only-of-type {\n",
       "        vertical-align: middle;\n",
       "    }\n",
       "\n",
       "    .dataframe tbody tr th {\n",
       "        vertical-align: top;\n",
       "    }\n",
       "\n",
       "    .dataframe thead th {\n",
       "        text-align: right;\n",
       "    }\n",
       "</style>\n",
       "<table border=\"1\" class=\"dataframe\">\n",
       "  <thead>\n",
       "    <tr style=\"text-align: right;\">\n",
       "      <th></th>\n",
       "      <th>cod</th>\n",
       "      <th>name</th>\n",
       "      <th>generation</th>\n",
       "      <th>status</th>\n",
       "      <th>species</th>\n",
       "      <th>form</th>\n",
       "      <th>type1</th>\n",
       "      <th>type2</th>\n",
       "      <th>height_m</th>\n",
       "      <th>weight_kg</th>\n",
       "      <th>total</th>\n",
       "      <th>hp</th>\n",
       "      <th>attack</th>\n",
       "      <th>defense</th>\n",
       "      <th>spatk</th>\n",
       "      <th>spdef</th>\n",
       "      <th>speed</th>\n",
       "      <th>img</th>\n",
       "    </tr>\n",
       "  </thead>\n",
       "  <tbody>\n",
       "    <tr>\n",
       "      <th>345</th>\n",
       "      <td>292</td>\n",
       "      <td>Shedinja</td>\n",
       "      <td>3</td>\n",
       "      <td>Normal</td>\n",
       "      <td>Shed Pokémon</td>\n",
       "      <td></td>\n",
       "      <td>Bug</td>\n",
       "      <td>Ghost</td>\n",
       "      <td>0.8</td>\n",
       "      <td>1.2</td>\n",
       "      <td>236</td>\n",
       "      <td>1</td>\n",
       "      <td>90</td>\n",
       "      <td>45</td>\n",
       "      <td>30</td>\n",
       "      <td>30</td>\n",
       "      <td>40</td>\n",
       "      <td>https://img.pokemondb.net/sprites/home/normal/...</td>\n",
       "    </tr>\n",
       "  </tbody>\n",
       "</table>\n",
       "</div>"
      ],
      "text/plain": [
       "     cod      name  generation  status       species form type1  type2  \\\n",
       "345  292  Shedinja           3  Normal  Shed Pokémon        Bug  Ghost   \n",
       "\n",
       "     height_m  weight_kg  total  hp  attack  defense  spatk  spdef  speed  \\\n",
       "345       0.8        1.2    236   1      90       45     30     30     40   \n",
       "\n",
       "                                                   img  \n",
       "345  https://img.pokemondb.net/sprites/home/normal/...  "
      ]
     },
     "execution_count": 10,
     "metadata": {},
     "output_type": "execute_result"
    }
   ],
   "source": [
    "hpPokemonMin = dfPokemon.loc[[dfPokemon['hp'].idxmin()]]\n",
    "hpPokemonMin"
   ]
  },
  {
   "cell_type": "code",
   "execution_count": 11,
   "metadata": {
    "ExecuteTime": {
     "end_time": "2020-10-01T03:48:19.018430Z",
     "start_time": "2020-10-01T03:48:19.010126Z"
    },
    "colab": {
     "base_uri": "https://localhost:8080/",
     "height": 171
    },
    "id": "DLrBzBv9kqJX",
    "outputId": "10041de0-b294-48ff-df77-f00cc8008d0f"
   },
   "outputs": [
    {
     "data": {
      "text/html": [
       "<img src=\"https://img.pokemondb.net/sprites/home/normal/shedinja.png\" width=\"150\" height=\"150\"/>"
      ],
      "text/plain": [
       "<IPython.core.display.Image object>"
      ]
     },
     "execution_count": 11,
     "metadata": {},
     "output_type": "execute_result"
    }
   ],
   "source": [
    "Image(url=hpPokemonMin['img'].item(), width=150, height=150)"
   ]
  },
  {
   "cell_type": "markdown",
   "metadata": {
    "id": "tRcWlWYSdN2O"
   },
   "source": [
    "**Comparação attack**"
   ]
  },
  {
   "cell_type": "code",
   "execution_count": 12,
   "metadata": {
    "ExecuteTime": {
     "end_time": "2020-10-01T03:48:19.053003Z",
     "start_time": "2020-10-01T03:48:19.022079Z"
    },
    "colab": {
     "base_uri": "https://localhost:8080/",
     "height": 130
    },
    "id": "16xBKlIydM6F",
    "outputId": "d5937499-811f-42fe-bc0c-51434455fccf"
   },
   "outputs": [
    {
     "data": {
      "text/html": [
       "<div>\n",
       "<style scoped>\n",
       "    .dataframe tbody tr th:only-of-type {\n",
       "        vertical-align: middle;\n",
       "    }\n",
       "\n",
       "    .dataframe tbody tr th {\n",
       "        vertical-align: top;\n",
       "    }\n",
       "\n",
       "    .dataframe thead th {\n",
       "        text-align: right;\n",
       "    }\n",
       "</style>\n",
       "<table border=\"1\" class=\"dataframe\">\n",
       "  <thead>\n",
       "    <tr style=\"text-align: right;\">\n",
       "      <th></th>\n",
       "      <th>cod</th>\n",
       "      <th>name</th>\n",
       "      <th>generation</th>\n",
       "      <th>status</th>\n",
       "      <th>species</th>\n",
       "      <th>form</th>\n",
       "      <th>type1</th>\n",
       "      <th>type2</th>\n",
       "      <th>height_m</th>\n",
       "      <th>weight_kg</th>\n",
       "      <th>total</th>\n",
       "      <th>hp</th>\n",
       "      <th>attack</th>\n",
       "      <th>defense</th>\n",
       "      <th>spatk</th>\n",
       "      <th>spdef</th>\n",
       "      <th>speed</th>\n",
       "      <th>img</th>\n",
       "    </tr>\n",
       "  </thead>\n",
       "  <tbody>\n",
       "    <tr>\n",
       "      <th>189</th>\n",
       "      <td>150</td>\n",
       "      <td>Mewtwo</td>\n",
       "      <td>1</td>\n",
       "      <td>Legendary</td>\n",
       "      <td>Genetic Pokémon</td>\n",
       "      <td>Mega Mewtwo X</td>\n",
       "      <td>Psychic</td>\n",
       "      <td>Fighting</td>\n",
       "      <td>2.3</td>\n",
       "      <td>127.0</td>\n",
       "      <td>780</td>\n",
       "      <td>106</td>\n",
       "      <td>190</td>\n",
       "      <td>100</td>\n",
       "      <td>154</td>\n",
       "      <td>100</td>\n",
       "      <td>130</td>\n",
       "      <td>https://img.pokemondb.net/sprites/home/normal/...</td>\n",
       "    </tr>\n",
       "  </tbody>\n",
       "</table>\n",
       "</div>"
      ],
      "text/plain": [
       "     cod    name  generation     status          species           form  \\\n",
       "189  150  Mewtwo           1  Legendary  Genetic Pokémon  Mega Mewtwo X   \n",
       "\n",
       "       type1     type2  height_m  weight_kg  total   hp  attack  defense  \\\n",
       "189  Psychic  Fighting       2.3      127.0    780  106     190      100   \n",
       "\n",
       "     spatk  spdef  speed                                                img  \n",
       "189    154    100    130  https://img.pokemondb.net/sprites/home/normal/...  "
      ]
     },
     "execution_count": 12,
     "metadata": {},
     "output_type": "execute_result"
    }
   ],
   "source": [
    "attackPokemonMax = dfPokemon.loc[[dfPokemon['attack'].idxmax()]]\n",
    "attackPokemonMax"
   ]
  },
  {
   "cell_type": "code",
   "execution_count": 13,
   "metadata": {
    "ExecuteTime": {
     "end_time": "2020-10-01T03:48:19.065352Z",
     "start_time": "2020-10-01T03:48:19.055890Z"
    },
    "colab": {
     "base_uri": "https://localhost:8080/",
     "height": 171
    },
    "id": "BY-mh6pir_9-",
    "outputId": "9c607b28-4cf7-4f94-bd84-7db0e073595b"
   },
   "outputs": [
    {
     "data": {
      "text/html": [
       "<img src=\"https://img.pokemondb.net/sprites/home/normal/mewtwo-mega-x.png\" width=\"150\" height=\"150\"/>"
      ],
      "text/plain": [
       "<IPython.core.display.Image object>"
      ]
     },
     "execution_count": 13,
     "metadata": {},
     "output_type": "execute_result"
    }
   ],
   "source": [
    "Image(url=attackPokemonMax['img'].item(), width=150, height=150)"
   ]
  },
  {
   "cell_type": "code",
   "execution_count": 14,
   "metadata": {
    "ExecuteTime": {
     "end_time": "2020-10-01T03:48:19.104590Z",
     "start_time": "2020-10-01T03:48:19.068969Z"
    },
    "colab": {
     "base_uri": "https://localhost:8080/",
     "height": 114
    },
    "id": "lHGf1lVFdXW9",
    "outputId": "2a1b6cb4-5f7f-4cfb-bc20-35e70a694202"
   },
   "outputs": [
    {
     "data": {
      "text/html": [
       "<div>\n",
       "<style scoped>\n",
       "    .dataframe tbody tr th:only-of-type {\n",
       "        vertical-align: middle;\n",
       "    }\n",
       "\n",
       "    .dataframe tbody tr th {\n",
       "        vertical-align: top;\n",
       "    }\n",
       "\n",
       "    .dataframe thead th {\n",
       "        text-align: right;\n",
       "    }\n",
       "</style>\n",
       "<table border=\"1\" class=\"dataframe\">\n",
       "  <thead>\n",
       "    <tr style=\"text-align: right;\">\n",
       "      <th></th>\n",
       "      <th>cod</th>\n",
       "      <th>name</th>\n",
       "      <th>generation</th>\n",
       "      <th>status</th>\n",
       "      <th>species</th>\n",
       "      <th>form</th>\n",
       "      <th>type1</th>\n",
       "      <th>type2</th>\n",
       "      <th>height_m</th>\n",
       "      <th>weight_kg</th>\n",
       "      <th>total</th>\n",
       "      <th>hp</th>\n",
       "      <th>attack</th>\n",
       "      <th>defense</th>\n",
       "      <th>spatk</th>\n",
       "      <th>spdef</th>\n",
       "      <th>speed</th>\n",
       "      <th>img</th>\n",
       "    </tr>\n",
       "  </thead>\n",
       "  <tbody>\n",
       "    <tr>\n",
       "      <th>145</th>\n",
       "      <td>113</td>\n",
       "      <td>Chansey</td>\n",
       "      <td>1</td>\n",
       "      <td>Normal</td>\n",
       "      <td>Egg Pokémon</td>\n",
       "      <td></td>\n",
       "      <td>Normal</td>\n",
       "      <td></td>\n",
       "      <td>1.1</td>\n",
       "      <td>34.6</td>\n",
       "      <td>450</td>\n",
       "      <td>250</td>\n",
       "      <td>5</td>\n",
       "      <td>5</td>\n",
       "      <td>35</td>\n",
       "      <td>105</td>\n",
       "      <td>50</td>\n",
       "      <td>https://img.pokemondb.net/sprites/home/normal/...</td>\n",
       "    </tr>\n",
       "  </tbody>\n",
       "</table>\n",
       "</div>"
      ],
      "text/plain": [
       "     cod     name  generation  status      species form   type1 type2  \\\n",
       "145  113  Chansey           1  Normal  Egg Pokémon       Normal         \n",
       "\n",
       "     height_m  weight_kg  total   hp  attack  defense  spatk  spdef  speed  \\\n",
       "145       1.1       34.6    450  250       5        5     35    105     50   \n",
       "\n",
       "                                                   img  \n",
       "145  https://img.pokemondb.net/sprites/home/normal/...  "
      ]
     },
     "execution_count": 14,
     "metadata": {},
     "output_type": "execute_result"
    }
   ],
   "source": [
    "attackPokemonMin = dfPokemon.loc[[dfPokemon['attack'].idxmin()]]\n",
    "attackPokemonMin"
   ]
  },
  {
   "cell_type": "code",
   "execution_count": 15,
   "metadata": {
    "ExecuteTime": {
     "end_time": "2020-10-01T03:48:19.119662Z",
     "start_time": "2020-10-01T03:48:19.107917Z"
    },
    "colab": {
     "base_uri": "https://localhost:8080/",
     "height": 171
    },
    "id": "-GNyj6N_sbhD",
    "outputId": "8f89584b-3529-4013-e2d4-e817dbe6579a"
   },
   "outputs": [
    {
     "data": {
      "text/html": [
       "<img src=\"https://img.pokemondb.net/sprites/home/normal/chansey.png\" width=\"150\" height=\"150\"/>"
      ],
      "text/plain": [
       "<IPython.core.display.Image object>"
      ]
     },
     "execution_count": 15,
     "metadata": {},
     "output_type": "execute_result"
    }
   ],
   "source": [
    "Image(url=attackPokemonMin['img'].item(), width=150, height=150)"
   ]
  },
  {
   "cell_type": "markdown",
   "metadata": {
    "id": "Fs1SNxhWddof"
   },
   "source": [
    "**Comparação defense**"
   ]
  },
  {
   "cell_type": "code",
   "execution_count": 16,
   "metadata": {
    "ExecuteTime": {
     "end_time": "2020-10-01T03:48:19.151501Z",
     "start_time": "2020-10-01T03:48:19.123890Z"
    },
    "colab": {
     "base_uri": "https://localhost:8080/",
     "height": 114
    },
    "id": "m8tZhHbKdsig",
    "outputId": "0791462e-b406-4269-c492-99a2ba31964a"
   },
   "outputs": [
    {
     "data": {
      "text/html": [
       "<div>\n",
       "<style scoped>\n",
       "    .dataframe tbody tr th:only-of-type {\n",
       "        vertical-align: middle;\n",
       "    }\n",
       "\n",
       "    .dataframe tbody tr th {\n",
       "        vertical-align: top;\n",
       "    }\n",
       "\n",
       "    .dataframe thead th {\n",
       "        text-align: right;\n",
       "    }\n",
       "</style>\n",
       "<table border=\"1\" class=\"dataframe\">\n",
       "  <thead>\n",
       "    <tr style=\"text-align: right;\">\n",
       "      <th></th>\n",
       "      <th>cod</th>\n",
       "      <th>name</th>\n",
       "      <th>generation</th>\n",
       "      <th>status</th>\n",
       "      <th>species</th>\n",
       "      <th>form</th>\n",
       "      <th>type1</th>\n",
       "      <th>type2</th>\n",
       "      <th>height_m</th>\n",
       "      <th>weight_kg</th>\n",
       "      <th>total</th>\n",
       "      <th>hp</th>\n",
       "      <th>attack</th>\n",
       "      <th>defense</th>\n",
       "      <th>spatk</th>\n",
       "      <th>spdef</th>\n",
       "      <th>speed</th>\n",
       "      <th>img</th>\n",
       "    </tr>\n",
       "  </thead>\n",
       "  <tbody>\n",
       "    <tr>\n",
       "      <th>1027</th>\n",
       "      <td>890</td>\n",
       "      <td>Eternatus</td>\n",
       "      <td>8</td>\n",
       "      <td>Legendary</td>\n",
       "      <td>Gigantic Pokémon</td>\n",
       "      <td>Eternamax</td>\n",
       "      <td>Poison</td>\n",
       "      <td>Dragon</td>\n",
       "      <td>100.0</td>\n",
       "      <td>NaN</td>\n",
       "      <td>1125</td>\n",
       "      <td>255</td>\n",
       "      <td>115</td>\n",
       "      <td>250</td>\n",
       "      <td>125</td>\n",
       "      <td>250</td>\n",
       "      <td>130</td>\n",
       "      <td>https://img.pokemondb.net/sprites/home/normal/...</td>\n",
       "    </tr>\n",
       "  </tbody>\n",
       "</table>\n",
       "</div>"
      ],
      "text/plain": [
       "      cod       name  generation     status           species       form  \\\n",
       "1027  890  Eternatus           8  Legendary  Gigantic Pokémon  Eternamax   \n",
       "\n",
       "       type1   type2  height_m  weight_kg  total   hp  attack  defense  spatk  \\\n",
       "1027  Poison  Dragon     100.0        NaN   1125  255     115      250    125   \n",
       "\n",
       "      spdef  speed                                                img  \n",
       "1027    250    130  https://img.pokemondb.net/sprites/home/normal/...  "
      ]
     },
     "execution_count": 16,
     "metadata": {},
     "output_type": "execute_result"
    }
   ],
   "source": [
    "defensePokemonMax = dfPokemon.loc[[dfPokemon['defense'].idxmax()]]\n",
    "defensePokemonMax"
   ]
  },
  {
   "cell_type": "code",
   "execution_count": 17,
   "metadata": {
    "ExecuteTime": {
     "end_time": "2020-10-01T03:48:19.163220Z",
     "start_time": "2020-10-01T03:48:19.155857Z"
    },
    "colab": {
     "base_uri": "https://localhost:8080/",
     "height": 171
    },
    "id": "xAtOezvsvATx",
    "outputId": "c74d01c3-b371-4183-d83e-9f7c4a72bc94"
   },
   "outputs": [
    {
     "data": {
      "text/html": [
       "<img src=\"https://img.pokemondb.net/sprites/home/normal/eternatus-eternamax.png\" width=\"150\" height=\"150\"/>"
      ],
      "text/plain": [
       "<IPython.core.display.Image object>"
      ]
     },
     "execution_count": 17,
     "metadata": {},
     "output_type": "execute_result"
    }
   ],
   "source": [
    "Image(url=defensePokemonMax['img'].item(), width=150, height=150)"
   ]
  },
  {
   "cell_type": "code",
   "execution_count": 18,
   "metadata": {
    "ExecuteTime": {
     "end_time": "2020-10-01T03:48:19.200294Z",
     "start_time": "2020-10-01T03:48:19.169187Z"
    },
    "colab": {
     "base_uri": "https://localhost:8080/",
     "height": 114
    },
    "id": "wHmMx-fSdxVy",
    "outputId": "5a05f935-adf3-4343-b368-37be606f96a3"
   },
   "outputs": [
    {
     "data": {
      "text/html": [
       "<div>\n",
       "<style scoped>\n",
       "    .dataframe tbody tr th:only-of-type {\n",
       "        vertical-align: middle;\n",
       "    }\n",
       "\n",
       "    .dataframe tbody tr th {\n",
       "        vertical-align: top;\n",
       "    }\n",
       "\n",
       "    .dataframe thead th {\n",
       "        text-align: right;\n",
       "    }\n",
       "</style>\n",
       "<table border=\"1\" class=\"dataframe\">\n",
       "  <thead>\n",
       "    <tr style=\"text-align: right;\">\n",
       "      <th></th>\n",
       "      <th>cod</th>\n",
       "      <th>name</th>\n",
       "      <th>generation</th>\n",
       "      <th>status</th>\n",
       "      <th>species</th>\n",
       "      <th>form</th>\n",
       "      <th>type1</th>\n",
       "      <th>type2</th>\n",
       "      <th>height_m</th>\n",
       "      <th>weight_kg</th>\n",
       "      <th>total</th>\n",
       "      <th>hp</th>\n",
       "      <th>attack</th>\n",
       "      <th>defense</th>\n",
       "      <th>spatk</th>\n",
       "      <th>spdef</th>\n",
       "      <th>speed</th>\n",
       "      <th>img</th>\n",
       "    </tr>\n",
       "  </thead>\n",
       "  <tbody>\n",
       "    <tr>\n",
       "      <th>145</th>\n",
       "      <td>113</td>\n",
       "      <td>Chansey</td>\n",
       "      <td>1</td>\n",
       "      <td>Normal</td>\n",
       "      <td>Egg Pokémon</td>\n",
       "      <td></td>\n",
       "      <td>Normal</td>\n",
       "      <td></td>\n",
       "      <td>1.1</td>\n",
       "      <td>34.6</td>\n",
       "      <td>450</td>\n",
       "      <td>250</td>\n",
       "      <td>5</td>\n",
       "      <td>5</td>\n",
       "      <td>35</td>\n",
       "      <td>105</td>\n",
       "      <td>50</td>\n",
       "      <td>https://img.pokemondb.net/sprites/home/normal/...</td>\n",
       "    </tr>\n",
       "  </tbody>\n",
       "</table>\n",
       "</div>"
      ],
      "text/plain": [
       "     cod     name  generation  status      species form   type1 type2  \\\n",
       "145  113  Chansey           1  Normal  Egg Pokémon       Normal         \n",
       "\n",
       "     height_m  weight_kg  total   hp  attack  defense  spatk  spdef  speed  \\\n",
       "145       1.1       34.6    450  250       5        5     35    105     50   \n",
       "\n",
       "                                                   img  \n",
       "145  https://img.pokemondb.net/sprites/home/normal/...  "
      ]
     },
     "execution_count": 18,
     "metadata": {},
     "output_type": "execute_result"
    }
   ],
   "source": [
    "defensePokemonMin = dfPokemon.loc[[dfPokemon['defense'].idxmin()]]\n",
    "defensePokemonMin"
   ]
  },
  {
   "cell_type": "code",
   "execution_count": 19,
   "metadata": {
    "ExecuteTime": {
     "end_time": "2020-10-01T03:48:19.219853Z",
     "start_time": "2020-10-01T03:48:19.207586Z"
    },
    "colab": {
     "base_uri": "https://localhost:8080/",
     "height": 171
    },
    "id": "KjfTG3NmvDmv",
    "outputId": "78fa1125-ef51-484e-a846-90e943e99b3e"
   },
   "outputs": [
    {
     "data": {
      "text/html": [
       "<img src=\"https://img.pokemondb.net/sprites/home/normal/chansey.png\" width=\"150\" height=\"150\"/>"
      ],
      "text/plain": [
       "<IPython.core.display.Image object>"
      ]
     },
     "execution_count": 19,
     "metadata": {},
     "output_type": "execute_result"
    }
   ],
   "source": [
    "Image(url=defensePokemonMin['img'].item(), width=150, height=150)"
   ]
  },
  {
   "cell_type": "markdown",
   "metadata": {
    "id": "ay-ZSpy-d4vM"
   },
   "source": [
    "**Comparação spatk**"
   ]
  },
  {
   "cell_type": "code",
   "execution_count": 20,
   "metadata": {
    "ExecuteTime": {
     "end_time": "2020-10-01T03:48:19.257915Z",
     "start_time": "2020-10-01T03:48:19.223468Z"
    },
    "colab": {
     "base_uri": "https://localhost:8080/",
     "height": 130
    },
    "id": "ZCXGEq-Sd3Ka",
    "outputId": "3f46d318-ab4e-4ce0-8c23-ab9b679c78c8"
   },
   "outputs": [
    {
     "data": {
      "text/html": [
       "<div>\n",
       "<style scoped>\n",
       "    .dataframe tbody tr th:only-of-type {\n",
       "        vertical-align: middle;\n",
       "    }\n",
       "\n",
       "    .dataframe tbody tr th {\n",
       "        vertical-align: top;\n",
       "    }\n",
       "\n",
       "    .dataframe thead th {\n",
       "        text-align: right;\n",
       "    }\n",
       "</style>\n",
       "<table border=\"1\" class=\"dataframe\">\n",
       "  <thead>\n",
       "    <tr style=\"text-align: right;\">\n",
       "      <th></th>\n",
       "      <th>cod</th>\n",
       "      <th>name</th>\n",
       "      <th>generation</th>\n",
       "      <th>status</th>\n",
       "      <th>species</th>\n",
       "      <th>form</th>\n",
       "      <th>type1</th>\n",
       "      <th>type2</th>\n",
       "      <th>height_m</th>\n",
       "      <th>weight_kg</th>\n",
       "      <th>total</th>\n",
       "      <th>hp</th>\n",
       "      <th>attack</th>\n",
       "      <th>defense</th>\n",
       "      <th>spatk</th>\n",
       "      <th>spdef</th>\n",
       "      <th>speed</th>\n",
       "      <th>img</th>\n",
       "    </tr>\n",
       "  </thead>\n",
       "  <tbody>\n",
       "    <tr>\n",
       "      <th>190</th>\n",
       "      <td>150</td>\n",
       "      <td>Mewtwo</td>\n",
       "      <td>1</td>\n",
       "      <td>Legendary</td>\n",
       "      <td>Genetic Pokémon</td>\n",
       "      <td>Mega Mewtwo Y</td>\n",
       "      <td>Psychic</td>\n",
       "      <td></td>\n",
       "      <td>1.5</td>\n",
       "      <td>33.0</td>\n",
       "      <td>780</td>\n",
       "      <td>106</td>\n",
       "      <td>150</td>\n",
       "      <td>70</td>\n",
       "      <td>194</td>\n",
       "      <td>120</td>\n",
       "      <td>140</td>\n",
       "      <td>https://img.pokemondb.net/sprites/home/normal/...</td>\n",
       "    </tr>\n",
       "  </tbody>\n",
       "</table>\n",
       "</div>"
      ],
      "text/plain": [
       "     cod    name  generation     status          species           form  \\\n",
       "190  150  Mewtwo           1  Legendary  Genetic Pokémon  Mega Mewtwo Y   \n",
       "\n",
       "       type1 type2  height_m  weight_kg  total   hp  attack  defense  spatk  \\\n",
       "190  Psychic             1.5       33.0    780  106     150       70    194   \n",
       "\n",
       "     spdef  speed                                                img  \n",
       "190    120    140  https://img.pokemondb.net/sprites/home/normal/...  "
      ]
     },
     "execution_count": 20,
     "metadata": {},
     "output_type": "execute_result"
    }
   ],
   "source": [
    "spatkPokemonMax = dfPokemon.loc[[dfPokemon['spatk'].idxmax()]]\n",
    "spatkPokemonMax"
   ]
  },
  {
   "cell_type": "code",
   "execution_count": 21,
   "metadata": {
    "ExecuteTime": {
     "end_time": "2020-10-01T03:48:19.273763Z",
     "start_time": "2020-10-01T03:48:19.262696Z"
    },
    "colab": {
     "base_uri": "https://localhost:8080/",
     "height": 171
    },
    "id": "9MAB8N17vEn6",
    "outputId": "f9f4446a-38a9-427f-8bce-410359756fe8"
   },
   "outputs": [
    {
     "data": {
      "text/html": [
       "<img src=\"https://img.pokemondb.net/sprites/home/normal/mewtwo-mega-y.png\" width=\"150\" height=\"150\"/>"
      ],
      "text/plain": [
       "<IPython.core.display.Image object>"
      ]
     },
     "execution_count": 21,
     "metadata": {},
     "output_type": "execute_result"
    }
   ],
   "source": [
    "Image(url=spatkPokemonMax['img'].item(), width=150, height=150)"
   ]
  },
  {
   "cell_type": "code",
   "execution_count": 22,
   "metadata": {
    "ExecuteTime": {
     "end_time": "2020-10-01T03:48:19.310851Z",
     "start_time": "2020-10-01T03:48:19.282382Z"
    },
    "colab": {
     "base_uri": "https://localhost:8080/",
     "height": 114
    },
    "id": "MhJvyrZteFvG",
    "outputId": "2373f555-76d9-4062-cc5a-8d8f76781479"
   },
   "outputs": [
    {
     "data": {
      "text/html": [
       "<div>\n",
       "<style scoped>\n",
       "    .dataframe tbody tr th:only-of-type {\n",
       "        vertical-align: middle;\n",
       "    }\n",
       "\n",
       "    .dataframe tbody tr th {\n",
       "        vertical-align: top;\n",
       "    }\n",
       "\n",
       "    .dataframe thead th {\n",
       "        text-align: right;\n",
       "    }\n",
       "</style>\n",
       "<table border=\"1\" class=\"dataframe\">\n",
       "  <thead>\n",
       "    <tr style=\"text-align: right;\">\n",
       "      <th></th>\n",
       "      <th>cod</th>\n",
       "      <th>name</th>\n",
       "      <th>generation</th>\n",
       "      <th>status</th>\n",
       "      <th>species</th>\n",
       "      <th>form</th>\n",
       "      <th>type1</th>\n",
       "      <th>type2</th>\n",
       "      <th>height_m</th>\n",
       "      <th>weight_kg</th>\n",
       "      <th>total</th>\n",
       "      <th>hp</th>\n",
       "      <th>attack</th>\n",
       "      <th>defense</th>\n",
       "      <th>spatk</th>\n",
       "      <th>spdef</th>\n",
       "      <th>speed</th>\n",
       "      <th>img</th>\n",
       "    </tr>\n",
       "  </thead>\n",
       "  <tbody>\n",
       "    <tr>\n",
       "      <th>345</th>\n",
       "      <td>292</td>\n",
       "      <td>Shedinja</td>\n",
       "      <td>3</td>\n",
       "      <td>Normal</td>\n",
       "      <td>Shed Pokémon</td>\n",
       "      <td></td>\n",
       "      <td>Bug</td>\n",
       "      <td>Ghost</td>\n",
       "      <td>0.8</td>\n",
       "      <td>1.2</td>\n",
       "      <td>236</td>\n",
       "      <td>1</td>\n",
       "      <td>90</td>\n",
       "      <td>45</td>\n",
       "      <td>30</td>\n",
       "      <td>30</td>\n",
       "      <td>40</td>\n",
       "      <td>https://img.pokemondb.net/sprites/home/normal/...</td>\n",
       "    </tr>\n",
       "  </tbody>\n",
       "</table>\n",
       "</div>"
      ],
      "text/plain": [
       "     cod      name  generation  status       species form type1  type2  \\\n",
       "345  292  Shedinja           3  Normal  Shed Pokémon        Bug  Ghost   \n",
       "\n",
       "     height_m  weight_kg  total  hp  attack  defense  spatk  spdef  speed  \\\n",
       "345       0.8        1.2    236   1      90       45     30     30     40   \n",
       "\n",
       "                                                   img  \n",
       "345  https://img.pokemondb.net/sprites/home/normal/...  "
      ]
     },
     "execution_count": 22,
     "metadata": {},
     "output_type": "execute_result"
    }
   ],
   "source": [
    "spatkPokemonMin = dfPokemon.loc[[dfPokemon['hp'].idxmin()]]\n",
    "spatkPokemonMin"
   ]
  },
  {
   "cell_type": "code",
   "execution_count": 23,
   "metadata": {
    "ExecuteTime": {
     "end_time": "2020-10-01T03:48:19.323037Z",
     "start_time": "2020-10-01T03:48:19.316406Z"
    },
    "colab": {
     "base_uri": "https://localhost:8080/",
     "height": 171
    },
    "id": "F03XHZyxvFY3",
    "outputId": "a5e2f34b-53b8-4a45-9f2e-089cccb52f72"
   },
   "outputs": [
    {
     "data": {
      "text/html": [
       "<img src=\"https://img.pokemondb.net/sprites/home/normal/shedinja.png\" width=\"150\" height=\"150\"/>"
      ],
      "text/plain": [
       "<IPython.core.display.Image object>"
      ]
     },
     "execution_count": 23,
     "metadata": {},
     "output_type": "execute_result"
    }
   ],
   "source": [
    "Image(url=spatkPokemonMin['img'].item(), width=150, height=150)"
   ]
  },
  {
   "cell_type": "markdown",
   "metadata": {
    "id": "bBjV5AxUeJmI"
   },
   "source": [
    "**Comparação spdef**"
   ]
  },
  {
   "cell_type": "code",
   "execution_count": 24,
   "metadata": {
    "ExecuteTime": {
     "end_time": "2020-10-01T03:48:19.355571Z",
     "start_time": "2020-10-01T03:48:19.326786Z"
    },
    "colab": {
     "base_uri": "https://localhost:8080/",
     "height": 114
    },
    "id": "CeK-WFGyeMX_",
    "outputId": "ab58abe9-6afc-492c-d605-97fd50389e0e"
   },
   "outputs": [
    {
     "data": {
      "text/html": [
       "<div>\n",
       "<style scoped>\n",
       "    .dataframe tbody tr th:only-of-type {\n",
       "        vertical-align: middle;\n",
       "    }\n",
       "\n",
       "    .dataframe tbody tr th {\n",
       "        vertical-align: top;\n",
       "    }\n",
       "\n",
       "    .dataframe thead th {\n",
       "        text-align: right;\n",
       "    }\n",
       "</style>\n",
       "<table border=\"1\" class=\"dataframe\">\n",
       "  <thead>\n",
       "    <tr style=\"text-align: right;\">\n",
       "      <th></th>\n",
       "      <th>cod</th>\n",
       "      <th>name</th>\n",
       "      <th>generation</th>\n",
       "      <th>status</th>\n",
       "      <th>species</th>\n",
       "      <th>form</th>\n",
       "      <th>type1</th>\n",
       "      <th>type2</th>\n",
       "      <th>height_m</th>\n",
       "      <th>weight_kg</th>\n",
       "      <th>total</th>\n",
       "      <th>hp</th>\n",
       "      <th>attack</th>\n",
       "      <th>defense</th>\n",
       "      <th>spatk</th>\n",
       "      <th>spdef</th>\n",
       "      <th>speed</th>\n",
       "      <th>img</th>\n",
       "    </tr>\n",
       "  </thead>\n",
       "  <tbody>\n",
       "    <tr>\n",
       "      <th>1027</th>\n",
       "      <td>890</td>\n",
       "      <td>Eternatus</td>\n",
       "      <td>8</td>\n",
       "      <td>Legendary</td>\n",
       "      <td>Gigantic Pokémon</td>\n",
       "      <td>Eternamax</td>\n",
       "      <td>Poison</td>\n",
       "      <td>Dragon</td>\n",
       "      <td>100.0</td>\n",
       "      <td>NaN</td>\n",
       "      <td>1125</td>\n",
       "      <td>255</td>\n",
       "      <td>115</td>\n",
       "      <td>250</td>\n",
       "      <td>125</td>\n",
       "      <td>250</td>\n",
       "      <td>130</td>\n",
       "      <td>https://img.pokemondb.net/sprites/home/normal/...</td>\n",
       "    </tr>\n",
       "  </tbody>\n",
       "</table>\n",
       "</div>"
      ],
      "text/plain": [
       "      cod       name  generation     status           species       form  \\\n",
       "1027  890  Eternatus           8  Legendary  Gigantic Pokémon  Eternamax   \n",
       "\n",
       "       type1   type2  height_m  weight_kg  total   hp  attack  defense  spatk  \\\n",
       "1027  Poison  Dragon     100.0        NaN   1125  255     115      250    125   \n",
       "\n",
       "      spdef  speed                                                img  \n",
       "1027    250    130  https://img.pokemondb.net/sprites/home/normal/...  "
      ]
     },
     "execution_count": 24,
     "metadata": {},
     "output_type": "execute_result"
    }
   ],
   "source": [
    "spdefPokemonMax = dfPokemon.loc[[dfPokemon['spdef'].idxmax()]]\n",
    "spdefPokemonMax"
   ]
  },
  {
   "cell_type": "code",
   "execution_count": 25,
   "metadata": {
    "ExecuteTime": {
     "end_time": "2020-10-01T03:48:19.368648Z",
     "start_time": "2020-10-01T03:48:19.358361Z"
    },
    "colab": {
     "base_uri": "https://localhost:8080/",
     "height": 171
    },
    "id": "fArw5LmGvHMo",
    "outputId": "25c35185-5a1a-429e-87b6-e6845b5314fd"
   },
   "outputs": [
    {
     "data": {
      "text/html": [
       "<img src=\"https://img.pokemondb.net/sprites/home/normal/eternatus-eternamax.png\" width=\"150\" height=\"150\"/>"
      ],
      "text/plain": [
       "<IPython.core.display.Image object>"
      ]
     },
     "execution_count": 25,
     "metadata": {},
     "output_type": "execute_result"
    }
   ],
   "source": [
    "Image(url=spdefPokemonMax['img'].item(), width=150, height=150)"
   ]
  },
  {
   "cell_type": "code",
   "execution_count": 26,
   "metadata": {
    "ExecuteTime": {
     "end_time": "2020-10-01T03:48:19.397484Z",
     "start_time": "2020-10-01T03:48:19.371992Z"
    },
    "colab": {
     "base_uri": "https://localhost:8080/",
     "height": 114
    },
    "id": "T68FBWg3ePnD",
    "outputId": "4ade1748-f8af-4c12-a8e4-e7ebfa7d91cd"
   },
   "outputs": [
    {
     "data": {
      "text/html": [
       "<div>\n",
       "<style scoped>\n",
       "    .dataframe tbody tr th:only-of-type {\n",
       "        vertical-align: middle;\n",
       "    }\n",
       "\n",
       "    .dataframe tbody tr th {\n",
       "        vertical-align: top;\n",
       "    }\n",
       "\n",
       "    .dataframe thead th {\n",
       "        text-align: right;\n",
       "    }\n",
       "</style>\n",
       "<table border=\"1\" class=\"dataframe\">\n",
       "  <thead>\n",
       "    <tr style=\"text-align: right;\">\n",
       "      <th></th>\n",
       "      <th>cod</th>\n",
       "      <th>name</th>\n",
       "      <th>generation</th>\n",
       "      <th>status</th>\n",
       "      <th>species</th>\n",
       "      <th>form</th>\n",
       "      <th>type1</th>\n",
       "      <th>type2</th>\n",
       "      <th>height_m</th>\n",
       "      <th>weight_kg</th>\n",
       "      <th>total</th>\n",
       "      <th>hp</th>\n",
       "      <th>attack</th>\n",
       "      <th>defense</th>\n",
       "      <th>spatk</th>\n",
       "      <th>spdef</th>\n",
       "      <th>speed</th>\n",
       "      <th>img</th>\n",
       "    </tr>\n",
       "  </thead>\n",
       "  <tbody>\n",
       "    <tr>\n",
       "      <th>13</th>\n",
       "      <td>010</td>\n",
       "      <td>Caterpie</td>\n",
       "      <td>1</td>\n",
       "      <td>Normal</td>\n",
       "      <td>Worm Pokémon</td>\n",
       "      <td></td>\n",
       "      <td>Bug</td>\n",
       "      <td></td>\n",
       "      <td>0.3</td>\n",
       "      <td>2.9</td>\n",
       "      <td>195</td>\n",
       "      <td>45</td>\n",
       "      <td>30</td>\n",
       "      <td>35</td>\n",
       "      <td>20</td>\n",
       "      <td>20</td>\n",
       "      <td>45</td>\n",
       "      <td>https://img.pokemondb.net/sprites/home/normal/...</td>\n",
       "    </tr>\n",
       "  </tbody>\n",
       "</table>\n",
       "</div>"
      ],
      "text/plain": [
       "    cod      name  generation  status       species form type1 type2  \\\n",
       "13  010  Caterpie           1  Normal  Worm Pokémon        Bug         \n",
       "\n",
       "    height_m  weight_kg  total  hp  attack  defense  spatk  spdef  speed  \\\n",
       "13       0.3        2.9    195  45      30       35     20     20     45   \n",
       "\n",
       "                                                  img  \n",
       "13  https://img.pokemondb.net/sprites/home/normal/...  "
      ]
     },
     "execution_count": 26,
     "metadata": {},
     "output_type": "execute_result"
    }
   ],
   "source": [
    "spdefPokemonMin = dfPokemon.loc[[dfPokemon['spdef'].idxmin()]]\n",
    "spdefPokemonMin"
   ]
  },
  {
   "cell_type": "code",
   "execution_count": 27,
   "metadata": {
    "ExecuteTime": {
     "end_time": "2020-10-01T03:48:19.406368Z",
     "start_time": "2020-10-01T03:48:19.400202Z"
    },
    "colab": {
     "base_uri": "https://localhost:8080/",
     "height": 171
    },
    "id": "2z-SnK9MvImC",
    "outputId": "ce84daba-cfd2-4b19-e27b-480742ed5b0a"
   },
   "outputs": [
    {
     "data": {
      "text/html": [
       "<img src=\"https://img.pokemondb.net/sprites/home/normal/caterpie.png\" width=\"150\" height=\"150\"/>"
      ],
      "text/plain": [
       "<IPython.core.display.Image object>"
      ]
     },
     "execution_count": 27,
     "metadata": {},
     "output_type": "execute_result"
    }
   ],
   "source": [
    "Image(url=spdefPokemonMin['img'].item(), width=150, height=150)"
   ]
  },
  {
   "cell_type": "markdown",
   "metadata": {
    "id": "TU0w3dV-fome"
   },
   "source": [
    "**Comparação speed**"
   ]
  },
  {
   "cell_type": "code",
   "execution_count": 28,
   "metadata": {
    "ExecuteTime": {
     "end_time": "2020-10-01T03:48:19.439549Z",
     "start_time": "2020-10-01T03:48:19.410724Z"
    },
    "colab": {
     "base_uri": "https://localhost:8080/",
     "height": 114
    },
    "id": "K8apC9oFfsbH",
    "outputId": "78dff298-64bd-4cc7-8d7a-170f02348453"
   },
   "outputs": [
    {
     "data": {
      "text/html": [
       "<div>\n",
       "<style scoped>\n",
       "    .dataframe tbody tr th:only-of-type {\n",
       "        vertical-align: middle;\n",
       "    }\n",
       "\n",
       "    .dataframe tbody tr th {\n",
       "        vertical-align: top;\n",
       "    }\n",
       "\n",
       "    .dataframe thead th {\n",
       "        text-align: right;\n",
       "    }\n",
       "</style>\n",
       "<table border=\"1\" class=\"dataframe\">\n",
       "  <thead>\n",
       "    <tr style=\"text-align: right;\">\n",
       "      <th></th>\n",
       "      <th>cod</th>\n",
       "      <th>name</th>\n",
       "      <th>generation</th>\n",
       "      <th>status</th>\n",
       "      <th>species</th>\n",
       "      <th>form</th>\n",
       "      <th>type1</th>\n",
       "      <th>type2</th>\n",
       "      <th>height_m</th>\n",
       "      <th>weight_kg</th>\n",
       "      <th>total</th>\n",
       "      <th>hp</th>\n",
       "      <th>attack</th>\n",
       "      <th>defense</th>\n",
       "      <th>spatk</th>\n",
       "      <th>spdef</th>\n",
       "      <th>speed</th>\n",
       "      <th>img</th>\n",
       "    </tr>\n",
       "  </thead>\n",
       "  <tbody>\n",
       "    <tr>\n",
       "      <th>463</th>\n",
       "      <td>386</td>\n",
       "      <td>Deoxys</td>\n",
       "      <td>3</td>\n",
       "      <td>Mythical</td>\n",
       "      <td>DNA Pokémon</td>\n",
       "      <td>Speed Forme</td>\n",
       "      <td>Psychic</td>\n",
       "      <td></td>\n",
       "      <td>1.7</td>\n",
       "      <td>60.8</td>\n",
       "      <td>600</td>\n",
       "      <td>50</td>\n",
       "      <td>95</td>\n",
       "      <td>90</td>\n",
       "      <td>95</td>\n",
       "      <td>90</td>\n",
       "      <td>180</td>\n",
       "      <td>https://img.pokemondb.net/sprites/home/normal/...</td>\n",
       "    </tr>\n",
       "  </tbody>\n",
       "</table>\n",
       "</div>"
      ],
      "text/plain": [
       "     cod    name  generation    status      species         form    type1  \\\n",
       "463  386  Deoxys           3  Mythical  DNA Pokémon  Speed Forme  Psychic   \n",
       "\n",
       "    type2  height_m  weight_kg  total  hp  attack  defense  spatk  spdef  \\\n",
       "463             1.7       60.8    600  50      95       90     95     90   \n",
       "\n",
       "     speed                                                img  \n",
       "463    180  https://img.pokemondb.net/sprites/home/normal/...  "
      ]
     },
     "execution_count": 28,
     "metadata": {},
     "output_type": "execute_result"
    }
   ],
   "source": [
    "speedPokemonMax = dfPokemon.loc[[dfPokemon['speed'].idxmax()]]\n",
    "speedPokemonMax"
   ]
  },
  {
   "cell_type": "code",
   "execution_count": 29,
   "metadata": {
    "ExecuteTime": {
     "end_time": "2020-10-01T03:48:19.452268Z",
     "start_time": "2020-10-01T03:48:19.443086Z"
    },
    "colab": {
     "base_uri": "https://localhost:8080/",
     "height": 171
    },
    "id": "V7SE6RxmvJxd",
    "outputId": "6c899e3b-2218-4b32-a4ec-e8fb9022bbc9"
   },
   "outputs": [
    {
     "data": {
      "text/html": [
       "<img src=\"https://img.pokemondb.net/sprites/home/normal/deoxys-speed.png\" width=\"150\" height=\"150\"/>"
      ],
      "text/plain": [
       "<IPython.core.display.Image object>"
      ]
     },
     "execution_count": 29,
     "metadata": {},
     "output_type": "execute_result"
    }
   ],
   "source": [
    "Image(url=speedPokemonMax['img'].item(), width=150, height=150)"
   ]
  },
  {
   "cell_type": "code",
   "execution_count": 30,
   "metadata": {
    "ExecuteTime": {
     "end_time": "2020-10-01T03:48:19.481994Z",
     "start_time": "2020-10-01T03:48:19.455744Z"
    },
    "colab": {
     "base_uri": "https://localhost:8080/",
     "height": 114
    },
    "id": "XXM1JaSbhKpK",
    "outputId": "1615be5e-84df-48ec-90ad-fa0c70cabc24"
   },
   "outputs": [
    {
     "data": {
      "text/html": [
       "<div>\n",
       "<style scoped>\n",
       "    .dataframe tbody tr th:only-of-type {\n",
       "        vertical-align: middle;\n",
       "    }\n",
       "\n",
       "    .dataframe tbody tr th {\n",
       "        vertical-align: top;\n",
       "    }\n",
       "\n",
       "    .dataframe thead th {\n",
       "        text-align: right;\n",
       "    }\n",
       "</style>\n",
       "<table border=\"1\" class=\"dataframe\">\n",
       "  <thead>\n",
       "    <tr style=\"text-align: right;\">\n",
       "      <th></th>\n",
       "      <th>cod</th>\n",
       "      <th>name</th>\n",
       "      <th>generation</th>\n",
       "      <th>status</th>\n",
       "      <th>species</th>\n",
       "      <th>form</th>\n",
       "      <th>type1</th>\n",
       "      <th>type2</th>\n",
       "      <th>height_m</th>\n",
       "      <th>weight_kg</th>\n",
       "      <th>total</th>\n",
       "      <th>hp</th>\n",
       "      <th>attack</th>\n",
       "      <th>defense</th>\n",
       "      <th>spatk</th>\n",
       "      <th>spdef</th>\n",
       "      <th>speed</th>\n",
       "      <th>img</th>\n",
       "    </tr>\n",
       "  </thead>\n",
       "  <tbody>\n",
       "    <tr>\n",
       "      <th>256</th>\n",
       "      <td>213</td>\n",
       "      <td>Shuckle</td>\n",
       "      <td>2</td>\n",
       "      <td>Normal</td>\n",
       "      <td>Mold Pokémon</td>\n",
       "      <td></td>\n",
       "      <td>Bug</td>\n",
       "      <td>Rock</td>\n",
       "      <td>0.6</td>\n",
       "      <td>20.5</td>\n",
       "      <td>505</td>\n",
       "      <td>20</td>\n",
       "      <td>10</td>\n",
       "      <td>230</td>\n",
       "      <td>10</td>\n",
       "      <td>230</td>\n",
       "      <td>5</td>\n",
       "      <td>https://img.pokemondb.net/sprites/home/normal/...</td>\n",
       "    </tr>\n",
       "  </tbody>\n",
       "</table>\n",
       "</div>"
      ],
      "text/plain": [
       "     cod     name  generation  status       species form type1 type2  \\\n",
       "256  213  Shuckle           2  Normal  Mold Pokémon        Bug  Rock   \n",
       "\n",
       "     height_m  weight_kg  total  hp  attack  defense  spatk  spdef  speed  \\\n",
       "256       0.6       20.5    505  20      10      230     10    230      5   \n",
       "\n",
       "                                                   img  \n",
       "256  https://img.pokemondb.net/sprites/home/normal/...  "
      ]
     },
     "execution_count": 30,
     "metadata": {},
     "output_type": "execute_result"
    }
   ],
   "source": [
    "speedPokemonMin = dfPokemon.loc[[dfPokemon['speed'].idxmin()]]\n",
    "speedPokemonMin"
   ]
  },
  {
   "cell_type": "code",
   "execution_count": 31,
   "metadata": {
    "ExecuteTime": {
     "end_time": "2020-10-01T03:48:19.492933Z",
     "start_time": "2020-10-01T03:48:19.486245Z"
    },
    "colab": {
     "base_uri": "https://localhost:8080/",
     "height": 171
    },
    "id": "BcYKAXtGvLPh",
    "outputId": "167c6083-4e13-4fbc-c5cd-ed0a714cc32b"
   },
   "outputs": [
    {
     "data": {
      "text/html": [
       "<img src=\"https://img.pokemondb.net/sprites/home/normal/shuckle.png\" width=\"150\" height=\"150\"/>"
      ],
      "text/plain": [
       "<IPython.core.display.Image object>"
      ]
     },
     "execution_count": 31,
     "metadata": {},
     "output_type": "execute_result"
    }
   ],
   "source": [
    "Image(url=speedPokemonMin['img'].item(), width=150, height=150)"
   ]
  },
  {
   "cell_type": "markdown",
   "metadata": {
    "id": "NEaOXWGa1KFN"
   },
   "source": [
    "**Comparação total**"
   ]
  },
  {
   "cell_type": "code",
   "execution_count": 32,
   "metadata": {
    "ExecuteTime": {
     "end_time": "2020-10-01T03:48:19.524857Z",
     "start_time": "2020-10-01T03:48:19.498110Z"
    },
    "colab": {
     "base_uri": "https://localhost:8080/",
     "height": 114
    },
    "id": "YGZduJ5h1Coj",
    "outputId": "0487102d-a40c-40bc-e243-2d3f390fd7b8"
   },
   "outputs": [
    {
     "data": {
      "text/html": [
       "<div>\n",
       "<style scoped>\n",
       "    .dataframe tbody tr th:only-of-type {\n",
       "        vertical-align: middle;\n",
       "    }\n",
       "\n",
       "    .dataframe tbody tr th {\n",
       "        vertical-align: top;\n",
       "    }\n",
       "\n",
       "    .dataframe thead th {\n",
       "        text-align: right;\n",
       "    }\n",
       "</style>\n",
       "<table border=\"1\" class=\"dataframe\">\n",
       "  <thead>\n",
       "    <tr style=\"text-align: right;\">\n",
       "      <th></th>\n",
       "      <th>cod</th>\n",
       "      <th>name</th>\n",
       "      <th>generation</th>\n",
       "      <th>status</th>\n",
       "      <th>species</th>\n",
       "      <th>form</th>\n",
       "      <th>type1</th>\n",
       "      <th>type2</th>\n",
       "      <th>height_m</th>\n",
       "      <th>weight_kg</th>\n",
       "      <th>total</th>\n",
       "      <th>hp</th>\n",
       "      <th>attack</th>\n",
       "      <th>defense</th>\n",
       "      <th>spatk</th>\n",
       "      <th>spdef</th>\n",
       "      <th>speed</th>\n",
       "      <th>img</th>\n",
       "    </tr>\n",
       "  </thead>\n",
       "  <tbody>\n",
       "    <tr>\n",
       "      <th>1027</th>\n",
       "      <td>890</td>\n",
       "      <td>Eternatus</td>\n",
       "      <td>8</td>\n",
       "      <td>Legendary</td>\n",
       "      <td>Gigantic Pokémon</td>\n",
       "      <td>Eternamax</td>\n",
       "      <td>Poison</td>\n",
       "      <td>Dragon</td>\n",
       "      <td>100.0</td>\n",
       "      <td>NaN</td>\n",
       "      <td>1125</td>\n",
       "      <td>255</td>\n",
       "      <td>115</td>\n",
       "      <td>250</td>\n",
       "      <td>125</td>\n",
       "      <td>250</td>\n",
       "      <td>130</td>\n",
       "      <td>https://img.pokemondb.net/sprites/home/normal/...</td>\n",
       "    </tr>\n",
       "  </tbody>\n",
       "</table>\n",
       "</div>"
      ],
      "text/plain": [
       "      cod       name  generation     status           species       form  \\\n",
       "1027  890  Eternatus           8  Legendary  Gigantic Pokémon  Eternamax   \n",
       "\n",
       "       type1   type2  height_m  weight_kg  total   hp  attack  defense  spatk  \\\n",
       "1027  Poison  Dragon     100.0        NaN   1125  255     115      250    125   \n",
       "\n",
       "      spdef  speed                                                img  \n",
       "1027    250    130  https://img.pokemondb.net/sprites/home/normal/...  "
      ]
     },
     "execution_count": 32,
     "metadata": {},
     "output_type": "execute_result"
    }
   ],
   "source": [
    "totalPokemonMax = dfPokemon.loc[[dfPokemon['total'].idxmax()]]\n",
    "totalPokemonMax"
   ]
  },
  {
   "cell_type": "code",
   "execution_count": 33,
   "metadata": {
    "ExecuteTime": {
     "end_time": "2020-10-01T03:48:19.537165Z",
     "start_time": "2020-10-01T03:48:19.528969Z"
    },
    "colab": {
     "base_uri": "https://localhost:8080/",
     "height": 171
    },
    "id": "bkFT0XY41WeI",
    "outputId": "dc213317-b38b-44ec-d529-6369c6b21049"
   },
   "outputs": [
    {
     "data": {
      "text/html": [
       "<img src=\"https://img.pokemondb.net/sprites/home/normal/eternatus-eternamax.png\" width=\"150\" height=\"150\"/>"
      ],
      "text/plain": [
       "<IPython.core.display.Image object>"
      ]
     },
     "execution_count": 33,
     "metadata": {},
     "output_type": "execute_result"
    }
   ],
   "source": [
    "Image(url=totalPokemonMax['img'].item(), width=150, height=150)"
   ]
  },
  {
   "cell_type": "code",
   "execution_count": 34,
   "metadata": {
    "ExecuteTime": {
     "end_time": "2020-10-01T03:48:19.566564Z",
     "start_time": "2020-10-01T03:48:19.540596Z"
    },
    "colab": {
     "base_uri": "https://localhost:8080/",
     "height": 114
    },
    "id": "3GizC75U1fml",
    "outputId": "3d150177-bd3d-4728-d811-7911260a4809"
   },
   "outputs": [
    {
     "data": {
      "text/html": [
       "<div>\n",
       "<style scoped>\n",
       "    .dataframe tbody tr th:only-of-type {\n",
       "        vertical-align: middle;\n",
       "    }\n",
       "\n",
       "    .dataframe tbody tr th {\n",
       "        vertical-align: top;\n",
       "    }\n",
       "\n",
       "    .dataframe thead th {\n",
       "        text-align: right;\n",
       "    }\n",
       "</style>\n",
       "<table border=\"1\" class=\"dataframe\">\n",
       "  <thead>\n",
       "    <tr style=\"text-align: right;\">\n",
       "      <th></th>\n",
       "      <th>cod</th>\n",
       "      <th>name</th>\n",
       "      <th>generation</th>\n",
       "      <th>status</th>\n",
       "      <th>species</th>\n",
       "      <th>form</th>\n",
       "      <th>type1</th>\n",
       "      <th>type2</th>\n",
       "      <th>height_m</th>\n",
       "      <th>weight_kg</th>\n",
       "      <th>total</th>\n",
       "      <th>hp</th>\n",
       "      <th>attack</th>\n",
       "      <th>defense</th>\n",
       "      <th>spatk</th>\n",
       "      <th>spdef</th>\n",
       "      <th>speed</th>\n",
       "      <th>img</th>\n",
       "    </tr>\n",
       "  </thead>\n",
       "  <tbody>\n",
       "    <tr>\n",
       "      <th>871</th>\n",
       "      <td>746</td>\n",
       "      <td>Wishiwashi</td>\n",
       "      <td>7</td>\n",
       "      <td>Normal</td>\n",
       "      <td>Small Fry Pokémon</td>\n",
       "      <td>Solo Form</td>\n",
       "      <td>Water</td>\n",
       "      <td></td>\n",
       "      <td>0.2</td>\n",
       "      <td>0.3</td>\n",
       "      <td>175</td>\n",
       "      <td>45</td>\n",
       "      <td>20</td>\n",
       "      <td>20</td>\n",
       "      <td>25</td>\n",
       "      <td>25</td>\n",
       "      <td>40</td>\n",
       "      <td>https://img.pokemondb.net/sprites/home/normal/...</td>\n",
       "    </tr>\n",
       "  </tbody>\n",
       "</table>\n",
       "</div>"
      ],
      "text/plain": [
       "     cod        name  generation  status            species       form  type1  \\\n",
       "871  746  Wishiwashi           7  Normal  Small Fry Pokémon  Solo Form  Water   \n",
       "\n",
       "    type2  height_m  weight_kg  total  hp  attack  defense  spatk  spdef  \\\n",
       "871             0.2        0.3    175  45      20       20     25     25   \n",
       "\n",
       "     speed                                                img  \n",
       "871     40  https://img.pokemondb.net/sprites/home/normal/...  "
      ]
     },
     "execution_count": 34,
     "metadata": {},
     "output_type": "execute_result"
    }
   ],
   "source": [
    "totalPokemonMin = dfPokemon.loc[[dfPokemon['total'].idxmin()]]\n",
    "totalPokemonMin"
   ]
  },
  {
   "cell_type": "code",
   "execution_count": 35,
   "metadata": {
    "ExecuteTime": {
     "end_time": "2020-10-01T03:48:19.577259Z",
     "start_time": "2020-10-01T03:48:19.570252Z"
    },
    "colab": {
     "base_uri": "https://localhost:8080/",
     "height": 171
    },
    "id": "NQsiHK5e2LPf",
    "outputId": "a42f0b34-b7f9-4a72-ec68-19910f1acadf"
   },
   "outputs": [
    {
     "data": {
      "text/html": [
       "<img src=\"https://img.pokemondb.net/sprites/home/normal/wishiwashi-solo.png\" width=\"150\" height=\"150\"/>"
      ],
      "text/plain": [
       "<IPython.core.display.Image object>"
      ]
     },
     "execution_count": 35,
     "metadata": {},
     "output_type": "execute_result"
    }
   ],
   "source": [
    "Image(url=totalPokemonMin['img'].item(), width=150, height=150)"
   ]
  }
 ],
 "metadata": {
  "colab": {
   "include_colab_link": true,
   "name": "Projeto 1 - Processamento de dados.ipynb",
   "provenance": [],
   "toc_visible": true
  },
  "kernelspec": {
   "display_name": "Python 3",
   "language": "python",
   "name": "python3"
  },
  "language_info": {
   "codemirror_mode": {
    "name": "ipython",
    "version": 3
   },
   "file_extension": ".py",
   "mimetype": "text/x-python",
   "name": "python",
   "nbconvert_exporter": "python",
   "pygments_lexer": "ipython3",
   "version": "3.8.2"
  }
 },
 "nbformat": 4,
 "nbformat_minor": 1
}
