{
  "nbformat": 4,
  "nbformat_minor": 0,
  "metadata": {
    "colab": {
      "name": "Projeto 1 - Processamento de dados.ipynb",
      "provenance": [],
      "authorship_tag": "ABX9TyOC2sDdwAHs95xvDVSKgrPC",
      "include_colab_link": true
    },
    "kernelspec": {
      "name": "python3",
      "display_name": "Python 3"
    }
  },
  "cells": [
    {
      "cell_type": "markdown",
      "metadata": {
        "id": "view-in-github",
        "colab_type": "text"
      },
      "source": [
        "<a href=\"https://colab.research.google.com/github/BrenoUSP/SCC0652_Computational_Visualization/blob/master/notebooks/Projeto_1_Processamento_de_dados.ipynb\" target=\"_parent\"><img src=\"https://colab.research.google.com/assets/colab-badge.svg\" alt=\"Open In Colab\"/></a>"
      ]
    },
    {
      "cell_type": "markdown",
      "metadata": {
        "id": "ZjnGg3J0TMEQ",
        "colab_type": "text"
      },
      "source": [
        "# Projeto 1 - Processamento de dados\n",
        "\n"
      ]
    },
    {
      "cell_type": "markdown",
      "metadata": {
        "id": "gQu34CeJUPEe",
        "colab_type": "text"
      },
      "source": [
        "Alunos:\n",
        "\n",
        "Afonso Henrique Piacentini Garcia, Nº USP: 9795272\n",
        "\n",
        "Breno Lívio Silva de Almeida, Nº USP: 10276675\n",
        "\n",
        "Vitor Henrique Gratiere Torres, Nº USP: 10284952\n"
      ]
    },
    {
      "cell_type": "markdown",
      "metadata": {
        "id": "gGf-rOJPUTR9",
        "colab_type": "text"
      },
      "source": [
        "\n",
        "\n",
        "---\n",
        "\n"
      ]
    },
    {
      "cell_type": "markdown",
      "metadata": {
        "id": "HVnmE2tLVCC6",
        "colab_type": "text"
      },
      "source": [
        "## Descrição"
      ]
    },
    {
      "cell_type": "markdown",
      "metadata": {
        "id": "YDkp01_0UWox",
        "colab_type": "text"
      },
      "source": [
        "Essa parte do projeto da disciplina consiste no processamento de um conjunto de dados, um dataset."
      ]
    },
    {
      "cell_type": "markdown",
      "metadata": {
        "id": "G6VtIp8nU8k2",
        "colab_type": "text"
      },
      "source": [
        "## Desenvolvimento"
      ]
    },
    {
      "cell_type": "markdown",
      "metadata": {
        "id": "hHxaEGb4VHdO",
        "colab_type": "text"
      },
      "source": [
        ""
      ]
    },
    {
      "cell_type": "code",
      "metadata": {
        "id": "v80yq8iQS_BP",
        "colab_type": "code",
        "colab": {}
      },
      "source": [
        ""
      ],
      "execution_count": null,
      "outputs": []
    }
  ]
}