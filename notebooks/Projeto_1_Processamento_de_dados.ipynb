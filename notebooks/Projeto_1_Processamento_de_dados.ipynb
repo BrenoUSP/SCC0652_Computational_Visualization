{
  "nbformat": 4,
  "nbformat_minor": 0,
  "metadata": {
    "colab": {
      "name": "Projeto 1 - Processamento de dados.ipynb",
      "provenance": [],
      "include_colab_link": true
    },
    "kernelspec": {
      "name": "python3",
      "display_name": "Python 3"
    }
  },
  "cells": [
    {
      "cell_type": "markdown",
      "metadata": {
        "id": "view-in-github",
        "colab_type": "text"
      },
      "source": [
        "<a href=\"https://colab.research.google.com/github/brenoslivio/SCC0652_Computational_Visualization/blob/master/notebooks/Projeto_1_Processamento_de_dados.ipynb\" target=\"_parent\"><img src=\"https://colab.research.google.com/assets/colab-badge.svg\" alt=\"Open In Colab\"/></a>"
      ]
    },
    {
      "cell_type": "markdown",
      "metadata": {
        "id": "ZjnGg3J0TMEQ",
        "colab_type": "text"
      },
      "source": [
        "# Projeto 1 - Processamento de dados\n",
        "\n"
      ]
    },
    {
      "cell_type": "markdown",
      "metadata": {
        "id": "gQu34CeJUPEe",
        "colab_type": "text"
      },
      "source": [
        "Alunos:\n",
        "\n",
        "Afonso Henrique Piacentini Garcia, Nº USP: 9795272\n",
        "\n",
        "Breno Lívio Silva de Almeida, Nº USP: 10276675\n",
        "\n",
        "Vitor Henrique Gratiere Torres, Nº USP: 10284952\n"
      ]
    },
    {
      "cell_type": "markdown",
      "metadata": {
        "id": "gGf-rOJPUTR9",
        "colab_type": "text"
      },
      "source": [
        "\n",
        "\n",
        "---\n",
        "\n"
      ]
    },
    {
      "cell_type": "markdown",
      "metadata": {
        "id": "HVnmE2tLVCC6",
        "colab_type": "text"
      },
      "source": [
        "## Descrição"
      ]
    },
    {
      "cell_type": "markdown",
      "metadata": {
        "id": "YDkp01_0UWox",
        "colab_type": "text"
      },
      "source": [
        "Essa parte do projeto da disciplina consiste no processamento de um conjunto de dados, um dataset."
      ]
    },
    {
      "cell_type": "markdown",
      "metadata": {
        "id": "G6VtIp8nU8k2",
        "colab_type": "text"
      },
      "source": [
        "## Desenvolvimento"
      ]
    },
    {
      "cell_type": "markdown",
      "metadata": {
        "id": "hHxaEGb4VHdO",
        "colab_type": "text"
      },
      "source": [
        "Leitura do CSV como Data Frame"
      ]
    },
    {
      "cell_type": "code",
      "metadata": {
        "id": "v80yq8iQS_BP",
        "colab_type": "code",
        "colab": {
          "base_uri": "https://localhost:8080/",
          "height": 424
        },
        "outputId": "66e19b15-0a8c-4b7f-fb43-b81d71035bc8"
      },
      "source": [
        "import pandas as pd\n",
        "\n",
        "dfPokemon = pd.read_csv(\"https://raw.githubusercontent.com/brenoslivio/SCC0652_Computational_Visualization/master/notebooks/crawler/pokemon.csv\")\n",
        "\n",
        "dfPokemon"
      ],
      "execution_count": 3,
      "outputs": [
        {
          "output_type": "execute_result",
          "data": {
            "text/html": [
              "<div>\n",
              "<style scoped>\n",
              "    .dataframe tbody tr th:only-of-type {\n",
              "        vertical-align: middle;\n",
              "    }\n",
              "\n",
              "    .dataframe tbody tr th {\n",
              "        vertical-align: top;\n",
              "    }\n",
              "\n",
              "    .dataframe thead th {\n",
              "        text-align: right;\n",
              "    }\n",
              "</style>\n",
              "<table border=\"1\" class=\"dataframe\">\n",
              "  <thead>\n",
              "    <tr style=\"text-align: right;\">\n",
              "      <th></th>\n",
              "      <th>attack</th>\n",
              "      <th>cod</th>\n",
              "      <th>defense</th>\n",
              "      <th>hp</th>\n",
              "      <th>img</th>\n",
              "      <th>name</th>\n",
              "      <th>spatk</th>\n",
              "      <th>spdef</th>\n",
              "      <th>speed</th>\n",
              "      <th>subtitle</th>\n",
              "      <th>total</th>\n",
              "      <th>type1</th>\n",
              "      <th>type2</th>\n",
              "    </tr>\n",
              "  </thead>\n",
              "  <tbody>\n",
              "    <tr>\n",
              "      <th>0</th>\n",
              "      <td>49</td>\n",
              "      <td>1</td>\n",
              "      <td>49</td>\n",
              "      <td>45</td>\n",
              "      <td>https://img.pokemondb.net/sprites/sword-shield...</td>\n",
              "      <td>Bulbasaur</td>\n",
              "      <td>65</td>\n",
              "      <td>65</td>\n",
              "      <td>45</td>\n",
              "      <td>NaN</td>\n",
              "      <td>318</td>\n",
              "      <td>Grass</td>\n",
              "      <td>Poison</td>\n",
              "    </tr>\n",
              "    <tr>\n",
              "      <th>1</th>\n",
              "      <td>62</td>\n",
              "      <td>2</td>\n",
              "      <td>63</td>\n",
              "      <td>60</td>\n",
              "      <td>https://img.pokemondb.net/sprites/sword-shield...</td>\n",
              "      <td>Ivysaur</td>\n",
              "      <td>80</td>\n",
              "      <td>80</td>\n",
              "      <td>60</td>\n",
              "      <td>NaN</td>\n",
              "      <td>405</td>\n",
              "      <td>Grass</td>\n",
              "      <td>Poison</td>\n",
              "    </tr>\n",
              "    <tr>\n",
              "      <th>2</th>\n",
              "      <td>82</td>\n",
              "      <td>3</td>\n",
              "      <td>83</td>\n",
              "      <td>80</td>\n",
              "      <td>https://img.pokemondb.net/sprites/sword-shield...</td>\n",
              "      <td>Venusaur</td>\n",
              "      <td>100</td>\n",
              "      <td>100</td>\n",
              "      <td>80</td>\n",
              "      <td>NaN</td>\n",
              "      <td>525</td>\n",
              "      <td>Grass</td>\n",
              "      <td>Poison</td>\n",
              "    </tr>\n",
              "    <tr>\n",
              "      <th>3</th>\n",
              "      <td>100</td>\n",
              "      <td>3</td>\n",
              "      <td>123</td>\n",
              "      <td>80</td>\n",
              "      <td>https://img.pokemondb.net/sprites/sword-shield...</td>\n",
              "      <td>Venusaur</td>\n",
              "      <td>122</td>\n",
              "      <td>120</td>\n",
              "      <td>80</td>\n",
              "      <td>Mega Venusaur</td>\n",
              "      <td>625</td>\n",
              "      <td>Grass</td>\n",
              "      <td>Poison</td>\n",
              "    </tr>\n",
              "    <tr>\n",
              "      <th>4</th>\n",
              "      <td>52</td>\n",
              "      <td>4</td>\n",
              "      <td>43</td>\n",
              "      <td>39</td>\n",
              "      <td>https://img.pokemondb.net/sprites/sword-shield...</td>\n",
              "      <td>Charmander</td>\n",
              "      <td>60</td>\n",
              "      <td>50</td>\n",
              "      <td>65</td>\n",
              "      <td>NaN</td>\n",
              "      <td>309</td>\n",
              "      <td>Fire</td>\n",
              "      <td>NaN</td>\n",
              "    </tr>\n",
              "    <tr>\n",
              "      <th>...</th>\n",
              "      <td>...</td>\n",
              "      <td>...</td>\n",
              "      <td>...</td>\n",
              "      <td>...</td>\n",
              "      <td>...</td>\n",
              "      <td>...</td>\n",
              "      <td>...</td>\n",
              "      <td>...</td>\n",
              "      <td>...</td>\n",
              "      <td>...</td>\n",
              "      <td>...</td>\n",
              "      <td>...</td>\n",
              "      <td>...</td>\n",
              "    </tr>\n",
              "    <tr>\n",
              "      <th>1029</th>\n",
              "      <td>115</td>\n",
              "      <td>890</td>\n",
              "      <td>250</td>\n",
              "      <td>255</td>\n",
              "      <td>https://img.pokemondb.net/sprites/sword-shield...</td>\n",
              "      <td>Eternatus</td>\n",
              "      <td>125</td>\n",
              "      <td>250</td>\n",
              "      <td>130</td>\n",
              "      <td>Eternamax</td>\n",
              "      <td>1125</td>\n",
              "      <td>Poison</td>\n",
              "      <td>Dragon</td>\n",
              "    </tr>\n",
              "    <tr>\n",
              "      <th>1030</th>\n",
              "      <td>90</td>\n",
              "      <td>891</td>\n",
              "      <td>60</td>\n",
              "      <td>60</td>\n",
              "      <td>https://img.pokemondb.net/s.png</td>\n",
              "      <td>Kubfu</td>\n",
              "      <td>53</td>\n",
              "      <td>50</td>\n",
              "      <td>72</td>\n",
              "      <td>NaN</td>\n",
              "      <td>385</td>\n",
              "      <td>Fighting</td>\n",
              "      <td>NaN</td>\n",
              "    </tr>\n",
              "    <tr>\n",
              "      <th>1031</th>\n",
              "      <td>130</td>\n",
              "      <td>892</td>\n",
              "      <td>100</td>\n",
              "      <td>100</td>\n",
              "      <td>https://img.pokemondb.net/s.png</td>\n",
              "      <td>Urshifu</td>\n",
              "      <td>63</td>\n",
              "      <td>60</td>\n",
              "      <td>97</td>\n",
              "      <td>Single Strike Style</td>\n",
              "      <td>550</td>\n",
              "      <td>Fighting</td>\n",
              "      <td>Dark</td>\n",
              "    </tr>\n",
              "    <tr>\n",
              "      <th>1032</th>\n",
              "      <td>130</td>\n",
              "      <td>892</td>\n",
              "      <td>100</td>\n",
              "      <td>100</td>\n",
              "      <td>https://img.pokemondb.net/s.png</td>\n",
              "      <td>Urshifu</td>\n",
              "      <td>63</td>\n",
              "      <td>60</td>\n",
              "      <td>97</td>\n",
              "      <td>Rapid Strike Style</td>\n",
              "      <td>550</td>\n",
              "      <td>Fighting</td>\n",
              "      <td>Water</td>\n",
              "    </tr>\n",
              "    <tr>\n",
              "      <th>1033</th>\n",
              "      <td>120</td>\n",
              "      <td>893</td>\n",
              "      <td>105</td>\n",
              "      <td>105</td>\n",
              "      <td>https://img.pokemondb.net/s.png</td>\n",
              "      <td>Zarude</td>\n",
              "      <td>70</td>\n",
              "      <td>95</td>\n",
              "      <td>105</td>\n",
              "      <td>NaN</td>\n",
              "      <td>600</td>\n",
              "      <td>Dark</td>\n",
              "      <td>Grass</td>\n",
              "    </tr>\n",
              "  </tbody>\n",
              "</table>\n",
              "<p>1034 rows × 13 columns</p>\n",
              "</div>"
            ],
            "text/plain": [
              "      attack  cod  defense   hp  ...             subtitle total     type1   type2\n",
              "0         49    1       49   45  ...                  NaN   318     Grass  Poison\n",
              "1         62    2       63   60  ...                  NaN   405     Grass  Poison\n",
              "2         82    3       83   80  ...                  NaN   525     Grass  Poison\n",
              "3        100    3      123   80  ...        Mega Venusaur   625     Grass  Poison\n",
              "4         52    4       43   39  ...                  NaN   309      Fire     NaN\n",
              "...      ...  ...      ...  ...  ...                  ...   ...       ...     ...\n",
              "1029     115  890      250  255  ...            Eternamax  1125    Poison  Dragon\n",
              "1030      90  891       60   60  ...                  NaN   385  Fighting     NaN\n",
              "1031     130  892      100  100  ...  Single Strike Style   550  Fighting    Dark\n",
              "1032     130  892      100  100  ...   Rapid Strike Style   550  Fighting   Water\n",
              "1033     120  893      105  105  ...                  NaN   600      Dark   Grass\n",
              "\n",
              "[1034 rows x 13 columns]"
            ]
          },
          "metadata": {
            "tags": []
          },
          "execution_count": 3
        }
      ]
    }
  ]
}