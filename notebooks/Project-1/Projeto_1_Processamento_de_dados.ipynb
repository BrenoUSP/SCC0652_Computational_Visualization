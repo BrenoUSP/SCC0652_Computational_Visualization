{
 "cells": [
  {
   "cell_type": "markdown",
   "metadata": {
    "colab_type": "text",
    "id": "view-in-github"
   },
   "source": [
    "<a href=\"https://colab.research.google.com/github/brenoslivio/SCC0652_Computational_Visualization/blob/master/notebooks/Project-1/Projeto_1_Processamento_de_dados.ipynb\" target=\"_parent\"><img src=\"https://colab.research.google.com/assets/colab-badge.svg\" alt=\"Open In Colab\"/></a>"
   ]
  },
  {
   "cell_type": "markdown",
   "metadata": {
    "id": "ZjnGg3J0TMEQ"
   },
   "source": [
    "# Projeto 1 - Processamento de dados\n",
    "\n"
   ]
  },
  {
   "cell_type": "markdown",
   "metadata": {
    "id": "oAEF8buCdv12"
   },
   "source": [
    "<br>\n"
   ]
  },
  {
   "cell_type": "markdown",
   "metadata": {
    "id": "9QjFwlQB3EkQ"
   },
   "source": [
    "**SCC0652 - Visualização Computacional (2020/2)**\n",
    "\n",
    "<br>\n",
    "\n",
    "[Projeto no GitHub](https://github.com/brenoslivio/SCC0652_Computational_Visualization)\n",
    "\n",
    "<br>\n",
    "\n",
    "**Alunos:**\n",
    "\n",
    "Afonso Henrique Piacentini Garcia, Nº USP: 9795272\n",
    "\n",
    "Breno Lívio Silva de Almeida, Nº USP: 10276675\n",
    "\n",
    "Vitor Henrique Gratiere Torres, Nº USP: 10284952"
   ]
  },
  {
   "cell_type": "markdown",
   "metadata": {
    "id": "gGf-rOJPUTR9"
   },
   "source": [
    "---"
   ]
  },
  {
   "cell_type": "markdown",
   "metadata": {
    "id": "8YcFlMMrZn7p"
   },
   "source": [
    "## Sumário\n",
    "\n",
    "\n",
    "1. [Descrição](#descricao)\n",
    "\n",
    "  1.1 [pokemon.csv](#pokemoncsv)\n",
    "\n",
    "  1.2 [pokemonKaggle.csv](#kagglecsv)\n",
    "\n",
    "  1.3 [Gerações dos Pokémons](#generations)\n",
    "\n",
    "\n",
    "2. [Desenvolvimento](#desenvolvimento)\n",
    "\n",
    "  2.1 [Gerando o Data Frame principal](#dataframe)\n",
    "\n",
    "  2.2 [Análise dos dados](#analise)\n",
    "\n",
    "  * [Códigos das Pokédex](#pokedexcod)\n",
    "\n",
    "  * [Outliers](#outliers)\n",
    "\n",
    "  * [Comparações entre os extremos dos stats](#extremos)\n",
    "\n",
    "  * [As melhores gerações](#bestgen)\n",
    "\n",
    "  * [Resumo descritivo](#resumo)\n"
   ]
  },
  {
   "cell_type": "markdown",
   "metadata": {
    "id": "HVnmE2tLVCC6"
   },
   "source": [
    "## Descrição <a name=\"descricao\"></a>\n",
    "\n",
    "Essa parte do projeto da disciplina consiste no processamento de um conjunto de dados, um dataset. O conjunto de dados escolhido foi o de [Pokémons](https://www.pokemon.com/br/), do vídeo-game homônimo. As criaturas, chamadas de Pokémons, são representadas no jogo em questão por um item chamado [Pokédex](https://www.pokemon.com/br/pokedex/), que contém o nome e outras estatísticas relevantes aos jogos, como pontos de vida, ataque e etc. Os dados referentes à Pokédex foram retirados do site [Pokémon Database](https://pokemondb.net/pokedex/all). Também retiramos um [dataset do site Kaggle](https://www.kaggle.com/mariotormo/complete-pokemon-dataset-updated-090420), que utiliza a licença [Creative Commons](https://br.creativecommons.org/). Ele será usado para utilizar informações relevantes como as gerações, peso e altura dos Pokémons."
   ]
  },
  {
   "cell_type": "markdown",
   "metadata": {
    "id": "enEaSEwJ2rRT"
   },
   "source": [
    "### [pokemon.csv](https://github.com/brenoslivio/SCC0652_Computational_Visualization/blob/master/notebooks/Project-1/crawler/pokemon.csv) <a name=\"pokemoncsv\"></a>\n",
    "\n",
    "*   attack: stat que indica o poder de ataque fisico base do pokémon;\n",
    "*   cod: O número do pokémon na Pokédex;\n",
    "*   defense: stat que indica a defesa física base do pokémon;\n",
    "*   hp: stat que indica a vida base do pokémon;\n",
    "*   img: link para a imagem do pokémon;\n",
    "*   name: O nome do pokémon;\n",
    "*   spatk: stat que indica o poder de ataque especial do pokémon;\n",
    "*   spdef: stat que indica o poder de defesa especial do pokémon;\n",
    "*   speed: stat que indica a velocidade base do pokémon;\n",
    "*   form: discriminante de mega evoluções e outras formas;\n",
    "*   total: soma total dos stats do pokémon;\n",
    "*   type1: tipo do pokémon;\n",
    "*   type2: segundo tipo do pokémon, caso possua."
   ]
  },
  {
   "cell_type": "markdown",
   "metadata": {
    "id": "QyHBh_l8Gan9"
   },
   "source": [
    "### [pokemonKaggle.csv](https://github.com/brenoslivio/SCC0652_Computational_Visualization/blob/master/notebooks/Project-1/kaggle/pokedexKaggle.csv) <a name=\"kagglecsv\"></a>\n",
    "\n",
    "Dataset retirado do Kaggle, do qual retiraram-se algumas outras informações dos pokémons, as quais foram unificadas posteriormente com o dataset obtido através do crawler. As colunas aproveitadas, neste caso, foram:\n",
    "\n",
    "* name: Nome do pokémon;\n",
    "* generation: a qual geração o pokémon em questão pertence;\n",
    "*   status: refere-se a raridade do pokémon, variando de normal até mítico;\n",
    "*   species: apelido dado para cada pokémon baseado em algum de seus atributos;\n",
    "*   height_m: altura do pokémon em metros;\n",
    "*   weight_kg: peso do pokémon em kilogramas."
   ]
  },
  {
   "cell_type": "markdown",
   "metadata": {
    "id": "fIOxU-dtsJRO"
   },
   "source": [
    "### Gerações dos Pokémons <a name=\"generations\"></a>\n",
    "\n",
    "A série de jogos Pokémon se iniciou em 1996, com os jogos *Pokemon Red* e *Pokemon Green*. Com o passar do tempo e lançamento de novos jogos, novas criaturas e mecânicas foram sendo integradas ao jogo, e com isso criou-se o sistema de gerações para facilitar a organização dos pokemons. Essa divisão será importante para a forma que iremos agrupar os dados no decorrer do projeto.\n",
    "\n",
    "1ª geração: Bulbasaur 001 - Mew 151\n",
    "\n",
    "2ª geração: Chikorita 152 - Celebi 251\n",
    "\n",
    "3ª geração: Treecko 252 - Deoxys 386\n",
    "\n",
    "4ª geração: Turtwig 387 - Arceus 493\n",
    "\n",
    "5ª geração: Victini 494 - Genesect 649\n",
    "\n",
    "6ª geração: Chespin 650 - Volcanion 721\n",
    "\n",
    "7ª geração: Rowlet 722 - Melmetal 809\n",
    "\n",
    "8ª geração: Grookey 810 - Zarude 893*\n",
    "\n",
    "- Observação: A Pokédex da 8ª geração ainda está em desenvolvimento pela  *Pokémon Company*. Nos limitaremos ao banco de dados disponível até o presente momento: 20\\09\\2020"
   ]
  },
  {
   "cell_type": "markdown",
   "metadata": {
    "id": "G6VtIp8nU8k2"
   },
   "source": [
    "## Desenvolvimento <a name=\"desenvolvimento\"></a>\n",
    "\n",
    "Aqui trabalhamos com a geração do Data Frame principal, além de analisar os dados coletados."
   ]
  },
  {
   "cell_type": "markdown",
   "metadata": {
    "id": "GtKMu9dM4AWK"
   },
   "source": [
    "### Gerando o Data Frame principal <a name=\"dataframe\"></a>\n",
    "\n",
    "Vamos trabalhar com os datasets coletados para gerar um único Data Frame do Pandas."
   ]
  },
  {
   "cell_type": "markdown",
   "metadata": {
    "id": "GOrAkqs5HJXW"
   },
   "source": [
    "Leitura do CSV gerado do Pokémon Database como data frame do Pandas"
   ]
  },
  {
   "cell_type": "code",
   "execution_count": 1,
   "metadata": {
    "ExecuteTime": {
     "end_time": "2020-10-29T05:38:09.747141Z",
     "start_time": "2020-10-29T05:38:08.526811Z"
    },
    "colab": {
     "base_uri": "https://localhost:8080/",
     "height": 293
    },
    "id": "v80yq8iQS_BP",
    "outputId": "b015b02b-2d48-4b54-a733-931ca19846ac"
   },
   "outputs": [
    {
     "data": {
      "text/html": [
       "<div>\n",
       "<style scoped>\n",
       "    .dataframe tbody tr th:only-of-type {\n",
       "        vertical-align: middle;\n",
       "    }\n",
       "\n",
       "    .dataframe tbody tr th {\n",
       "        vertical-align: top;\n",
       "    }\n",
       "\n",
       "    .dataframe thead th {\n",
       "        text-align: right;\n",
       "    }\n",
       "</style>\n",
       "<table border=\"1\" class=\"dataframe\">\n",
       "  <thead>\n",
       "    <tr style=\"text-align: right;\">\n",
       "      <th></th>\n",
       "      <th>attack</th>\n",
       "      <th>cod</th>\n",
       "      <th>defense</th>\n",
       "      <th>form</th>\n",
       "      <th>hp</th>\n",
       "      <th>img</th>\n",
       "      <th>name</th>\n",
       "      <th>spatk</th>\n",
       "      <th>spdef</th>\n",
       "      <th>speed</th>\n",
       "      <th>total</th>\n",
       "      <th>type1</th>\n",
       "      <th>type2</th>\n",
       "    </tr>\n",
       "  </thead>\n",
       "  <tbody>\n",
       "    <tr>\n",
       "      <th>7</th>\n",
       "      <td>130</td>\n",
       "      <td>006</td>\n",
       "      <td>111</td>\n",
       "      <td>Mega Charizard X</td>\n",
       "      <td>78</td>\n",
       "      <td>https://img.pokemondb.net/sprites/home/normal/...</td>\n",
       "      <td>Charizard</td>\n",
       "      <td>130</td>\n",
       "      <td>85</td>\n",
       "      <td>100</td>\n",
       "      <td>634</td>\n",
       "      <td>Fire</td>\n",
       "      <td>Dragon</td>\n",
       "    </tr>\n",
       "    <tr>\n",
       "      <th>158</th>\n",
       "      <td>65</td>\n",
       "      <td>122</td>\n",
       "      <td>65</td>\n",
       "      <td>Galarian Mr. Mime</td>\n",
       "      <td>50</td>\n",
       "      <td>https://img.pokemondb.net/sprites/home/normal/...</td>\n",
       "      <td>Mr. Mime</td>\n",
       "      <td>90</td>\n",
       "      <td>90</td>\n",
       "      <td>100</td>\n",
       "      <td>460</td>\n",
       "      <td>Psychic</td>\n",
       "      <td>Ice</td>\n",
       "    </tr>\n",
       "    <tr>\n",
       "      <th>794</th>\n",
       "      <td>72</td>\n",
       "      <td>683</td>\n",
       "      <td>72</td>\n",
       "      <td></td>\n",
       "      <td>101</td>\n",
       "      <td>https://img.pokemondb.net/sprites/home/normal/...</td>\n",
       "      <td>Aromatisse</td>\n",
       "      <td>99</td>\n",
       "      <td>89</td>\n",
       "      <td>29</td>\n",
       "      <td>462</td>\n",
       "      <td>Fairy</td>\n",
       "      <td></td>\n",
       "    </tr>\n",
       "    <tr>\n",
       "      <th>654</th>\n",
       "      <td>160</td>\n",
       "      <td>555</td>\n",
       "      <td>55</td>\n",
       "      <td>Galarian Zen Mode</td>\n",
       "      <td>105</td>\n",
       "      <td>https://img.pokemondb.net/sprites/home/normal/...</td>\n",
       "      <td>Darmanitan</td>\n",
       "      <td>30</td>\n",
       "      <td>55</td>\n",
       "      <td>135</td>\n",
       "      <td>540</td>\n",
       "      <td>Ice</td>\n",
       "      <td>Fire</td>\n",
       "    </tr>\n",
       "    <tr>\n",
       "      <th>479</th>\n",
       "      <td>85</td>\n",
       "      <td>400</td>\n",
       "      <td>60</td>\n",
       "      <td></td>\n",
       "      <td>79</td>\n",
       "      <td>https://img.pokemondb.net/sprites/home/normal/...</td>\n",
       "      <td>Bibarel</td>\n",
       "      <td>55</td>\n",
       "      <td>60</td>\n",
       "      <td>71</td>\n",
       "      <td>410</td>\n",
       "      <td>Normal</td>\n",
       "      <td>Water</td>\n",
       "    </tr>\n",
       "  </tbody>\n",
       "</table>\n",
       "</div>"
      ],
      "text/plain": [
       "     attack  cod  defense               form   hp  \\\n",
       "7       130  006      111   Mega Charizard X   78   \n",
       "158      65  122       65  Galarian Mr. Mime   50   \n",
       "794      72  683       72                     101   \n",
       "654     160  555       55  Galarian Zen Mode  105   \n",
       "479      85  400       60                      79   \n",
       "\n",
       "                                                   img        name  spatk  \\\n",
       "7    https://img.pokemondb.net/sprites/home/normal/...   Charizard    130   \n",
       "158  https://img.pokemondb.net/sprites/home/normal/...    Mr. Mime     90   \n",
       "794  https://img.pokemondb.net/sprites/home/normal/...  Aromatisse     99   \n",
       "654  https://img.pokemondb.net/sprites/home/normal/...  Darmanitan     30   \n",
       "479  https://img.pokemondb.net/sprites/home/normal/...     Bibarel     55   \n",
       "\n",
       "     spdef  speed  total    type1   type2  \n",
       "7       85    100    634     Fire  Dragon  \n",
       "158     90    100    460  Psychic     Ice  \n",
       "794     89     29    462    Fairy          \n",
       "654     55    135    540      Ice    Fire  \n",
       "479     60     71    410   Normal   Water  "
      ]
     },
     "execution_count": 1,
     "metadata": {},
     "output_type": "execute_result"
    }
   ],
   "source": [
    "import numpy as np\n",
    "import pandas as pd\n",
    "\n",
    "from IPython.display import Image\n",
    "from IPython.core.display import HTML\n",
    "\n",
    "dfPokemonDB = pd.read_csv(\n",
    "    \"https://raw.githubusercontent.com/brenoslivio/SCC0652_Computationa\"\n",
    "    + \"l_Visualization/master/notebooks/Project-1/crawler/pokemon.csv\",\n",
    "    dtype={\n",
    "        \"attack\": np.int32,\n",
    "        \"cod\": str,\n",
    "        \"defense\": np.int32,\n",
    "        \"hp\": np.int32,\n",
    "        \"spatk\": np.int32,\n",
    "        \"spdef\": np.int32,\n",
    "        \"speed\": np.int32,\n",
    "        \"total\": np.int32,\n",
    "    },\n",
    "    keep_default_na=False,\n",
    ")\n",
    "\n",
    "dfPokemonDB[\"img\"].replace(\"\", np.nan, inplace=True)\n",
    "\n",
    "dfPokemonDB.dropna(subset=[\"img\"], inplace=True)\n",
    "\n",
    "dfPokemonDB.sample(5)"
   ]
  },
  {
   "cell_type": "markdown",
   "metadata": {
    "id": "14zNeZyrE0se"
   },
   "source": [
    "Leitura do CSV retirado do Kaggle como data frame do Pandas"
   ]
  },
  {
   "cell_type": "code",
   "execution_count": 2,
   "metadata": {
    "ExecuteTime": {
     "end_time": "2020-10-29T05:38:10.239367Z",
     "start_time": "2020-10-29T05:38:09.754820Z"
    },
    "colab": {
     "base_uri": "https://localhost:8080/",
     "height": 206
    },
    "id": "0P_cYGm6E02u",
    "outputId": "aa259aad-391a-4403-f4ed-066a6a870df6"
   },
   "outputs": [
    {
     "data": {
      "text/html": [
       "<div>\n",
       "<style scoped>\n",
       "    .dataframe tbody tr th:only-of-type {\n",
       "        vertical-align: middle;\n",
       "    }\n",
       "\n",
       "    .dataframe tbody tr th {\n",
       "        vertical-align: top;\n",
       "    }\n",
       "\n",
       "    .dataframe thead th {\n",
       "        text-align: right;\n",
       "    }\n",
       "</style>\n",
       "<table border=\"1\" class=\"dataframe\">\n",
       "  <thead>\n",
       "    <tr style=\"text-align: right;\">\n",
       "      <th></th>\n",
       "      <th>name</th>\n",
       "      <th>generation</th>\n",
       "      <th>status</th>\n",
       "      <th>species</th>\n",
       "      <th>height_m</th>\n",
       "      <th>weight_kg</th>\n",
       "    </tr>\n",
       "  </thead>\n",
       "  <tbody>\n",
       "    <tr>\n",
       "      <th>338</th>\n",
       "      <td>Shroomish</td>\n",
       "      <td>3</td>\n",
       "      <td>Normal</td>\n",
       "      <td>Mushroom Pokémon</td>\n",
       "      <td>0.4</td>\n",
       "      <td>4.5</td>\n",
       "    </tr>\n",
       "    <tr>\n",
       "      <th>47</th>\n",
       "      <td>Clefable</td>\n",
       "      <td>1</td>\n",
       "      <td>Normal</td>\n",
       "      <td>Fairy Pokémon</td>\n",
       "      <td>1.3</td>\n",
       "      <td>40.0</td>\n",
       "    </tr>\n",
       "    <tr>\n",
       "      <th>177</th>\n",
       "      <td>Kabuto</td>\n",
       "      <td>1</td>\n",
       "      <td>Normal</td>\n",
       "      <td>Shellfish Pokémon</td>\n",
       "      <td>0.5</td>\n",
       "      <td>11.5</td>\n",
       "    </tr>\n",
       "    <tr>\n",
       "      <th>185</th>\n",
       "      <td>Dratini</td>\n",
       "      <td>1</td>\n",
       "      <td>Normal</td>\n",
       "      <td>Dragon Pokémon</td>\n",
       "      <td>1.8</td>\n",
       "      <td>3.3</td>\n",
       "    </tr>\n",
       "    <tr>\n",
       "      <th>858</th>\n",
       "      <td>Crabrawler</td>\n",
       "      <td>7</td>\n",
       "      <td>Normal</td>\n",
       "      <td>Boxing Pokémon</td>\n",
       "      <td>0.6</td>\n",
       "      <td>7.0</td>\n",
       "    </tr>\n",
       "  </tbody>\n",
       "</table>\n",
       "</div>"
      ],
      "text/plain": [
       "           name  generation  status            species  height_m  weight_kg\n",
       "338   Shroomish           3  Normal   Mushroom Pokémon       0.4        4.5\n",
       "47     Clefable           1  Normal      Fairy Pokémon       1.3       40.0\n",
       "177      Kabuto           1  Normal  Shellfish Pokémon       0.5       11.5\n",
       "185     Dratini           1  Normal     Dragon Pokémon       1.8        3.3\n",
       "858  Crabrawler           7  Normal     Boxing Pokémon       0.6        7.0"
      ]
     },
     "execution_count": 2,
     "metadata": {},
     "output_type": "execute_result"
    }
   ],
   "source": [
    "dfPokemonKaggle = pd.read_csv(\n",
    "    \"https://raw.githubusercontent.com/brenoslivio/SCC0652_Computationa\"\n",
    "    + \"l_Visualization/master/notebooks/Project-1/kaggle/pokedexKaggle.\"\n",
    "    + \"csv\",\n",
    "    usecols=[\n",
    "        \"name\",\n",
    "        \"generation\",\n",
    "        \"status\",\n",
    "        \"species\",\n",
    "        \"height_m\",\n",
    "        \"weight_kg\",\n",
    "    ],\n",
    "    dtype={\n",
    "        \"name\": str,\n",
    "        \"generation\": np.int32,\n",
    "        \"status\": str,\n",
    "        \"species\": str,\n",
    "        \"height_m\": np.float64,\n",
    "        \"weight_kg\": np.float64,\n",
    "    },\n",
    ")\n",
    "\n",
    "dfPokemonKaggle.sample(5)"
   ]
  },
  {
   "cell_type": "markdown",
   "metadata": {
    "id": "tam_S9x3t02m"
   },
   "source": [
    "Vamos juntar os dois datasets, combinando as variáveis relevantes para análise.\n",
    "\n",
    "Para unificarmos duas tabelas precisamos guiar a junção com chaves primárias, no dataframe ```dfPokemonDB``` a chave primária é a junção dos atributos ```name``` e ```form```, enquanto no dataframe ```dfPokemonKaggle``` é o atributo ```name```."
   ]
  },
  {
   "cell_type": "code",
   "execution_count": 3,
   "metadata": {
    "ExecuteTime": {
     "end_time": "2020-10-29T05:38:10.302120Z",
     "start_time": "2020-10-29T05:38:10.243508Z"
    },
    "id": "cPxPmRobt0_9"
   },
   "outputs": [],
   "source": [
    "# No nosso dataframe criamos uma nova coluna 'tmp' que recebe uma copia\n",
    "# da coluna 'form'\n",
    "dfPokemonDB[\"tmp\"] = dfPokemonDB.loc[:, \"form\"]\n",
    "\n",
    "# Nessa nova coluna todas as linhas que estiverem vazias receberao os\n",
    "# valores da coluna 'name'\n",
    "dfPokemonDB.loc[\n",
    "    dfPokemonDB.loc[:, \"tmp\"] == \"\", \"tmp\"\n",
    "] = dfPokemonDB.loc[:, \"name\"]\n",
    "\n",
    "# Tratando casos de borda:\n",
    "# Pokemons com 'Form', 'Cloak', 'Mode', 'Male', 'Female', 'Size' e\n",
    "# 'Style' na sua forma devem seguir a definicao 'tmp' = 'name' + 'form'\n",
    "for exception in [\n",
    "    \"Form\",\n",
    "    \"Cloak\",\n",
    "    \"Mode\",\n",
    "    \"Male\",\n",
    "    \"Female\",\n",
    "    \"Size\",\n",
    "    \"Style\",\n",
    "]:\n",
    "    dfPokemonDB.loc[\n",
    "        dfPokemonDB.loc[:, \"form\"].str.contains(exception), \"tmp\"\n",
    "    ] = (dfPokemonDB.loc[:, \"name\"] + \" \" + dfPokemonDB.loc[:, \"form\"])\n",
    "\n",
    "# Tratando casos de borda:\n",
    "# Pokemons com os nomes 'Hoopa', 'Eiscue', 'Zacian' e 'Zamazenta'\n",
    "# tambem devem seguir a definicao 'tmp' = 'name' + 'form'\n",
    "for exception in [\"Hoopa\", \"Eiscue\", \"Zacian\", \"Zamazenta\"]:\n",
    "    dfPokemonDB.loc[\n",
    "        dfPokemonDB.loc[:, \"name\"].str.contains(exception), \"tmp\"\n",
    "    ] = (dfPokemonDB.loc[:, \"name\"] + \" \" + dfPokemonDB.loc[:, \"form\"])\n",
    "\n",
    "# Duas excecoes precisam ser tratadas manualmente\n",
    "dfPokemonDB.loc[dfPokemonDB.loc[:, \"name\"] == \"Keldeo\", \"tmp\"] = (\n",
    "    dfPokemonDB.loc[:, \"tmp\"] + \"e\"\n",
    ")\n",
    "dfPokemonDB.loc[dfPokemonDB.loc[:, \"form\"] == \"Eternamax\", \"tmp\"] = (\n",
    "    dfPokemonDB.loc[:, \"name\"] + \" \" + dfPokemonDB.loc[:, \"form\"]\n",
    ")"
   ]
  },
  {
   "cell_type": "markdown",
   "metadata": {
    "id": "OvgHpkxK4ajG"
   },
   "source": [
    "Finalmente damos o merge entre os datasets, trocando as colunas para lugares mais convenientes"
   ]
  },
  {
   "cell_type": "code",
   "execution_count": 4,
   "metadata": {
    "ExecuteTime": {
     "end_time": "2020-10-29T05:38:10.354783Z",
     "start_time": "2020-10-29T05:38:10.305834Z"
    },
    "colab": {
     "base_uri": "https://localhost:8080/",
     "height": 313
    },
    "id": "M5rB5Svn-IvR",
    "outputId": "0539e0f4-0004-4910-cb98-3f0fdb9e6ea7"
   },
   "outputs": [
    {
     "data": {
      "text/html": [
       "<div>\n",
       "<style scoped>\n",
       "    .dataframe tbody tr th:only-of-type {\n",
       "        vertical-align: middle;\n",
       "    }\n",
       "\n",
       "    .dataframe tbody tr th {\n",
       "        vertical-align: top;\n",
       "    }\n",
       "\n",
       "    .dataframe thead th {\n",
       "        text-align: right;\n",
       "    }\n",
       "</style>\n",
       "<table border=\"1\" class=\"dataframe\">\n",
       "  <thead>\n",
       "    <tr style=\"text-align: right;\">\n",
       "      <th></th>\n",
       "      <th>cod</th>\n",
       "      <th>name</th>\n",
       "      <th>generation</th>\n",
       "      <th>status</th>\n",
       "      <th>species</th>\n",
       "      <th>form</th>\n",
       "      <th>type1</th>\n",
       "      <th>type2</th>\n",
       "      <th>height_m</th>\n",
       "      <th>weight_kg</th>\n",
       "      <th>total</th>\n",
       "      <th>hp</th>\n",
       "      <th>attack</th>\n",
       "      <th>defense</th>\n",
       "      <th>spatk</th>\n",
       "      <th>spdef</th>\n",
       "      <th>speed</th>\n",
       "      <th>img</th>\n",
       "    </tr>\n",
       "  </thead>\n",
       "  <tbody>\n",
       "    <tr>\n",
       "      <th>606</th>\n",
       "      <td>515</td>\n",
       "      <td>Panpour</td>\n",
       "      <td>5</td>\n",
       "      <td>Normal</td>\n",
       "      <td>Spray Pokémon</td>\n",
       "      <td></td>\n",
       "      <td>Water</td>\n",
       "      <td></td>\n",
       "      <td>0.6</td>\n",
       "      <td>13.5</td>\n",
       "      <td>316</td>\n",
       "      <td>50</td>\n",
       "      <td>53</td>\n",
       "      <td>48</td>\n",
       "      <td>53</td>\n",
       "      <td>48</td>\n",
       "      <td>64</td>\n",
       "      <td>https://img.pokemondb.net/sprites/home/normal/...</td>\n",
       "    </tr>\n",
       "    <tr>\n",
       "      <th>688</th>\n",
       "      <td>590</td>\n",
       "      <td>Foongus</td>\n",
       "      <td>5</td>\n",
       "      <td>Normal</td>\n",
       "      <td>Mushroom Pokémon</td>\n",
       "      <td></td>\n",
       "      <td>Grass</td>\n",
       "      <td>Poison</td>\n",
       "      <td>0.2</td>\n",
       "      <td>1.0</td>\n",
       "      <td>294</td>\n",
       "      <td>69</td>\n",
       "      <td>55</td>\n",
       "      <td>45</td>\n",
       "      <td>55</td>\n",
       "      <td>55</td>\n",
       "      <td>15</td>\n",
       "      <td>https://img.pokemondb.net/sprites/home/normal/...</td>\n",
       "    </tr>\n",
       "    <tr>\n",
       "      <th>205</th>\n",
       "      <td>165</td>\n",
       "      <td>Ledyba</td>\n",
       "      <td>2</td>\n",
       "      <td>Normal</td>\n",
       "      <td>Five Star Pokémon</td>\n",
       "      <td></td>\n",
       "      <td>Bug</td>\n",
       "      <td>Flying</td>\n",
       "      <td>1.0</td>\n",
       "      <td>10.8</td>\n",
       "      <td>265</td>\n",
       "      <td>40</td>\n",
       "      <td>20</td>\n",
       "      <td>30</td>\n",
       "      <td>40</td>\n",
       "      <td>80</td>\n",
       "      <td>55</td>\n",
       "      <td>https://img.pokemondb.net/sprites/home/normal/...</td>\n",
       "    </tr>\n",
       "    <tr>\n",
       "      <th>13</th>\n",
       "      <td>010</td>\n",
       "      <td>Caterpie</td>\n",
       "      <td>1</td>\n",
       "      <td>Normal</td>\n",
       "      <td>Worm Pokémon</td>\n",
       "      <td></td>\n",
       "      <td>Bug</td>\n",
       "      <td></td>\n",
       "      <td>0.3</td>\n",
       "      <td>2.9</td>\n",
       "      <td>195</td>\n",
       "      <td>45</td>\n",
       "      <td>30</td>\n",
       "      <td>35</td>\n",
       "      <td>20</td>\n",
       "      <td>20</td>\n",
       "      <td>45</td>\n",
       "      <td>https://img.pokemondb.net/sprites/home/normal/...</td>\n",
       "    </tr>\n",
       "    <tr>\n",
       "      <th>173</th>\n",
       "      <td>136</td>\n",
       "      <td>Flareon</td>\n",
       "      <td>1</td>\n",
       "      <td>Normal</td>\n",
       "      <td>Flame Pokémon</td>\n",
       "      <td></td>\n",
       "      <td>Fire</td>\n",
       "      <td></td>\n",
       "      <td>0.9</td>\n",
       "      <td>25.0</td>\n",
       "      <td>525</td>\n",
       "      <td>65</td>\n",
       "      <td>130</td>\n",
       "      <td>60</td>\n",
       "      <td>95</td>\n",
       "      <td>110</td>\n",
       "      <td>65</td>\n",
       "      <td>https://img.pokemondb.net/sprites/home/normal/...</td>\n",
       "    </tr>\n",
       "  </tbody>\n",
       "</table>\n",
       "</div>"
      ],
      "text/plain": [
       "     cod      name  generation  status            species form  type1   type2  \\\n",
       "606  515   Panpour           5  Normal      Spray Pokémon       Water           \n",
       "688  590   Foongus           5  Normal   Mushroom Pokémon       Grass  Poison   \n",
       "205  165    Ledyba           2  Normal  Five Star Pokémon         Bug  Flying   \n",
       "13   010  Caterpie           1  Normal       Worm Pokémon         Bug           \n",
       "173  136   Flareon           1  Normal      Flame Pokémon        Fire           \n",
       "\n",
       "     height_m  weight_kg  total  hp  attack  defense  spatk  spdef  speed  \\\n",
       "606       0.6       13.5    316  50      53       48     53     48     64   \n",
       "688       0.2        1.0    294  69      55       45     55     55     15   \n",
       "205       1.0       10.8    265  40      20       30     40     80     55   \n",
       "13        0.3        2.9    195  45      30       35     20     20     45   \n",
       "173       0.9       25.0    525  65     130       60     95    110     65   \n",
       "\n",
       "                                                   img  \n",
       "606  https://img.pokemondb.net/sprites/home/normal/...  \n",
       "688  https://img.pokemondb.net/sprites/home/normal/...  \n",
       "205  https://img.pokemondb.net/sprites/home/normal/...  \n",
       "13   https://img.pokemondb.net/sprites/home/normal/...  \n",
       "173  https://img.pokemondb.net/sprites/home/normal/...  "
      ]
     },
     "execution_count": 4,
     "metadata": {},
     "output_type": "execute_result"
    }
   ],
   "source": [
    "# Mudaremos tambem o nome da coluna 'name' no dataframe do Kaggle para\n",
    "# 'tmp'\n",
    "dfPokemonKaggle.rename(columns={\"name\": \"tmp\"}, inplace=True)\n",
    "\n",
    "dfPokemon = pd.merge(\n",
    "    dfPokemonDB, dfPokemonKaggle, on=\"tmp\", how=\"outer\"\n",
    ")\n",
    "\n",
    "dfPokemon = dfPokemon.drop(\"tmp\", axis=1)\n",
    "\n",
    "dfPokemon = dfPokemon[\n",
    "    [\n",
    "        \"cod\",\n",
    "        \"name\",\n",
    "        \"generation\",\n",
    "        \"status\",\n",
    "        \"species\",\n",
    "        \"form\",\n",
    "        \"type1\",\n",
    "        \"type2\",\n",
    "        \"height_m\",\n",
    "        \"weight_kg\",\n",
    "        \"total\",\n",
    "        \"hp\",\n",
    "        \"attack\",\n",
    "        \"defense\",\n",
    "        \"spatk\",\n",
    "        \"spdef\",\n",
    "        \"speed\",\n",
    "        \"img\",\n",
    "    ]\n",
    "]\n",
    "\n",
    "dfPokemon.sample(5)"
   ]
  },
  {
   "cell_type": "markdown",
   "metadata": {
    "id": "mCz5SuC2-aTb"
   },
   "source": [
    "Temos dois casos únicos para Pokémons que usam símbolos especiais em seus nomes. Podemos tratar esses dados."
   ]
  },
  {
   "cell_type": "code",
   "execution_count": 5,
   "metadata": {
    "ExecuteTime": {
     "end_time": "2020-10-29T05:38:10.380685Z",
     "start_time": "2020-10-29T05:38:10.358827Z"
    },
    "colab": {
     "base_uri": "https://localhost:8080/",
     "height": 202
    },
    "id": "T0bYekmv-apM",
    "outputId": "56cd9efd-29d5-45c7-cc8c-5c40df8ec3f4"
   },
   "outputs": [
    {
     "data": {
      "text/html": [
       "<div>\n",
       "<style scoped>\n",
       "    .dataframe tbody tr th:only-of-type {\n",
       "        vertical-align: middle;\n",
       "    }\n",
       "\n",
       "    .dataframe tbody tr th {\n",
       "        vertical-align: top;\n",
       "    }\n",
       "\n",
       "    .dataframe thead th {\n",
       "        text-align: right;\n",
       "    }\n",
       "</style>\n",
       "<table border=\"1\" class=\"dataframe\">\n",
       "  <thead>\n",
       "    <tr style=\"text-align: right;\">\n",
       "      <th></th>\n",
       "      <th>cod</th>\n",
       "      <th>name</th>\n",
       "      <th>generation</th>\n",
       "      <th>status</th>\n",
       "      <th>species</th>\n",
       "      <th>form</th>\n",
       "      <th>type1</th>\n",
       "      <th>type2</th>\n",
       "      <th>height_m</th>\n",
       "      <th>weight_kg</th>\n",
       "      <th>total</th>\n",
       "      <th>hp</th>\n",
       "      <th>attack</th>\n",
       "      <th>defense</th>\n",
       "      <th>spatk</th>\n",
       "      <th>spdef</th>\n",
       "      <th>speed</th>\n",
       "      <th>img</th>\n",
       "    </tr>\n",
       "  </thead>\n",
       "  <tbody>\n",
       "    <tr>\n",
       "      <th>40</th>\n",
       "      <td>029</td>\n",
       "      <td>Nidoran♀</td>\n",
       "      <td>1</td>\n",
       "      <td>Normal</td>\n",
       "      <td>Poison Pin Pokémon</td>\n",
       "      <td></td>\n",
       "      <td>Poison</td>\n",
       "      <td></td>\n",
       "      <td>0.4</td>\n",
       "      <td>7.0</td>\n",
       "      <td>275</td>\n",
       "      <td>55</td>\n",
       "      <td>47</td>\n",
       "      <td>52</td>\n",
       "      <td>40</td>\n",
       "      <td>40</td>\n",
       "      <td>41</td>\n",
       "      <td>https://img.pokemondb.net/sprites/home/normal/...</td>\n",
       "    </tr>\n",
       "    <tr>\n",
       "      <th>43</th>\n",
       "      <td>032</td>\n",
       "      <td>Nidoran♂</td>\n",
       "      <td>1</td>\n",
       "      <td>Normal</td>\n",
       "      <td>Poison Pin Pokémon</td>\n",
       "      <td></td>\n",
       "      <td>Poison</td>\n",
       "      <td></td>\n",
       "      <td>0.5</td>\n",
       "      <td>9.0</td>\n",
       "      <td>273</td>\n",
       "      <td>46</td>\n",
       "      <td>57</td>\n",
       "      <td>40</td>\n",
       "      <td>40</td>\n",
       "      <td>40</td>\n",
       "      <td>50</td>\n",
       "      <td>https://img.pokemondb.net/sprites/home/normal/...</td>\n",
       "    </tr>\n",
       "  </tbody>\n",
       "</table>\n",
       "</div>"
      ],
      "text/plain": [
       "    cod      name  generation  status             species form   type1 type2  \\\n",
       "40  029  Nidoran♀           1  Normal  Poison Pin Pokémon       Poison         \n",
       "43  032  Nidoran♂           1  Normal  Poison Pin Pokémon       Poison         \n",
       "\n",
       "    height_m  weight_kg  total  hp  attack  defense  spatk  spdef  speed  \\\n",
       "40       0.4        7.0    275  55      47       52     40     40     41   \n",
       "43       0.5        9.0    273  46      57       40     40     40     50   \n",
       "\n",
       "                                                  img  \n",
       "40  https://img.pokemondb.net/sprites/home/normal/...  \n",
       "43  https://img.pokemondb.net/sprites/home/normal/...  "
      ]
     },
     "execution_count": 5,
     "metadata": {},
     "output_type": "execute_result"
    }
   ],
   "source": [
    "dfPokemon.loc[dfPokemon[\"cod\"].isin([\"029\", \"032\"])]"
   ]
  },
  {
   "cell_type": "markdown",
   "metadata": {
    "id": "SlK9no9GBJs9"
   },
   "source": [
    "Substituímos os símbolos por caracteres adequados."
   ]
  },
  {
   "cell_type": "code",
   "execution_count": 6,
   "metadata": {
    "ExecuteTime": {
     "end_time": "2020-10-29T05:38:10.416173Z",
     "start_time": "2020-10-29T05:38:10.383207Z"
    },
    "colab": {
     "base_uri": "https://localhost:8080/",
     "height": 202
    },
    "id": "EyaeVvTvBJ_q",
    "outputId": "c3b6c8a0-81fe-44c2-84e7-ba4af4fe7cfe"
   },
   "outputs": [
    {
     "data": {
      "text/html": [
       "<div>\n",
       "<style scoped>\n",
       "    .dataframe tbody tr th:only-of-type {\n",
       "        vertical-align: middle;\n",
       "    }\n",
       "\n",
       "    .dataframe tbody tr th {\n",
       "        vertical-align: top;\n",
       "    }\n",
       "\n",
       "    .dataframe thead th {\n",
       "        text-align: right;\n",
       "    }\n",
       "</style>\n",
       "<table border=\"1\" class=\"dataframe\">\n",
       "  <thead>\n",
       "    <tr style=\"text-align: right;\">\n",
       "      <th></th>\n",
       "      <th>cod</th>\n",
       "      <th>name</th>\n",
       "      <th>generation</th>\n",
       "      <th>status</th>\n",
       "      <th>species</th>\n",
       "      <th>form</th>\n",
       "      <th>type1</th>\n",
       "      <th>type2</th>\n",
       "      <th>height_m</th>\n",
       "      <th>weight_kg</th>\n",
       "      <th>total</th>\n",
       "      <th>hp</th>\n",
       "      <th>attack</th>\n",
       "      <th>defense</th>\n",
       "      <th>spatk</th>\n",
       "      <th>spdef</th>\n",
       "      <th>speed</th>\n",
       "      <th>img</th>\n",
       "    </tr>\n",
       "  </thead>\n",
       "  <tbody>\n",
       "    <tr>\n",
       "      <th>40</th>\n",
       "      <td>029</td>\n",
       "      <td>Nidoran-f</td>\n",
       "      <td>1</td>\n",
       "      <td>Normal</td>\n",
       "      <td>Poison Pin Pokémon</td>\n",
       "      <td></td>\n",
       "      <td>Poison</td>\n",
       "      <td></td>\n",
       "      <td>0.4</td>\n",
       "      <td>7.0</td>\n",
       "      <td>275</td>\n",
       "      <td>55</td>\n",
       "      <td>47</td>\n",
       "      <td>52</td>\n",
       "      <td>40</td>\n",
       "      <td>40</td>\n",
       "      <td>41</td>\n",
       "      <td>https://img.pokemondb.net/sprites/home/normal/...</td>\n",
       "    </tr>\n",
       "    <tr>\n",
       "      <th>43</th>\n",
       "      <td>032</td>\n",
       "      <td>Nidoran-m</td>\n",
       "      <td>1</td>\n",
       "      <td>Normal</td>\n",
       "      <td>Poison Pin Pokémon</td>\n",
       "      <td></td>\n",
       "      <td>Poison</td>\n",
       "      <td></td>\n",
       "      <td>0.5</td>\n",
       "      <td>9.0</td>\n",
       "      <td>273</td>\n",
       "      <td>46</td>\n",
       "      <td>57</td>\n",
       "      <td>40</td>\n",
       "      <td>40</td>\n",
       "      <td>40</td>\n",
       "      <td>50</td>\n",
       "      <td>https://img.pokemondb.net/sprites/home/normal/...</td>\n",
       "    </tr>\n",
       "  </tbody>\n",
       "</table>\n",
       "</div>"
      ],
      "text/plain": [
       "    cod       name  generation  status             species form   type1 type2  \\\n",
       "40  029  Nidoran-f           1  Normal  Poison Pin Pokémon       Poison         \n",
       "43  032  Nidoran-m           1  Normal  Poison Pin Pokémon       Poison         \n",
       "\n",
       "    height_m  weight_kg  total  hp  attack  defense  spatk  spdef  speed  \\\n",
       "40       0.4        7.0    275  55      47       52     40     40     41   \n",
       "43       0.5        9.0    273  46      57       40     40     40     50   \n",
       "\n",
       "                                                  img  \n",
       "40  https://img.pokemondb.net/sprites/home/normal/...  \n",
       "43  https://img.pokemondb.net/sprites/home/normal/...  "
      ]
     },
     "execution_count": 6,
     "metadata": {},
     "output_type": "execute_result"
    }
   ],
   "source": [
    "# Indicate female\n",
    "dfPokemon[\"name\"] = dfPokemon[\"name\"].str.replace(\"♀\", \"-f\")\n",
    "# Indicate male\n",
    "dfPokemon[\"name\"] = dfPokemon[\"name\"].str.replace(\"♂\", \"-m\")\n",
    "\n",
    "dfPokemon.loc[dfPokemon[\"cod\"].isin([\"029\", \"032\"])]"
   ]
  },
  {
   "cell_type": "markdown",
   "metadata": {
    "id": "TQaVch0w4qXD"
   },
   "source": [
    "Com o tratamento dos dados, geramos o csv por meio Data Frame criado. Será usado nos próximos projetos."
   ]
  },
  {
   "cell_type": "code",
   "execution_count": 7,
   "metadata": {
    "ExecuteTime": {
     "end_time": "2020-10-29T05:38:10.465196Z",
     "start_time": "2020-10-29T05:38:10.423360Z"
    },
    "id": "gcm8mu3W-IvU"
   },
   "outputs": [],
   "source": [
    "dfPokemon.to_csv(\"dfPokemon.csv\", index=False)"
   ]
  },
  {
   "cell_type": "markdown",
   "metadata": {
    "id": "le7UkJHh7Adv"
   },
   "source": [
    "### Análise dos dados <a name=\"analise\"></a>\n",
    "\n",
    "Com o Data Frame gerado, vamos analisar os dados que temos com a ideia de entender mais acerca do nosso conjunto de dados."
   ]
  },
  {
   "cell_type": "markdown",
   "metadata": {
    "id": "BnT_vCA0C830"
   },
   "source": [
    "#### Códigos das Pokédex <a name=\"pokedexcod\"></a>\n",
    "\n",
    "Como explicado anteriormente, `cod` no data frame representa o código de cada Pokémon na Pokédex. Podemos ver os casos que forem duplicados para entender o que está acontecendo.\n",
    "\n"
   ]
  },
  {
   "cell_type": "code",
   "execution_count": 8,
   "metadata": {
    "ExecuteTime": {
     "end_time": "2020-10-29T05:38:10.505707Z",
     "start_time": "2020-10-29T05:38:10.467956Z"
    },
    "colab": {
     "base_uri": "https://localhost:8080/",
     "height": 687
    },
    "id": "7JzyjTmtC9DD",
    "outputId": "f23c5e90-4aa6-40e8-96bc-54b77b8051d5"
   },
   "outputs": [
    {
     "data": {
      "text/html": [
       "<div>\n",
       "<style scoped>\n",
       "    .dataframe tbody tr th:only-of-type {\n",
       "        vertical-align: middle;\n",
       "    }\n",
       "\n",
       "    .dataframe tbody tr th {\n",
       "        vertical-align: top;\n",
       "    }\n",
       "\n",
       "    .dataframe thead th {\n",
       "        text-align: right;\n",
       "    }\n",
       "</style>\n",
       "<table border=\"1\" class=\"dataframe\">\n",
       "  <thead>\n",
       "    <tr style=\"text-align: right;\">\n",
       "      <th></th>\n",
       "      <th>cod</th>\n",
       "      <th>name</th>\n",
       "      <th>generation</th>\n",
       "      <th>status</th>\n",
       "      <th>species</th>\n",
       "      <th>form</th>\n",
       "      <th>type1</th>\n",
       "      <th>type2</th>\n",
       "      <th>height_m</th>\n",
       "      <th>weight_kg</th>\n",
       "      <th>total</th>\n",
       "      <th>hp</th>\n",
       "      <th>attack</th>\n",
       "      <th>defense</th>\n",
       "      <th>spatk</th>\n",
       "      <th>spdef</th>\n",
       "      <th>speed</th>\n",
       "      <th>img</th>\n",
       "    </tr>\n",
       "  </thead>\n",
       "  <tbody>\n",
       "    <tr>\n",
       "      <th>2</th>\n",
       "      <td>003</td>\n",
       "      <td>Venusaur</td>\n",
       "      <td>1</td>\n",
       "      <td>Normal</td>\n",
       "      <td>Seed Pokémon</td>\n",
       "      <td></td>\n",
       "      <td>Grass</td>\n",
       "      <td>Poison</td>\n",
       "      <td>2.0</td>\n",
       "      <td>100.0</td>\n",
       "      <td>525</td>\n",
       "      <td>80</td>\n",
       "      <td>82</td>\n",
       "      <td>83</td>\n",
       "      <td>100</td>\n",
       "      <td>100</td>\n",
       "      <td>80</td>\n",
       "      <td>https://img.pokemondb.net/sprites/home/normal/...</td>\n",
       "    </tr>\n",
       "    <tr>\n",
       "      <th>3</th>\n",
       "      <td>003</td>\n",
       "      <td>Venusaur</td>\n",
       "      <td>1</td>\n",
       "      <td>Normal</td>\n",
       "      <td>Seed Pokémon</td>\n",
       "      <td>Mega Venusaur</td>\n",
       "      <td>Grass</td>\n",
       "      <td>Poison</td>\n",
       "      <td>2.4</td>\n",
       "      <td>155.5</td>\n",
       "      <td>625</td>\n",
       "      <td>80</td>\n",
       "      <td>100</td>\n",
       "      <td>123</td>\n",
       "      <td>122</td>\n",
       "      <td>120</td>\n",
       "      <td>80</td>\n",
       "      <td>https://img.pokemondb.net/sprites/home/normal/...</td>\n",
       "    </tr>\n",
       "    <tr>\n",
       "      <th>6</th>\n",
       "      <td>006</td>\n",
       "      <td>Charizard</td>\n",
       "      <td>1</td>\n",
       "      <td>Normal</td>\n",
       "      <td>Flame Pokémon</td>\n",
       "      <td></td>\n",
       "      <td>Fire</td>\n",
       "      <td>Flying</td>\n",
       "      <td>1.7</td>\n",
       "      <td>90.5</td>\n",
       "      <td>534</td>\n",
       "      <td>78</td>\n",
       "      <td>84</td>\n",
       "      <td>78</td>\n",
       "      <td>109</td>\n",
       "      <td>85</td>\n",
       "      <td>100</td>\n",
       "      <td>https://img.pokemondb.net/sprites/home/normal/...</td>\n",
       "    </tr>\n",
       "    <tr>\n",
       "      <th>7</th>\n",
       "      <td>006</td>\n",
       "      <td>Charizard</td>\n",
       "      <td>1</td>\n",
       "      <td>Normal</td>\n",
       "      <td>Flame Pokémon</td>\n",
       "      <td>Mega Charizard X</td>\n",
       "      <td>Fire</td>\n",
       "      <td>Dragon</td>\n",
       "      <td>1.7</td>\n",
       "      <td>110.5</td>\n",
       "      <td>634</td>\n",
       "      <td>78</td>\n",
       "      <td>130</td>\n",
       "      <td>111</td>\n",
       "      <td>130</td>\n",
       "      <td>85</td>\n",
       "      <td>100</td>\n",
       "      <td>https://img.pokemondb.net/sprites/home/normal/...</td>\n",
       "    </tr>\n",
       "    <tr>\n",
       "      <th>8</th>\n",
       "      <td>006</td>\n",
       "      <td>Charizard</td>\n",
       "      <td>1</td>\n",
       "      <td>Normal</td>\n",
       "      <td>Flame Pokémon</td>\n",
       "      <td>Mega Charizard Y</td>\n",
       "      <td>Fire</td>\n",
       "      <td>Flying</td>\n",
       "      <td>1.7</td>\n",
       "      <td>100.5</td>\n",
       "      <td>634</td>\n",
       "      <td>78</td>\n",
       "      <td>104</td>\n",
       "      <td>78</td>\n",
       "      <td>159</td>\n",
       "      <td>115</td>\n",
       "      <td>100</td>\n",
       "      <td>https://img.pokemondb.net/sprites/home/normal/...</td>\n",
       "    </tr>\n",
       "    <tr>\n",
       "      <th>...</th>\n",
       "      <td>...</td>\n",
       "      <td>...</td>\n",
       "      <td>...</td>\n",
       "      <td>...</td>\n",
       "      <td>...</td>\n",
       "      <td>...</td>\n",
       "      <td>...</td>\n",
       "      <td>...</td>\n",
       "      <td>...</td>\n",
       "      <td>...</td>\n",
       "      <td>...</td>\n",
       "      <td>...</td>\n",
       "      <td>...</td>\n",
       "      <td>...</td>\n",
       "      <td>...</td>\n",
       "      <td>...</td>\n",
       "      <td>...</td>\n",
       "      <td>...</td>\n",
       "    </tr>\n",
       "    <tr>\n",
       "      <th>1023</th>\n",
       "      <td>888</td>\n",
       "      <td>Zacian</td>\n",
       "      <td>8</td>\n",
       "      <td>Legendary</td>\n",
       "      <td>Warrior Pokémon</td>\n",
       "      <td>Hero of Many Battles</td>\n",
       "      <td>Fairy</td>\n",
       "      <td></td>\n",
       "      <td>2.8</td>\n",
       "      <td>110.0</td>\n",
       "      <td>670</td>\n",
       "      <td>92</td>\n",
       "      <td>130</td>\n",
       "      <td>115</td>\n",
       "      <td>80</td>\n",
       "      <td>115</td>\n",
       "      <td>138</td>\n",
       "      <td>https://img.pokemondb.net/sprites/home/normal/...</td>\n",
       "    </tr>\n",
       "    <tr>\n",
       "      <th>1024</th>\n",
       "      <td>889</td>\n",
       "      <td>Zamazenta</td>\n",
       "      <td>8</td>\n",
       "      <td>Legendary</td>\n",
       "      <td>Warrior Pokémon</td>\n",
       "      <td>Crowned Shield</td>\n",
       "      <td>Fighting</td>\n",
       "      <td>Steel</td>\n",
       "      <td>2.9</td>\n",
       "      <td>785.0</td>\n",
       "      <td>720</td>\n",
       "      <td>92</td>\n",
       "      <td>130</td>\n",
       "      <td>145</td>\n",
       "      <td>80</td>\n",
       "      <td>145</td>\n",
       "      <td>128</td>\n",
       "      <td>https://img.pokemondb.net/sprites/home/normal/...</td>\n",
       "    </tr>\n",
       "    <tr>\n",
       "      <th>1025</th>\n",
       "      <td>889</td>\n",
       "      <td>Zamazenta</td>\n",
       "      <td>8</td>\n",
       "      <td>Legendary</td>\n",
       "      <td>Warrior Pokémon</td>\n",
       "      <td>Hero of Many Battles</td>\n",
       "      <td>Fighting</td>\n",
       "      <td></td>\n",
       "      <td>2.9</td>\n",
       "      <td>210.0</td>\n",
       "      <td>670</td>\n",
       "      <td>92</td>\n",
       "      <td>130</td>\n",
       "      <td>115</td>\n",
       "      <td>80</td>\n",
       "      <td>115</td>\n",
       "      <td>138</td>\n",
       "      <td>https://img.pokemondb.net/sprites/home/normal/...</td>\n",
       "    </tr>\n",
       "    <tr>\n",
       "      <th>1026</th>\n",
       "      <td>890</td>\n",
       "      <td>Eternatus</td>\n",
       "      <td>8</td>\n",
       "      <td>Legendary</td>\n",
       "      <td>Gigantic Pokémon</td>\n",
       "      <td></td>\n",
       "      <td>Poison</td>\n",
       "      <td>Dragon</td>\n",
       "      <td>20.0</td>\n",
       "      <td>950.0</td>\n",
       "      <td>690</td>\n",
       "      <td>140</td>\n",
       "      <td>85</td>\n",
       "      <td>95</td>\n",
       "      <td>145</td>\n",
       "      <td>95</td>\n",
       "      <td>130</td>\n",
       "      <td>https://img.pokemondb.net/sprites/home/normal/...</td>\n",
       "    </tr>\n",
       "    <tr>\n",
       "      <th>1027</th>\n",
       "      <td>890</td>\n",
       "      <td>Eternatus</td>\n",
       "      <td>8</td>\n",
       "      <td>Legendary</td>\n",
       "      <td>Gigantic Pokémon</td>\n",
       "      <td>Eternamax</td>\n",
       "      <td>Poison</td>\n",
       "      <td>Dragon</td>\n",
       "      <td>100.0</td>\n",
       "      <td>NaN</td>\n",
       "      <td>1125</td>\n",
       "      <td>255</td>\n",
       "      <td>115</td>\n",
       "      <td>250</td>\n",
       "      <td>125</td>\n",
       "      <td>250</td>\n",
       "      <td>130</td>\n",
       "      <td>https://img.pokemondb.net/sprites/home/normal/...</td>\n",
       "    </tr>\n",
       "  </tbody>\n",
       "</table>\n",
       "<p>251 rows × 18 columns</p>\n",
       "</div>"
      ],
      "text/plain": [
       "      cod       name  generation     status           species  \\\n",
       "2     003   Venusaur           1     Normal      Seed Pokémon   \n",
       "3     003   Venusaur           1     Normal      Seed Pokémon   \n",
       "6     006  Charizard           1     Normal     Flame Pokémon   \n",
       "7     006  Charizard           1     Normal     Flame Pokémon   \n",
       "8     006  Charizard           1     Normal     Flame Pokémon   \n",
       "...   ...        ...         ...        ...               ...   \n",
       "1023  888     Zacian           8  Legendary   Warrior Pokémon   \n",
       "1024  889  Zamazenta           8  Legendary   Warrior Pokémon   \n",
       "1025  889  Zamazenta           8  Legendary   Warrior Pokémon   \n",
       "1026  890  Eternatus           8  Legendary  Gigantic Pokémon   \n",
       "1027  890  Eternatus           8  Legendary  Gigantic Pokémon   \n",
       "\n",
       "                      form     type1   type2  height_m  weight_kg  total   hp  \\\n",
       "2                              Grass  Poison       2.0      100.0    525   80   \n",
       "3            Mega Venusaur     Grass  Poison       2.4      155.5    625   80   \n",
       "6                               Fire  Flying       1.7       90.5    534   78   \n",
       "7         Mega Charizard X      Fire  Dragon       1.7      110.5    634   78   \n",
       "8         Mega Charizard Y      Fire  Flying       1.7      100.5    634   78   \n",
       "...                    ...       ...     ...       ...        ...    ...  ...   \n",
       "1023  Hero of Many Battles     Fairy               2.8      110.0    670   92   \n",
       "1024        Crowned Shield  Fighting   Steel       2.9      785.0    720   92   \n",
       "1025  Hero of Many Battles  Fighting               2.9      210.0    670   92   \n",
       "1026                          Poison  Dragon      20.0      950.0    690  140   \n",
       "1027             Eternamax    Poison  Dragon     100.0        NaN   1125  255   \n",
       "\n",
       "      attack  defense  spatk  spdef  speed  \\\n",
       "2         82       83    100    100     80   \n",
       "3        100      123    122    120     80   \n",
       "6         84       78    109     85    100   \n",
       "7        130      111    130     85    100   \n",
       "8        104       78    159    115    100   \n",
       "...      ...      ...    ...    ...    ...   \n",
       "1023     130      115     80    115    138   \n",
       "1024     130      145     80    145    128   \n",
       "1025     130      115     80    115    138   \n",
       "1026      85       95    145     95    130   \n",
       "1027     115      250    125    250    130   \n",
       "\n",
       "                                                    img  \n",
       "2     https://img.pokemondb.net/sprites/home/normal/...  \n",
       "3     https://img.pokemondb.net/sprites/home/normal/...  \n",
       "6     https://img.pokemondb.net/sprites/home/normal/...  \n",
       "7     https://img.pokemondb.net/sprites/home/normal/...  \n",
       "8     https://img.pokemondb.net/sprites/home/normal/...  \n",
       "...                                                 ...  \n",
       "1023  https://img.pokemondb.net/sprites/home/normal/...  \n",
       "1024  https://img.pokemondb.net/sprites/home/normal/...  \n",
       "1025  https://img.pokemondb.net/sprites/home/normal/...  \n",
       "1026  https://img.pokemondb.net/sprites/home/normal/...  \n",
       "1027  https://img.pokemondb.net/sprites/home/normal/...  \n",
       "\n",
       "[251 rows x 18 columns]"
      ]
     },
     "execution_count": 8,
     "metadata": {},
     "output_type": "execute_result"
    }
   ],
   "source": [
    "dfPokemon.loc[dfPokemon.duplicated(subset=\"cod\", keep=False)]"
   ]
  },
  {
   "cell_type": "markdown",
   "metadata": {
    "id": "kkn_Q2iGD45W"
   },
   "source": [
    "É possível notar que os duplicados para o código da Pokédex se trata de Pokémons com versões alternativas, representadas em `form`. Se o campo estiver vazio, se trata da forma original. Podemos também ver quantas formas alternativas existem para os Pokémons baseado nos códigos que aparecem mais de uma vez."
   ]
  },
  {
   "cell_type": "code",
   "execution_count": 9,
   "metadata": {
    "ExecuteTime": {
     "end_time": "2020-10-29T05:38:10.520179Z",
     "start_time": "2020-10-29T05:38:10.511095Z"
    },
    "colab": {
     "base_uri": "https://localhost:8080/",
     "height": 34
    },
    "id": "eyIqWwbNEj10",
    "outputId": "9305cbda-4581-488d-c1a2-68edb822e3a9"
   },
   "outputs": [
    {
     "data": {
      "text/plain": [
       "138"
      ]
     },
     "execution_count": 9,
     "metadata": {},
     "output_type": "execute_result"
    }
   ],
   "source": [
    "len(dfPokemon.loc[dfPokemon.duplicated(subset=\"cod\", keep=\"first\")])"
   ]
  },
  {
   "cell_type": "markdown",
   "metadata": {
    "id": "7cL8TUufMvAJ"
   },
   "source": [
    "#### Outliers <a name=\"outliers\"></a>\n",
    "\n",
    "Achando outliers no nosso conjunto de dados. No caso estamos apenas encontrando outliers considerando a coluna `total`."
   ]
  },
  {
   "cell_type": "code",
   "execution_count": 10,
   "metadata": {
    "ExecuteTime": {
     "end_time": "2020-10-29T05:38:10.556764Z",
     "start_time": "2020-10-29T05:38:10.525277Z"
    },
    "colab": {
     "base_uri": "https://localhost:8080/",
     "height": 118
    },
    "id": "YNxMP7mJ-IvX",
    "outputId": "9b61a9ed-99f8-4f10-8166-fc9144bc6819"
   },
   "outputs": [
    {
     "data": {
      "text/html": [
       "<div>\n",
       "<style scoped>\n",
       "    .dataframe tbody tr th:only-of-type {\n",
       "        vertical-align: middle;\n",
       "    }\n",
       "\n",
       "    .dataframe tbody tr th {\n",
       "        vertical-align: top;\n",
       "    }\n",
       "\n",
       "    .dataframe thead th {\n",
       "        text-align: right;\n",
       "    }\n",
       "</style>\n",
       "<table border=\"1\" class=\"dataframe\">\n",
       "  <thead>\n",
       "    <tr style=\"text-align: right;\">\n",
       "      <th></th>\n",
       "      <th>cod</th>\n",
       "      <th>name</th>\n",
       "      <th>generation</th>\n",
       "      <th>status</th>\n",
       "      <th>species</th>\n",
       "      <th>form</th>\n",
       "      <th>type1</th>\n",
       "      <th>type2</th>\n",
       "      <th>height_m</th>\n",
       "      <th>weight_kg</th>\n",
       "      <th>total</th>\n",
       "      <th>hp</th>\n",
       "      <th>attack</th>\n",
       "      <th>defense</th>\n",
       "      <th>spatk</th>\n",
       "      <th>spdef</th>\n",
       "      <th>speed</th>\n",
       "      <th>img</th>\n",
       "    </tr>\n",
       "  </thead>\n",
       "  <tbody>\n",
       "    <tr>\n",
       "      <th>1027</th>\n",
       "      <td>890</td>\n",
       "      <td>Eternatus</td>\n",
       "      <td>8</td>\n",
       "      <td>Legendary</td>\n",
       "      <td>Gigantic Pokémon</td>\n",
       "      <td>Eternamax</td>\n",
       "      <td>Poison</td>\n",
       "      <td>Dragon</td>\n",
       "      <td>100.0</td>\n",
       "      <td>NaN</td>\n",
       "      <td>1125</td>\n",
       "      <td>255</td>\n",
       "      <td>115</td>\n",
       "      <td>250</td>\n",
       "      <td>125</td>\n",
       "      <td>250</td>\n",
       "      <td>130</td>\n",
       "      <td>https://img.pokemondb.net/sprites/home/normal/...</td>\n",
       "    </tr>\n",
       "  </tbody>\n",
       "</table>\n",
       "</div>"
      ],
      "text/plain": [
       "      cod       name  generation     status           species       form  \\\n",
       "1027  890  Eternatus           8  Legendary  Gigantic Pokémon  Eternamax   \n",
       "\n",
       "       type1   type2  height_m  weight_kg  total   hp  attack  defense  spatk  \\\n",
       "1027  Poison  Dragon     100.0        NaN   1125  255     115      250    125   \n",
       "\n",
       "      spdef  speed                                                img  \n",
       "1027    250    130  https://img.pokemondb.net/sprites/home/normal/...  "
      ]
     },
     "execution_count": 10,
     "metadata": {},
     "output_type": "execute_result"
    }
   ],
   "source": [
    "dfPokemon.drop((dfPokemon.loc[:, \"form\"] == \"Eternamax\").index)\n",
    "\n",
    "# primeiro quartil e segundo quartil\n",
    "Q1, Q3 = dfPokemon.loc[:, \"total\"].quantile([0.25, 0.75])\n",
    "# distância interquartil\n",
    "IQR = Q3 - Q1\n",
    "\n",
    "outliers = dfPokemon.loc[\n",
    "    (dfPokemon.loc[:, \"total\"] < (Q1 - 1.5 * IQR))\n",
    "    | (dfPokemon.loc[:, \"total\"] > (Q3 + 1.5 * IQR)),\n",
    "    :,\n",
    "]\n",
    "\n",
    "outliers"
   ]
  },
  {
   "cell_type": "markdown",
   "metadata": {
    "id": "iKI6rTXNY-th"
   },
   "source": [
    "#### Comparações entre os extremos dos stats <a name=\"extremos\"></a>\n",
    "\n",
    "Comparações entre os extremos de todos os stats presentes nos pokémons, com imagens dos pokémons que possuem tais extremos.\n"
   ]
  },
  {
   "cell_type": "markdown",
   "metadata": {
    "id": "FqVMy8libxrM"
   },
   "source": [
    "Comparação `hp` (health points/pontos de vida)"
   ]
  },
  {
   "cell_type": "code",
   "execution_count": 11,
   "metadata": {
    "ExecuteTime": {
     "end_time": "2020-10-29T05:38:10.584148Z",
     "start_time": "2020-10-29T05:38:10.559667Z"
    },
    "colab": {
     "base_uri": "https://localhost:8080/",
     "height": 114
    },
    "id": "9SPI7N-IZHnE",
    "outputId": "0835769f-b25d-43b9-baa1-7f5fa8880f83"
   },
   "outputs": [
    {
     "data": {
      "text/html": [
       "<div>\n",
       "<style scoped>\n",
       "    .dataframe tbody tr th:only-of-type {\n",
       "        vertical-align: middle;\n",
       "    }\n",
       "\n",
       "    .dataframe tbody tr th {\n",
       "        vertical-align: top;\n",
       "    }\n",
       "\n",
       "    .dataframe thead th {\n",
       "        text-align: right;\n",
       "    }\n",
       "</style>\n",
       "<table border=\"1\" class=\"dataframe\">\n",
       "  <thead>\n",
       "    <tr style=\"text-align: right;\">\n",
       "      <th></th>\n",
       "      <th>cod</th>\n",
       "      <th>name</th>\n",
       "      <th>generation</th>\n",
       "      <th>status</th>\n",
       "      <th>species</th>\n",
       "      <th>form</th>\n",
       "      <th>type1</th>\n",
       "      <th>type2</th>\n",
       "      <th>height_m</th>\n",
       "      <th>weight_kg</th>\n",
       "      <th>total</th>\n",
       "      <th>hp</th>\n",
       "      <th>attack</th>\n",
       "      <th>defense</th>\n",
       "      <th>spatk</th>\n",
       "      <th>spdef</th>\n",
       "      <th>speed</th>\n",
       "      <th>img</th>\n",
       "    </tr>\n",
       "  </thead>\n",
       "  <tbody>\n",
       "    <tr>\n",
       "      <th>288</th>\n",
       "      <td>242</td>\n",
       "      <td>Blissey</td>\n",
       "      <td>2</td>\n",
       "      <td>Normal</td>\n",
       "      <td>Happiness Pokémon</td>\n",
       "      <td></td>\n",
       "      <td>Normal</td>\n",
       "      <td></td>\n",
       "      <td>1.5</td>\n",
       "      <td>46.8</td>\n",
       "      <td>540</td>\n",
       "      <td>255</td>\n",
       "      <td>10</td>\n",
       "      <td>10</td>\n",
       "      <td>75</td>\n",
       "      <td>135</td>\n",
       "      <td>55</td>\n",
       "      <td>https://img.pokemondb.net/sprites/home/normal/...</td>\n",
       "    </tr>\n",
       "  </tbody>\n",
       "</table>\n",
       "</div>"
      ],
      "text/plain": [
       "     cod     name  generation  status            species form   type1 type2  \\\n",
       "288  242  Blissey           2  Normal  Happiness Pokémon       Normal         \n",
       "\n",
       "     height_m  weight_kg  total   hp  attack  defense  spatk  spdef  speed  \\\n",
       "288       1.5       46.8    540  255      10       10     75    135     55   \n",
       "\n",
       "                                                   img  \n",
       "288  https://img.pokemondb.net/sprites/home/normal/...  "
      ]
     },
     "execution_count": 11,
     "metadata": {},
     "output_type": "execute_result"
    }
   ],
   "source": [
    "hpPokemonMax = dfPokemon.loc[[dfPokemon[\"hp\"].idxmax()]]\n",
    "hpPokemonMax"
   ]
  },
  {
   "cell_type": "code",
   "execution_count": 12,
   "metadata": {
    "ExecuteTime": {
     "end_time": "2020-10-29T05:38:10.596156Z",
     "start_time": "2020-10-29T05:38:10.587056Z"
    },
    "colab": {
     "base_uri": "https://localhost:8080/",
     "height": 171
    },
    "id": "dwInzqBvgJUX",
    "outputId": "d52f2265-d1c2-48c0-a5ee-d37d4efa1145"
   },
   "outputs": [
    {
     "data": {
      "text/html": [
       "<img src=\"https://img.pokemondb.net/sprites/home/normal/blissey.png\" width=\"150\" height=\"150\"/>"
      ],
      "text/plain": [
       "<IPython.core.display.Image object>"
      ]
     },
     "execution_count": 12,
     "metadata": {},
     "output_type": "execute_result"
    }
   ],
   "source": [
    "Image(url=hpPokemonMax[\"img\"].item(), width=150, height=150)"
   ]
  },
  {
   "cell_type": "code",
   "execution_count": 13,
   "metadata": {
    "ExecuteTime": {
     "end_time": "2020-10-29T05:38:10.624248Z",
     "start_time": "2020-10-29T05:38:10.598982Z"
    },
    "colab": {
     "base_uri": "https://localhost:8080/",
     "height": 114
    },
    "id": "8xo_oifabYKx",
    "outputId": "eb644bda-463f-48aa-d658-b8e21b4b419c"
   },
   "outputs": [
    {
     "data": {
      "text/html": [
       "<div>\n",
       "<style scoped>\n",
       "    .dataframe tbody tr th:only-of-type {\n",
       "        vertical-align: middle;\n",
       "    }\n",
       "\n",
       "    .dataframe tbody tr th {\n",
       "        vertical-align: top;\n",
       "    }\n",
       "\n",
       "    .dataframe thead th {\n",
       "        text-align: right;\n",
       "    }\n",
       "</style>\n",
       "<table border=\"1\" class=\"dataframe\">\n",
       "  <thead>\n",
       "    <tr style=\"text-align: right;\">\n",
       "      <th></th>\n",
       "      <th>cod</th>\n",
       "      <th>name</th>\n",
       "      <th>generation</th>\n",
       "      <th>status</th>\n",
       "      <th>species</th>\n",
       "      <th>form</th>\n",
       "      <th>type1</th>\n",
       "      <th>type2</th>\n",
       "      <th>height_m</th>\n",
       "      <th>weight_kg</th>\n",
       "      <th>total</th>\n",
       "      <th>hp</th>\n",
       "      <th>attack</th>\n",
       "      <th>defense</th>\n",
       "      <th>spatk</th>\n",
       "      <th>spdef</th>\n",
       "      <th>speed</th>\n",
       "      <th>img</th>\n",
       "    </tr>\n",
       "  </thead>\n",
       "  <tbody>\n",
       "    <tr>\n",
       "      <th>345</th>\n",
       "      <td>292</td>\n",
       "      <td>Shedinja</td>\n",
       "      <td>3</td>\n",
       "      <td>Normal</td>\n",
       "      <td>Shed Pokémon</td>\n",
       "      <td></td>\n",
       "      <td>Bug</td>\n",
       "      <td>Ghost</td>\n",
       "      <td>0.8</td>\n",
       "      <td>1.2</td>\n",
       "      <td>236</td>\n",
       "      <td>1</td>\n",
       "      <td>90</td>\n",
       "      <td>45</td>\n",
       "      <td>30</td>\n",
       "      <td>30</td>\n",
       "      <td>40</td>\n",
       "      <td>https://img.pokemondb.net/sprites/home/normal/...</td>\n",
       "    </tr>\n",
       "  </tbody>\n",
       "</table>\n",
       "</div>"
      ],
      "text/plain": [
       "     cod      name  generation  status       species form type1  type2  \\\n",
       "345  292  Shedinja           3  Normal  Shed Pokémon        Bug  Ghost   \n",
       "\n",
       "     height_m  weight_kg  total  hp  attack  defense  spatk  spdef  speed  \\\n",
       "345       0.8        1.2    236   1      90       45     30     30     40   \n",
       "\n",
       "                                                   img  \n",
       "345  https://img.pokemondb.net/sprites/home/normal/...  "
      ]
     },
     "execution_count": 13,
     "metadata": {},
     "output_type": "execute_result"
    }
   ],
   "source": [
    "hpPokemonMin = dfPokemon.loc[[dfPokemon[\"hp\"].idxmin()]]\n",
    "hpPokemonMin"
   ]
  },
  {
   "cell_type": "code",
   "execution_count": 14,
   "metadata": {
    "ExecuteTime": {
     "end_time": "2020-10-29T05:38:10.634063Z",
     "start_time": "2020-10-29T05:38:10.627967Z"
    },
    "colab": {
     "base_uri": "https://localhost:8080/",
     "height": 171
    },
    "id": "DLrBzBv9kqJX",
    "outputId": "10041de0-b294-48ff-df77-f00cc8008d0f"
   },
   "outputs": [
    {
     "data": {
      "text/html": [
       "<img src=\"https://img.pokemondb.net/sprites/home/normal/shedinja.png\" width=\"150\" height=\"150\"/>"
      ],
      "text/plain": [
       "<IPython.core.display.Image object>"
      ]
     },
     "execution_count": 14,
     "metadata": {},
     "output_type": "execute_result"
    }
   ],
   "source": [
    "Image(url=hpPokemonMin[\"img\"].item(), width=150, height=150)"
   ]
  },
  {
   "cell_type": "markdown",
   "metadata": {
    "id": "tRcWlWYSdN2O"
   },
   "source": [
    "Comparação `attack` (pontos de ataque)"
   ]
  },
  {
   "cell_type": "code",
   "execution_count": 15,
   "metadata": {
    "ExecuteTime": {
     "end_time": "2020-10-29T05:38:10.669935Z",
     "start_time": "2020-10-29T05:38:10.637478Z"
    },
    "colab": {
     "base_uri": "https://localhost:8080/",
     "height": 130
    },
    "id": "16xBKlIydM6F",
    "outputId": "d5937499-811f-42fe-bc0c-51434455fccf"
   },
   "outputs": [
    {
     "data": {
      "text/html": [
       "<div>\n",
       "<style scoped>\n",
       "    .dataframe tbody tr th:only-of-type {\n",
       "        vertical-align: middle;\n",
       "    }\n",
       "\n",
       "    .dataframe tbody tr th {\n",
       "        vertical-align: top;\n",
       "    }\n",
       "\n",
       "    .dataframe thead th {\n",
       "        text-align: right;\n",
       "    }\n",
       "</style>\n",
       "<table border=\"1\" class=\"dataframe\">\n",
       "  <thead>\n",
       "    <tr style=\"text-align: right;\">\n",
       "      <th></th>\n",
       "      <th>cod</th>\n",
       "      <th>name</th>\n",
       "      <th>generation</th>\n",
       "      <th>status</th>\n",
       "      <th>species</th>\n",
       "      <th>form</th>\n",
       "      <th>type1</th>\n",
       "      <th>type2</th>\n",
       "      <th>height_m</th>\n",
       "      <th>weight_kg</th>\n",
       "      <th>total</th>\n",
       "      <th>hp</th>\n",
       "      <th>attack</th>\n",
       "      <th>defense</th>\n",
       "      <th>spatk</th>\n",
       "      <th>spdef</th>\n",
       "      <th>speed</th>\n",
       "      <th>img</th>\n",
       "    </tr>\n",
       "  </thead>\n",
       "  <tbody>\n",
       "    <tr>\n",
       "      <th>189</th>\n",
       "      <td>150</td>\n",
       "      <td>Mewtwo</td>\n",
       "      <td>1</td>\n",
       "      <td>Legendary</td>\n",
       "      <td>Genetic Pokémon</td>\n",
       "      <td>Mega Mewtwo X</td>\n",
       "      <td>Psychic</td>\n",
       "      <td>Fighting</td>\n",
       "      <td>2.3</td>\n",
       "      <td>127.0</td>\n",
       "      <td>780</td>\n",
       "      <td>106</td>\n",
       "      <td>190</td>\n",
       "      <td>100</td>\n",
       "      <td>154</td>\n",
       "      <td>100</td>\n",
       "      <td>130</td>\n",
       "      <td>https://img.pokemondb.net/sprites/home/normal/...</td>\n",
       "    </tr>\n",
       "  </tbody>\n",
       "</table>\n",
       "</div>"
      ],
      "text/plain": [
       "     cod    name  generation     status          species           form  \\\n",
       "189  150  Mewtwo           1  Legendary  Genetic Pokémon  Mega Mewtwo X   \n",
       "\n",
       "       type1     type2  height_m  weight_kg  total   hp  attack  defense  \\\n",
       "189  Psychic  Fighting       2.3      127.0    780  106     190      100   \n",
       "\n",
       "     spatk  spdef  speed                                                img  \n",
       "189    154    100    130  https://img.pokemondb.net/sprites/home/normal/...  "
      ]
     },
     "execution_count": 15,
     "metadata": {},
     "output_type": "execute_result"
    }
   ],
   "source": [
    "attackPokemonMax = dfPokemon.loc[[dfPokemon[\"attack\"].idxmax()]]\n",
    "attackPokemonMax"
   ]
  },
  {
   "cell_type": "code",
   "execution_count": 16,
   "metadata": {
    "ExecuteTime": {
     "end_time": "2020-10-29T05:38:10.682648Z",
     "start_time": "2020-10-29T05:38:10.675998Z"
    },
    "colab": {
     "base_uri": "https://localhost:8080/",
     "height": 171
    },
    "id": "BY-mh6pir_9-",
    "outputId": "9c607b28-4cf7-4f94-bd84-7db0e073595b"
   },
   "outputs": [
    {
     "data": {
      "text/html": [
       "<img src=\"https://img.pokemondb.net/sprites/home/normal/mewtwo-mega-x.png\" width=\"150\" height=\"150\"/>"
      ],
      "text/plain": [
       "<IPython.core.display.Image object>"
      ]
     },
     "execution_count": 16,
     "metadata": {},
     "output_type": "execute_result"
    }
   ],
   "source": [
    "Image(url=attackPokemonMax[\"img\"].item(), width=150, height=150)"
   ]
  },
  {
   "cell_type": "code",
   "execution_count": 17,
   "metadata": {
    "ExecuteTime": {
     "end_time": "2020-10-29T05:38:10.713808Z",
     "start_time": "2020-10-29T05:38:10.685765Z"
    },
    "colab": {
     "base_uri": "https://localhost:8080/",
     "height": 114
    },
    "id": "lHGf1lVFdXW9",
    "outputId": "2a1b6cb4-5f7f-4cfb-bc20-35e70a694202"
   },
   "outputs": [
    {
     "data": {
      "text/html": [
       "<div>\n",
       "<style scoped>\n",
       "    .dataframe tbody tr th:only-of-type {\n",
       "        vertical-align: middle;\n",
       "    }\n",
       "\n",
       "    .dataframe tbody tr th {\n",
       "        vertical-align: top;\n",
       "    }\n",
       "\n",
       "    .dataframe thead th {\n",
       "        text-align: right;\n",
       "    }\n",
       "</style>\n",
       "<table border=\"1\" class=\"dataframe\">\n",
       "  <thead>\n",
       "    <tr style=\"text-align: right;\">\n",
       "      <th></th>\n",
       "      <th>cod</th>\n",
       "      <th>name</th>\n",
       "      <th>generation</th>\n",
       "      <th>status</th>\n",
       "      <th>species</th>\n",
       "      <th>form</th>\n",
       "      <th>type1</th>\n",
       "      <th>type2</th>\n",
       "      <th>height_m</th>\n",
       "      <th>weight_kg</th>\n",
       "      <th>total</th>\n",
       "      <th>hp</th>\n",
       "      <th>attack</th>\n",
       "      <th>defense</th>\n",
       "      <th>spatk</th>\n",
       "      <th>spdef</th>\n",
       "      <th>speed</th>\n",
       "      <th>img</th>\n",
       "    </tr>\n",
       "  </thead>\n",
       "  <tbody>\n",
       "    <tr>\n",
       "      <th>145</th>\n",
       "      <td>113</td>\n",
       "      <td>Chansey</td>\n",
       "      <td>1</td>\n",
       "      <td>Normal</td>\n",
       "      <td>Egg Pokémon</td>\n",
       "      <td></td>\n",
       "      <td>Normal</td>\n",
       "      <td></td>\n",
       "      <td>1.1</td>\n",
       "      <td>34.6</td>\n",
       "      <td>450</td>\n",
       "      <td>250</td>\n",
       "      <td>5</td>\n",
       "      <td>5</td>\n",
       "      <td>35</td>\n",
       "      <td>105</td>\n",
       "      <td>50</td>\n",
       "      <td>https://img.pokemondb.net/sprites/home/normal/...</td>\n",
       "    </tr>\n",
       "  </tbody>\n",
       "</table>\n",
       "</div>"
      ],
      "text/plain": [
       "     cod     name  generation  status      species form   type1 type2  \\\n",
       "145  113  Chansey           1  Normal  Egg Pokémon       Normal         \n",
       "\n",
       "     height_m  weight_kg  total   hp  attack  defense  spatk  spdef  speed  \\\n",
       "145       1.1       34.6    450  250       5        5     35    105     50   \n",
       "\n",
       "                                                   img  \n",
       "145  https://img.pokemondb.net/sprites/home/normal/...  "
      ]
     },
     "execution_count": 17,
     "metadata": {},
     "output_type": "execute_result"
    }
   ],
   "source": [
    "attackPokemonMin = dfPokemon.loc[[dfPokemon[\"attack\"].idxmin()]]\n",
    "attackPokemonMin"
   ]
  },
  {
   "cell_type": "code",
   "execution_count": 18,
   "metadata": {
    "ExecuteTime": {
     "end_time": "2020-10-29T05:38:10.725923Z",
     "start_time": "2020-10-29T05:38:10.716928Z"
    },
    "colab": {
     "base_uri": "https://localhost:8080/",
     "height": 171
    },
    "id": "-GNyj6N_sbhD",
    "outputId": "8f89584b-3529-4013-e2d4-e817dbe6579a"
   },
   "outputs": [
    {
     "data": {
      "text/html": [
       "<img src=\"https://img.pokemondb.net/sprites/home/normal/chansey.png\" width=\"150\" height=\"150\"/>"
      ],
      "text/plain": [
       "<IPython.core.display.Image object>"
      ]
     },
     "execution_count": 18,
     "metadata": {},
     "output_type": "execute_result"
    }
   ],
   "source": [
    "Image(url=attackPokemonMin[\"img\"].item(), width=150, height=150)"
   ]
  },
  {
   "cell_type": "markdown",
   "metadata": {
    "id": "Fs1SNxhWddof"
   },
   "source": [
    "Comparação `defense` (pontos de defesa)"
   ]
  },
  {
   "cell_type": "code",
   "execution_count": 19,
   "metadata": {
    "ExecuteTime": {
     "end_time": "2020-10-29T05:38:10.759257Z",
     "start_time": "2020-10-29T05:38:10.730777Z"
    },
    "colab": {
     "base_uri": "https://localhost:8080/",
     "height": 114
    },
    "id": "m8tZhHbKdsig",
    "outputId": "0791462e-b406-4269-c492-99a2ba31964a"
   },
   "outputs": [
    {
     "data": {
      "text/html": [
       "<div>\n",
       "<style scoped>\n",
       "    .dataframe tbody tr th:only-of-type {\n",
       "        vertical-align: middle;\n",
       "    }\n",
       "\n",
       "    .dataframe tbody tr th {\n",
       "        vertical-align: top;\n",
       "    }\n",
       "\n",
       "    .dataframe thead th {\n",
       "        text-align: right;\n",
       "    }\n",
       "</style>\n",
       "<table border=\"1\" class=\"dataframe\">\n",
       "  <thead>\n",
       "    <tr style=\"text-align: right;\">\n",
       "      <th></th>\n",
       "      <th>cod</th>\n",
       "      <th>name</th>\n",
       "      <th>generation</th>\n",
       "      <th>status</th>\n",
       "      <th>species</th>\n",
       "      <th>form</th>\n",
       "      <th>type1</th>\n",
       "      <th>type2</th>\n",
       "      <th>height_m</th>\n",
       "      <th>weight_kg</th>\n",
       "      <th>total</th>\n",
       "      <th>hp</th>\n",
       "      <th>attack</th>\n",
       "      <th>defense</th>\n",
       "      <th>spatk</th>\n",
       "      <th>spdef</th>\n",
       "      <th>speed</th>\n",
       "      <th>img</th>\n",
       "    </tr>\n",
       "  </thead>\n",
       "  <tbody>\n",
       "    <tr>\n",
       "      <th>1027</th>\n",
       "      <td>890</td>\n",
       "      <td>Eternatus</td>\n",
       "      <td>8</td>\n",
       "      <td>Legendary</td>\n",
       "      <td>Gigantic Pokémon</td>\n",
       "      <td>Eternamax</td>\n",
       "      <td>Poison</td>\n",
       "      <td>Dragon</td>\n",
       "      <td>100.0</td>\n",
       "      <td>NaN</td>\n",
       "      <td>1125</td>\n",
       "      <td>255</td>\n",
       "      <td>115</td>\n",
       "      <td>250</td>\n",
       "      <td>125</td>\n",
       "      <td>250</td>\n",
       "      <td>130</td>\n",
       "      <td>https://img.pokemondb.net/sprites/home/normal/...</td>\n",
       "    </tr>\n",
       "  </tbody>\n",
       "</table>\n",
       "</div>"
      ],
      "text/plain": [
       "      cod       name  generation     status           species       form  \\\n",
       "1027  890  Eternatus           8  Legendary  Gigantic Pokémon  Eternamax   \n",
       "\n",
       "       type1   type2  height_m  weight_kg  total   hp  attack  defense  spatk  \\\n",
       "1027  Poison  Dragon     100.0        NaN   1125  255     115      250    125   \n",
       "\n",
       "      spdef  speed                                                img  \n",
       "1027    250    130  https://img.pokemondb.net/sprites/home/normal/...  "
      ]
     },
     "execution_count": 19,
     "metadata": {},
     "output_type": "execute_result"
    }
   ],
   "source": [
    "defensePokemonMax = dfPokemon.loc[[dfPokemon[\"defense\"].idxmax()]]\n",
    "defensePokemonMax"
   ]
  },
  {
   "cell_type": "code",
   "execution_count": 20,
   "metadata": {
    "ExecuteTime": {
     "end_time": "2020-10-29T05:38:10.768345Z",
     "start_time": "2020-10-29T05:38:10.762165Z"
    },
    "colab": {
     "base_uri": "https://localhost:8080/",
     "height": 171
    },
    "id": "xAtOezvsvATx",
    "outputId": "c74d01c3-b371-4183-d83e-9f7c4a72bc94"
   },
   "outputs": [
    {
     "data": {
      "text/html": [
       "<img src=\"https://img.pokemondb.net/sprites/home/normal/eternatus-eternamax.png\" width=\"150\" height=\"150\"/>"
      ],
      "text/plain": [
       "<IPython.core.display.Image object>"
      ]
     },
     "execution_count": 20,
     "metadata": {},
     "output_type": "execute_result"
    }
   ],
   "source": [
    "Image(url=defensePokemonMax[\"img\"].item(), width=150, height=150)"
   ]
  },
  {
   "cell_type": "code",
   "execution_count": 21,
   "metadata": {
    "ExecuteTime": {
     "end_time": "2020-10-29T05:38:10.798510Z",
     "start_time": "2020-10-29T05:38:10.772587Z"
    },
    "colab": {
     "base_uri": "https://localhost:8080/",
     "height": 114
    },
    "id": "wHmMx-fSdxVy",
    "outputId": "5a05f935-adf3-4343-b368-37be606f96a3"
   },
   "outputs": [
    {
     "data": {
      "text/html": [
       "<div>\n",
       "<style scoped>\n",
       "    .dataframe tbody tr th:only-of-type {\n",
       "        vertical-align: middle;\n",
       "    }\n",
       "\n",
       "    .dataframe tbody tr th {\n",
       "        vertical-align: top;\n",
       "    }\n",
       "\n",
       "    .dataframe thead th {\n",
       "        text-align: right;\n",
       "    }\n",
       "</style>\n",
       "<table border=\"1\" class=\"dataframe\">\n",
       "  <thead>\n",
       "    <tr style=\"text-align: right;\">\n",
       "      <th></th>\n",
       "      <th>cod</th>\n",
       "      <th>name</th>\n",
       "      <th>generation</th>\n",
       "      <th>status</th>\n",
       "      <th>species</th>\n",
       "      <th>form</th>\n",
       "      <th>type1</th>\n",
       "      <th>type2</th>\n",
       "      <th>height_m</th>\n",
       "      <th>weight_kg</th>\n",
       "      <th>total</th>\n",
       "      <th>hp</th>\n",
       "      <th>attack</th>\n",
       "      <th>defense</th>\n",
       "      <th>spatk</th>\n",
       "      <th>spdef</th>\n",
       "      <th>speed</th>\n",
       "      <th>img</th>\n",
       "    </tr>\n",
       "  </thead>\n",
       "  <tbody>\n",
       "    <tr>\n",
       "      <th>145</th>\n",
       "      <td>113</td>\n",
       "      <td>Chansey</td>\n",
       "      <td>1</td>\n",
       "      <td>Normal</td>\n",
       "      <td>Egg Pokémon</td>\n",
       "      <td></td>\n",
       "      <td>Normal</td>\n",
       "      <td></td>\n",
       "      <td>1.1</td>\n",
       "      <td>34.6</td>\n",
       "      <td>450</td>\n",
       "      <td>250</td>\n",
       "      <td>5</td>\n",
       "      <td>5</td>\n",
       "      <td>35</td>\n",
       "      <td>105</td>\n",
       "      <td>50</td>\n",
       "      <td>https://img.pokemondb.net/sprites/home/normal/...</td>\n",
       "    </tr>\n",
       "  </tbody>\n",
       "</table>\n",
       "</div>"
      ],
      "text/plain": [
       "     cod     name  generation  status      species form   type1 type2  \\\n",
       "145  113  Chansey           1  Normal  Egg Pokémon       Normal         \n",
       "\n",
       "     height_m  weight_kg  total   hp  attack  defense  spatk  spdef  speed  \\\n",
       "145       1.1       34.6    450  250       5        5     35    105     50   \n",
       "\n",
       "                                                   img  \n",
       "145  https://img.pokemondb.net/sprites/home/normal/...  "
      ]
     },
     "execution_count": 21,
     "metadata": {},
     "output_type": "execute_result"
    }
   ],
   "source": [
    "defensePokemonMin = dfPokemon.loc[[dfPokemon[\"defense\"].idxmin()]]\n",
    "defensePokemonMin"
   ]
  },
  {
   "cell_type": "code",
   "execution_count": 22,
   "metadata": {
    "ExecuteTime": {
     "end_time": "2020-10-29T05:38:10.810637Z",
     "start_time": "2020-10-29T05:38:10.804181Z"
    },
    "colab": {
     "base_uri": "https://localhost:8080/",
     "height": 171
    },
    "id": "KjfTG3NmvDmv",
    "outputId": "78fa1125-ef51-484e-a846-90e943e99b3e"
   },
   "outputs": [
    {
     "data": {
      "text/html": [
       "<img src=\"https://img.pokemondb.net/sprites/home/normal/chansey.png\" width=\"150\" height=\"150\"/>"
      ],
      "text/plain": [
       "<IPython.core.display.Image object>"
      ]
     },
     "execution_count": 22,
     "metadata": {},
     "output_type": "execute_result"
    }
   ],
   "source": [
    "Image(url=defensePokemonMin[\"img\"].item(), width=150, height=150)"
   ]
  },
  {
   "cell_type": "markdown",
   "metadata": {
    "id": "ay-ZSpy-d4vM"
   },
   "source": [
    "Comparação `spatk` (pontos de ataque especial)"
   ]
  },
  {
   "cell_type": "code",
   "execution_count": 23,
   "metadata": {
    "ExecuteTime": {
     "end_time": "2020-10-29T05:38:10.843635Z",
     "start_time": "2020-10-29T05:38:10.814333Z"
    },
    "colab": {
     "base_uri": "https://localhost:8080/",
     "height": 130
    },
    "id": "ZCXGEq-Sd3Ka",
    "outputId": "3f46d318-ab4e-4ce0-8c23-ab9b679c78c8"
   },
   "outputs": [
    {
     "data": {
      "text/html": [
       "<div>\n",
       "<style scoped>\n",
       "    .dataframe tbody tr th:only-of-type {\n",
       "        vertical-align: middle;\n",
       "    }\n",
       "\n",
       "    .dataframe tbody tr th {\n",
       "        vertical-align: top;\n",
       "    }\n",
       "\n",
       "    .dataframe thead th {\n",
       "        text-align: right;\n",
       "    }\n",
       "</style>\n",
       "<table border=\"1\" class=\"dataframe\">\n",
       "  <thead>\n",
       "    <tr style=\"text-align: right;\">\n",
       "      <th></th>\n",
       "      <th>cod</th>\n",
       "      <th>name</th>\n",
       "      <th>generation</th>\n",
       "      <th>status</th>\n",
       "      <th>species</th>\n",
       "      <th>form</th>\n",
       "      <th>type1</th>\n",
       "      <th>type2</th>\n",
       "      <th>height_m</th>\n",
       "      <th>weight_kg</th>\n",
       "      <th>total</th>\n",
       "      <th>hp</th>\n",
       "      <th>attack</th>\n",
       "      <th>defense</th>\n",
       "      <th>spatk</th>\n",
       "      <th>spdef</th>\n",
       "      <th>speed</th>\n",
       "      <th>img</th>\n",
       "    </tr>\n",
       "  </thead>\n",
       "  <tbody>\n",
       "    <tr>\n",
       "      <th>190</th>\n",
       "      <td>150</td>\n",
       "      <td>Mewtwo</td>\n",
       "      <td>1</td>\n",
       "      <td>Legendary</td>\n",
       "      <td>Genetic Pokémon</td>\n",
       "      <td>Mega Mewtwo Y</td>\n",
       "      <td>Psychic</td>\n",
       "      <td></td>\n",
       "      <td>1.5</td>\n",
       "      <td>33.0</td>\n",
       "      <td>780</td>\n",
       "      <td>106</td>\n",
       "      <td>150</td>\n",
       "      <td>70</td>\n",
       "      <td>194</td>\n",
       "      <td>120</td>\n",
       "      <td>140</td>\n",
       "      <td>https://img.pokemondb.net/sprites/home/normal/...</td>\n",
       "    </tr>\n",
       "  </tbody>\n",
       "</table>\n",
       "</div>"
      ],
      "text/plain": [
       "     cod    name  generation     status          species           form  \\\n",
       "190  150  Mewtwo           1  Legendary  Genetic Pokémon  Mega Mewtwo Y   \n",
       "\n",
       "       type1 type2  height_m  weight_kg  total   hp  attack  defense  spatk  \\\n",
       "190  Psychic             1.5       33.0    780  106     150       70    194   \n",
       "\n",
       "     spdef  speed                                                img  \n",
       "190    120    140  https://img.pokemondb.net/sprites/home/normal/...  "
      ]
     },
     "execution_count": 23,
     "metadata": {},
     "output_type": "execute_result"
    }
   ],
   "source": [
    "spatkPokemonMax = dfPokemon.loc[[dfPokemon[\"spatk\"].idxmax()]]\n",
    "spatkPokemonMax"
   ]
  },
  {
   "cell_type": "code",
   "execution_count": 24,
   "metadata": {
    "ExecuteTime": {
     "end_time": "2020-10-29T05:38:10.853542Z",
     "start_time": "2020-10-29T05:38:10.846662Z"
    },
    "colab": {
     "base_uri": "https://localhost:8080/",
     "height": 171
    },
    "id": "9MAB8N17vEn6",
    "outputId": "f9f4446a-38a9-427f-8bce-410359756fe8"
   },
   "outputs": [
    {
     "data": {
      "text/html": [
       "<img src=\"https://img.pokemondb.net/sprites/home/normal/mewtwo-mega-y.png\" width=\"150\" height=\"150\"/>"
      ],
      "text/plain": [
       "<IPython.core.display.Image object>"
      ]
     },
     "execution_count": 24,
     "metadata": {},
     "output_type": "execute_result"
    }
   ],
   "source": [
    "Image(url=spatkPokemonMax[\"img\"].item(), width=150, height=150)"
   ]
  },
  {
   "cell_type": "code",
   "execution_count": 25,
   "metadata": {
    "ExecuteTime": {
     "end_time": "2020-10-29T05:38:10.883422Z",
     "start_time": "2020-10-29T05:38:10.858750Z"
    },
    "colab": {
     "base_uri": "https://localhost:8080/",
     "height": 114
    },
    "id": "MhJvyrZteFvG",
    "outputId": "2373f555-76d9-4062-cc5a-8d8f76781479"
   },
   "outputs": [
    {
     "data": {
      "text/html": [
       "<div>\n",
       "<style scoped>\n",
       "    .dataframe tbody tr th:only-of-type {\n",
       "        vertical-align: middle;\n",
       "    }\n",
       "\n",
       "    .dataframe tbody tr th {\n",
       "        vertical-align: top;\n",
       "    }\n",
       "\n",
       "    .dataframe thead th {\n",
       "        text-align: right;\n",
       "    }\n",
       "</style>\n",
       "<table border=\"1\" class=\"dataframe\">\n",
       "  <thead>\n",
       "    <tr style=\"text-align: right;\">\n",
       "      <th></th>\n",
       "      <th>cod</th>\n",
       "      <th>name</th>\n",
       "      <th>generation</th>\n",
       "      <th>status</th>\n",
       "      <th>species</th>\n",
       "      <th>form</th>\n",
       "      <th>type1</th>\n",
       "      <th>type2</th>\n",
       "      <th>height_m</th>\n",
       "      <th>weight_kg</th>\n",
       "      <th>total</th>\n",
       "      <th>hp</th>\n",
       "      <th>attack</th>\n",
       "      <th>defense</th>\n",
       "      <th>spatk</th>\n",
       "      <th>spdef</th>\n",
       "      <th>speed</th>\n",
       "      <th>img</th>\n",
       "    </tr>\n",
       "  </thead>\n",
       "  <tbody>\n",
       "    <tr>\n",
       "      <th>345</th>\n",
       "      <td>292</td>\n",
       "      <td>Shedinja</td>\n",
       "      <td>3</td>\n",
       "      <td>Normal</td>\n",
       "      <td>Shed Pokémon</td>\n",
       "      <td></td>\n",
       "      <td>Bug</td>\n",
       "      <td>Ghost</td>\n",
       "      <td>0.8</td>\n",
       "      <td>1.2</td>\n",
       "      <td>236</td>\n",
       "      <td>1</td>\n",
       "      <td>90</td>\n",
       "      <td>45</td>\n",
       "      <td>30</td>\n",
       "      <td>30</td>\n",
       "      <td>40</td>\n",
       "      <td>https://img.pokemondb.net/sprites/home/normal/...</td>\n",
       "    </tr>\n",
       "  </tbody>\n",
       "</table>\n",
       "</div>"
      ],
      "text/plain": [
       "     cod      name  generation  status       species form type1  type2  \\\n",
       "345  292  Shedinja           3  Normal  Shed Pokémon        Bug  Ghost   \n",
       "\n",
       "     height_m  weight_kg  total  hp  attack  defense  spatk  spdef  speed  \\\n",
       "345       0.8        1.2    236   1      90       45     30     30     40   \n",
       "\n",
       "                                                   img  \n",
       "345  https://img.pokemondb.net/sprites/home/normal/...  "
      ]
     },
     "execution_count": 25,
     "metadata": {},
     "output_type": "execute_result"
    }
   ],
   "source": [
    "spatkPokemonMin = dfPokemon.loc[[dfPokemon[\"hp\"].idxmin()]]\n",
    "spatkPokemonMin"
   ]
  },
  {
   "cell_type": "code",
   "execution_count": 26,
   "metadata": {
    "ExecuteTime": {
     "end_time": "2020-10-29T05:38:10.898542Z",
     "start_time": "2020-10-29T05:38:10.887880Z"
    },
    "colab": {
     "base_uri": "https://localhost:8080/",
     "height": 171
    },
    "id": "F03XHZyxvFY3",
    "outputId": "a5e2f34b-53b8-4a45-9f2e-089cccb52f72"
   },
   "outputs": [
    {
     "data": {
      "text/html": [
       "<img src=\"https://img.pokemondb.net/sprites/home/normal/shedinja.png\" width=\"150\" height=\"150\"/>"
      ],
      "text/plain": [
       "<IPython.core.display.Image object>"
      ]
     },
     "execution_count": 26,
     "metadata": {},
     "output_type": "execute_result"
    }
   ],
   "source": [
    "Image(url=spatkPokemonMin[\"img\"].item(), width=150, height=150)"
   ]
  },
  {
   "cell_type": "markdown",
   "metadata": {
    "id": "bBjV5AxUeJmI"
   },
   "source": [
    "Comparação `spdef` (pontos de defesa especial)"
   ]
  },
  {
   "cell_type": "code",
   "execution_count": 27,
   "metadata": {
    "ExecuteTime": {
     "end_time": "2020-10-29T05:38:10.929862Z",
     "start_time": "2020-10-29T05:38:10.901984Z"
    },
    "colab": {
     "base_uri": "https://localhost:8080/",
     "height": 114
    },
    "id": "CeK-WFGyeMX_",
    "outputId": "ab58abe9-6afc-492c-d605-97fd50389e0e"
   },
   "outputs": [
    {
     "data": {
      "text/html": [
       "<div>\n",
       "<style scoped>\n",
       "    .dataframe tbody tr th:only-of-type {\n",
       "        vertical-align: middle;\n",
       "    }\n",
       "\n",
       "    .dataframe tbody tr th {\n",
       "        vertical-align: top;\n",
       "    }\n",
       "\n",
       "    .dataframe thead th {\n",
       "        text-align: right;\n",
       "    }\n",
       "</style>\n",
       "<table border=\"1\" class=\"dataframe\">\n",
       "  <thead>\n",
       "    <tr style=\"text-align: right;\">\n",
       "      <th></th>\n",
       "      <th>cod</th>\n",
       "      <th>name</th>\n",
       "      <th>generation</th>\n",
       "      <th>status</th>\n",
       "      <th>species</th>\n",
       "      <th>form</th>\n",
       "      <th>type1</th>\n",
       "      <th>type2</th>\n",
       "      <th>height_m</th>\n",
       "      <th>weight_kg</th>\n",
       "      <th>total</th>\n",
       "      <th>hp</th>\n",
       "      <th>attack</th>\n",
       "      <th>defense</th>\n",
       "      <th>spatk</th>\n",
       "      <th>spdef</th>\n",
       "      <th>speed</th>\n",
       "      <th>img</th>\n",
       "    </tr>\n",
       "  </thead>\n",
       "  <tbody>\n",
       "    <tr>\n",
       "      <th>1027</th>\n",
       "      <td>890</td>\n",
       "      <td>Eternatus</td>\n",
       "      <td>8</td>\n",
       "      <td>Legendary</td>\n",
       "      <td>Gigantic Pokémon</td>\n",
       "      <td>Eternamax</td>\n",
       "      <td>Poison</td>\n",
       "      <td>Dragon</td>\n",
       "      <td>100.0</td>\n",
       "      <td>NaN</td>\n",
       "      <td>1125</td>\n",
       "      <td>255</td>\n",
       "      <td>115</td>\n",
       "      <td>250</td>\n",
       "      <td>125</td>\n",
       "      <td>250</td>\n",
       "      <td>130</td>\n",
       "      <td>https://img.pokemondb.net/sprites/home/normal/...</td>\n",
       "    </tr>\n",
       "  </tbody>\n",
       "</table>\n",
       "</div>"
      ],
      "text/plain": [
       "      cod       name  generation     status           species       form  \\\n",
       "1027  890  Eternatus           8  Legendary  Gigantic Pokémon  Eternamax   \n",
       "\n",
       "       type1   type2  height_m  weight_kg  total   hp  attack  defense  spatk  \\\n",
       "1027  Poison  Dragon     100.0        NaN   1125  255     115      250    125   \n",
       "\n",
       "      spdef  speed                                                img  \n",
       "1027    250    130  https://img.pokemondb.net/sprites/home/normal/...  "
      ]
     },
     "execution_count": 27,
     "metadata": {},
     "output_type": "execute_result"
    }
   ],
   "source": [
    "spdefPokemonMax = dfPokemon.loc[[dfPokemon[\"spdef\"].idxmax()]]\n",
    "spdefPokemonMax"
   ]
  },
  {
   "cell_type": "code",
   "execution_count": 28,
   "metadata": {
    "ExecuteTime": {
     "end_time": "2020-10-29T05:38:10.940796Z",
     "start_time": "2020-10-29T05:38:10.932658Z"
    },
    "colab": {
     "base_uri": "https://localhost:8080/",
     "height": 171
    },
    "id": "fArw5LmGvHMo",
    "outputId": "25c35185-5a1a-429e-87b6-e6845b5314fd"
   },
   "outputs": [
    {
     "data": {
      "text/html": [
       "<img src=\"https://img.pokemondb.net/sprites/home/normal/eternatus-eternamax.png\" width=\"150\" height=\"150\"/>"
      ],
      "text/plain": [
       "<IPython.core.display.Image object>"
      ]
     },
     "execution_count": 28,
     "metadata": {},
     "output_type": "execute_result"
    }
   ],
   "source": [
    "Image(url=spdefPokemonMax[\"img\"].item(), width=150, height=150)"
   ]
  },
  {
   "cell_type": "code",
   "execution_count": 29,
   "metadata": {
    "ExecuteTime": {
     "end_time": "2020-10-29T05:38:10.976972Z",
     "start_time": "2020-10-29T05:38:10.945754Z"
    },
    "colab": {
     "base_uri": "https://localhost:8080/",
     "height": 114
    },
    "id": "T68FBWg3ePnD",
    "outputId": "4ade1748-f8af-4c12-a8e4-e7ebfa7d91cd"
   },
   "outputs": [
    {
     "data": {
      "text/html": [
       "<div>\n",
       "<style scoped>\n",
       "    .dataframe tbody tr th:only-of-type {\n",
       "        vertical-align: middle;\n",
       "    }\n",
       "\n",
       "    .dataframe tbody tr th {\n",
       "        vertical-align: top;\n",
       "    }\n",
       "\n",
       "    .dataframe thead th {\n",
       "        text-align: right;\n",
       "    }\n",
       "</style>\n",
       "<table border=\"1\" class=\"dataframe\">\n",
       "  <thead>\n",
       "    <tr style=\"text-align: right;\">\n",
       "      <th></th>\n",
       "      <th>cod</th>\n",
       "      <th>name</th>\n",
       "      <th>generation</th>\n",
       "      <th>status</th>\n",
       "      <th>species</th>\n",
       "      <th>form</th>\n",
       "      <th>type1</th>\n",
       "      <th>type2</th>\n",
       "      <th>height_m</th>\n",
       "      <th>weight_kg</th>\n",
       "      <th>total</th>\n",
       "      <th>hp</th>\n",
       "      <th>attack</th>\n",
       "      <th>defense</th>\n",
       "      <th>spatk</th>\n",
       "      <th>spdef</th>\n",
       "      <th>speed</th>\n",
       "      <th>img</th>\n",
       "    </tr>\n",
       "  </thead>\n",
       "  <tbody>\n",
       "    <tr>\n",
       "      <th>13</th>\n",
       "      <td>010</td>\n",
       "      <td>Caterpie</td>\n",
       "      <td>1</td>\n",
       "      <td>Normal</td>\n",
       "      <td>Worm Pokémon</td>\n",
       "      <td></td>\n",
       "      <td>Bug</td>\n",
       "      <td></td>\n",
       "      <td>0.3</td>\n",
       "      <td>2.9</td>\n",
       "      <td>195</td>\n",
       "      <td>45</td>\n",
       "      <td>30</td>\n",
       "      <td>35</td>\n",
       "      <td>20</td>\n",
       "      <td>20</td>\n",
       "      <td>45</td>\n",
       "      <td>https://img.pokemondb.net/sprites/home/normal/...</td>\n",
       "    </tr>\n",
       "  </tbody>\n",
       "</table>\n",
       "</div>"
      ],
      "text/plain": [
       "    cod      name  generation  status       species form type1 type2  \\\n",
       "13  010  Caterpie           1  Normal  Worm Pokémon        Bug         \n",
       "\n",
       "    height_m  weight_kg  total  hp  attack  defense  spatk  spdef  speed  \\\n",
       "13       0.3        2.9    195  45      30       35     20     20     45   \n",
       "\n",
       "                                                  img  \n",
       "13  https://img.pokemondb.net/sprites/home/normal/...  "
      ]
     },
     "execution_count": 29,
     "metadata": {},
     "output_type": "execute_result"
    }
   ],
   "source": [
    "spdefPokemonMin = dfPokemon.loc[[dfPokemon[\"spdef\"].idxmin()]]\n",
    "spdefPokemonMin"
   ]
  },
  {
   "cell_type": "code",
   "execution_count": 30,
   "metadata": {
    "ExecuteTime": {
     "end_time": "2020-10-29T05:38:10.986140Z",
     "start_time": "2020-10-29T05:38:10.980117Z"
    },
    "colab": {
     "base_uri": "https://localhost:8080/",
     "height": 171
    },
    "id": "2z-SnK9MvImC",
    "outputId": "ce84daba-cfd2-4b19-e27b-480742ed5b0a"
   },
   "outputs": [
    {
     "data": {
      "text/html": [
       "<img src=\"https://img.pokemondb.net/sprites/home/normal/caterpie.png\" width=\"150\" height=\"150\"/>"
      ],
      "text/plain": [
       "<IPython.core.display.Image object>"
      ]
     },
     "execution_count": 30,
     "metadata": {},
     "output_type": "execute_result"
    }
   ],
   "source": [
    "Image(url=spdefPokemonMin[\"img\"].item(), width=150, height=150)"
   ]
  },
  {
   "cell_type": "markdown",
   "metadata": {
    "id": "TU0w3dV-fome"
   },
   "source": [
    "Comparação `speed` (pontos de velocidade)"
   ]
  },
  {
   "cell_type": "code",
   "execution_count": 31,
   "metadata": {
    "ExecuteTime": {
     "end_time": "2020-10-29T05:38:11.014446Z",
     "start_time": "2020-10-29T05:38:10.991545Z"
    },
    "colab": {
     "base_uri": "https://localhost:8080/",
     "height": 114
    },
    "id": "K8apC9oFfsbH",
    "outputId": "78dff298-64bd-4cc7-8d7a-170f02348453"
   },
   "outputs": [
    {
     "data": {
      "text/html": [
       "<div>\n",
       "<style scoped>\n",
       "    .dataframe tbody tr th:only-of-type {\n",
       "        vertical-align: middle;\n",
       "    }\n",
       "\n",
       "    .dataframe tbody tr th {\n",
       "        vertical-align: top;\n",
       "    }\n",
       "\n",
       "    .dataframe thead th {\n",
       "        text-align: right;\n",
       "    }\n",
       "</style>\n",
       "<table border=\"1\" class=\"dataframe\">\n",
       "  <thead>\n",
       "    <tr style=\"text-align: right;\">\n",
       "      <th></th>\n",
       "      <th>cod</th>\n",
       "      <th>name</th>\n",
       "      <th>generation</th>\n",
       "      <th>status</th>\n",
       "      <th>species</th>\n",
       "      <th>form</th>\n",
       "      <th>type1</th>\n",
       "      <th>type2</th>\n",
       "      <th>height_m</th>\n",
       "      <th>weight_kg</th>\n",
       "      <th>total</th>\n",
       "      <th>hp</th>\n",
       "      <th>attack</th>\n",
       "      <th>defense</th>\n",
       "      <th>spatk</th>\n",
       "      <th>spdef</th>\n",
       "      <th>speed</th>\n",
       "      <th>img</th>\n",
       "    </tr>\n",
       "  </thead>\n",
       "  <tbody>\n",
       "    <tr>\n",
       "      <th>463</th>\n",
       "      <td>386</td>\n",
       "      <td>Deoxys</td>\n",
       "      <td>3</td>\n",
       "      <td>Mythical</td>\n",
       "      <td>DNA Pokémon</td>\n",
       "      <td>Speed Forme</td>\n",
       "      <td>Psychic</td>\n",
       "      <td></td>\n",
       "      <td>1.7</td>\n",
       "      <td>60.8</td>\n",
       "      <td>600</td>\n",
       "      <td>50</td>\n",
       "      <td>95</td>\n",
       "      <td>90</td>\n",
       "      <td>95</td>\n",
       "      <td>90</td>\n",
       "      <td>180</td>\n",
       "      <td>https://img.pokemondb.net/sprites/home/normal/...</td>\n",
       "    </tr>\n",
       "  </tbody>\n",
       "</table>\n",
       "</div>"
      ],
      "text/plain": [
       "     cod    name  generation    status      species         form    type1  \\\n",
       "463  386  Deoxys           3  Mythical  DNA Pokémon  Speed Forme  Psychic   \n",
       "\n",
       "    type2  height_m  weight_kg  total  hp  attack  defense  spatk  spdef  \\\n",
       "463             1.7       60.8    600  50      95       90     95     90   \n",
       "\n",
       "     speed                                                img  \n",
       "463    180  https://img.pokemondb.net/sprites/home/normal/...  "
      ]
     },
     "execution_count": 31,
     "metadata": {},
     "output_type": "execute_result"
    }
   ],
   "source": [
    "speedPokemonMax = dfPokemon.loc[[dfPokemon[\"speed\"].idxmax()]]\n",
    "speedPokemonMax"
   ]
  },
  {
   "cell_type": "code",
   "execution_count": 32,
   "metadata": {
    "ExecuteTime": {
     "end_time": "2020-10-29T05:38:11.027290Z",
     "start_time": "2020-10-29T05:38:11.017765Z"
    },
    "colab": {
     "base_uri": "https://localhost:8080/",
     "height": 171
    },
    "id": "V7SE6RxmvJxd",
    "outputId": "6c899e3b-2218-4b32-a4ec-e8fb9022bbc9"
   },
   "outputs": [
    {
     "data": {
      "text/html": [
       "<img src=\"https://img.pokemondb.net/sprites/home/normal/deoxys-speed.png\" width=\"150\" height=\"150\"/>"
      ],
      "text/plain": [
       "<IPython.core.display.Image object>"
      ]
     },
     "execution_count": 32,
     "metadata": {},
     "output_type": "execute_result"
    }
   ],
   "source": [
    "Image(url=speedPokemonMax[\"img\"].item(), width=150, height=150)"
   ]
  },
  {
   "cell_type": "code",
   "execution_count": 33,
   "metadata": {
    "ExecuteTime": {
     "end_time": "2020-10-29T05:38:11.052245Z",
     "start_time": "2020-10-29T05:38:11.030570Z"
    },
    "colab": {
     "base_uri": "https://localhost:8080/",
     "height": 114
    },
    "id": "XXM1JaSbhKpK",
    "outputId": "1615be5e-84df-48ec-90ad-fa0c70cabc24"
   },
   "outputs": [
    {
     "data": {
      "text/html": [
       "<div>\n",
       "<style scoped>\n",
       "    .dataframe tbody tr th:only-of-type {\n",
       "        vertical-align: middle;\n",
       "    }\n",
       "\n",
       "    .dataframe tbody tr th {\n",
       "        vertical-align: top;\n",
       "    }\n",
       "\n",
       "    .dataframe thead th {\n",
       "        text-align: right;\n",
       "    }\n",
       "</style>\n",
       "<table border=\"1\" class=\"dataframe\">\n",
       "  <thead>\n",
       "    <tr style=\"text-align: right;\">\n",
       "      <th></th>\n",
       "      <th>cod</th>\n",
       "      <th>name</th>\n",
       "      <th>generation</th>\n",
       "      <th>status</th>\n",
       "      <th>species</th>\n",
       "      <th>form</th>\n",
       "      <th>type1</th>\n",
       "      <th>type2</th>\n",
       "      <th>height_m</th>\n",
       "      <th>weight_kg</th>\n",
       "      <th>total</th>\n",
       "      <th>hp</th>\n",
       "      <th>attack</th>\n",
       "      <th>defense</th>\n",
       "      <th>spatk</th>\n",
       "      <th>spdef</th>\n",
       "      <th>speed</th>\n",
       "      <th>img</th>\n",
       "    </tr>\n",
       "  </thead>\n",
       "  <tbody>\n",
       "    <tr>\n",
       "      <th>256</th>\n",
       "      <td>213</td>\n",
       "      <td>Shuckle</td>\n",
       "      <td>2</td>\n",
       "      <td>Normal</td>\n",
       "      <td>Mold Pokémon</td>\n",
       "      <td></td>\n",
       "      <td>Bug</td>\n",
       "      <td>Rock</td>\n",
       "      <td>0.6</td>\n",
       "      <td>20.5</td>\n",
       "      <td>505</td>\n",
       "      <td>20</td>\n",
       "      <td>10</td>\n",
       "      <td>230</td>\n",
       "      <td>10</td>\n",
       "      <td>230</td>\n",
       "      <td>5</td>\n",
       "      <td>https://img.pokemondb.net/sprites/home/normal/...</td>\n",
       "    </tr>\n",
       "  </tbody>\n",
       "</table>\n",
       "</div>"
      ],
      "text/plain": [
       "     cod     name  generation  status       species form type1 type2  \\\n",
       "256  213  Shuckle           2  Normal  Mold Pokémon        Bug  Rock   \n",
       "\n",
       "     height_m  weight_kg  total  hp  attack  defense  spatk  spdef  speed  \\\n",
       "256       0.6       20.5    505  20      10      230     10    230      5   \n",
       "\n",
       "                                                   img  \n",
       "256  https://img.pokemondb.net/sprites/home/normal/...  "
      ]
     },
     "execution_count": 33,
     "metadata": {},
     "output_type": "execute_result"
    }
   ],
   "source": [
    "speedPokemonMin = dfPokemon.loc[[dfPokemon[\"speed\"].idxmin()]]\n",
    "speedPokemonMin"
   ]
  },
  {
   "cell_type": "code",
   "execution_count": 34,
   "metadata": {
    "ExecuteTime": {
     "end_time": "2020-10-29T05:38:11.063619Z",
     "start_time": "2020-10-29T05:38:11.056604Z"
    },
    "colab": {
     "base_uri": "https://localhost:8080/",
     "height": 171
    },
    "id": "BcYKAXtGvLPh",
    "outputId": "167c6083-4e13-4fbc-c5cd-ed0a714cc32b"
   },
   "outputs": [
    {
     "data": {
      "text/html": [
       "<img src=\"https://img.pokemondb.net/sprites/home/normal/shuckle.png\" width=\"150\" height=\"150\"/>"
      ],
      "text/plain": [
       "<IPython.core.display.Image object>"
      ]
     },
     "execution_count": 34,
     "metadata": {},
     "output_type": "execute_result"
    }
   ],
   "source": [
    "Image(url=speedPokemonMin[\"img\"].item(), width=150, height=150)"
   ]
  },
  {
   "cell_type": "markdown",
   "metadata": {
    "id": "NEaOXWGa1KFN"
   },
   "source": [
    "Comparação `total` (pontos totais dos stats)"
   ]
  },
  {
   "cell_type": "code",
   "execution_count": 35,
   "metadata": {
    "ExecuteTime": {
     "end_time": "2020-10-29T05:38:11.092097Z",
     "start_time": "2020-10-29T05:38:11.066850Z"
    },
    "colab": {
     "base_uri": "https://localhost:8080/",
     "height": 114
    },
    "id": "YGZduJ5h1Coj",
    "outputId": "0487102d-a40c-40bc-e243-2d3f390fd7b8"
   },
   "outputs": [
    {
     "data": {
      "text/html": [
       "<div>\n",
       "<style scoped>\n",
       "    .dataframe tbody tr th:only-of-type {\n",
       "        vertical-align: middle;\n",
       "    }\n",
       "\n",
       "    .dataframe tbody tr th {\n",
       "        vertical-align: top;\n",
       "    }\n",
       "\n",
       "    .dataframe thead th {\n",
       "        text-align: right;\n",
       "    }\n",
       "</style>\n",
       "<table border=\"1\" class=\"dataframe\">\n",
       "  <thead>\n",
       "    <tr style=\"text-align: right;\">\n",
       "      <th></th>\n",
       "      <th>cod</th>\n",
       "      <th>name</th>\n",
       "      <th>generation</th>\n",
       "      <th>status</th>\n",
       "      <th>species</th>\n",
       "      <th>form</th>\n",
       "      <th>type1</th>\n",
       "      <th>type2</th>\n",
       "      <th>height_m</th>\n",
       "      <th>weight_kg</th>\n",
       "      <th>total</th>\n",
       "      <th>hp</th>\n",
       "      <th>attack</th>\n",
       "      <th>defense</th>\n",
       "      <th>spatk</th>\n",
       "      <th>spdef</th>\n",
       "      <th>speed</th>\n",
       "      <th>img</th>\n",
       "    </tr>\n",
       "  </thead>\n",
       "  <tbody>\n",
       "    <tr>\n",
       "      <th>1027</th>\n",
       "      <td>890</td>\n",
       "      <td>Eternatus</td>\n",
       "      <td>8</td>\n",
       "      <td>Legendary</td>\n",
       "      <td>Gigantic Pokémon</td>\n",
       "      <td>Eternamax</td>\n",
       "      <td>Poison</td>\n",
       "      <td>Dragon</td>\n",
       "      <td>100.0</td>\n",
       "      <td>NaN</td>\n",
       "      <td>1125</td>\n",
       "      <td>255</td>\n",
       "      <td>115</td>\n",
       "      <td>250</td>\n",
       "      <td>125</td>\n",
       "      <td>250</td>\n",
       "      <td>130</td>\n",
       "      <td>https://img.pokemondb.net/sprites/home/normal/...</td>\n",
       "    </tr>\n",
       "  </tbody>\n",
       "</table>\n",
       "</div>"
      ],
      "text/plain": [
       "      cod       name  generation     status           species       form  \\\n",
       "1027  890  Eternatus           8  Legendary  Gigantic Pokémon  Eternamax   \n",
       "\n",
       "       type1   type2  height_m  weight_kg  total   hp  attack  defense  spatk  \\\n",
       "1027  Poison  Dragon     100.0        NaN   1125  255     115      250    125   \n",
       "\n",
       "      spdef  speed                                                img  \n",
       "1027    250    130  https://img.pokemondb.net/sprites/home/normal/...  "
      ]
     },
     "execution_count": 35,
     "metadata": {},
     "output_type": "execute_result"
    }
   ],
   "source": [
    "totalPokemonMax = dfPokemon.loc[[dfPokemon[\"total\"].idxmax()]]\n",
    "totalPokemonMax"
   ]
  },
  {
   "cell_type": "code",
   "execution_count": 36,
   "metadata": {
    "ExecuteTime": {
     "end_time": "2020-10-29T05:38:11.103159Z",
     "start_time": "2020-10-29T05:38:11.096508Z"
    },
    "colab": {
     "base_uri": "https://localhost:8080/",
     "height": 171
    },
    "id": "bkFT0XY41WeI",
    "outputId": "dc213317-b38b-44ec-d529-6369c6b21049"
   },
   "outputs": [
    {
     "data": {
      "text/html": [
       "<img src=\"https://img.pokemondb.net/sprites/home/normal/eternatus-eternamax.png\" width=\"150\" height=\"150\"/>"
      ],
      "text/plain": [
       "<IPython.core.display.Image object>"
      ]
     },
     "execution_count": 36,
     "metadata": {},
     "output_type": "execute_result"
    }
   ],
   "source": [
    "Image(url=totalPokemonMax[\"img\"].item(), width=150, height=150)"
   ]
  },
  {
   "cell_type": "code",
   "execution_count": 37,
   "metadata": {
    "ExecuteTime": {
     "end_time": "2020-10-29T05:38:11.133854Z",
     "start_time": "2020-10-29T05:38:11.108687Z"
    },
    "colab": {
     "base_uri": "https://localhost:8080/",
     "height": 114
    },
    "id": "3GizC75U1fml",
    "outputId": "3d150177-bd3d-4728-d811-7911260a4809"
   },
   "outputs": [
    {
     "data": {
      "text/html": [
       "<div>\n",
       "<style scoped>\n",
       "    .dataframe tbody tr th:only-of-type {\n",
       "        vertical-align: middle;\n",
       "    }\n",
       "\n",
       "    .dataframe tbody tr th {\n",
       "        vertical-align: top;\n",
       "    }\n",
       "\n",
       "    .dataframe thead th {\n",
       "        text-align: right;\n",
       "    }\n",
       "</style>\n",
       "<table border=\"1\" class=\"dataframe\">\n",
       "  <thead>\n",
       "    <tr style=\"text-align: right;\">\n",
       "      <th></th>\n",
       "      <th>cod</th>\n",
       "      <th>name</th>\n",
       "      <th>generation</th>\n",
       "      <th>status</th>\n",
       "      <th>species</th>\n",
       "      <th>form</th>\n",
       "      <th>type1</th>\n",
       "      <th>type2</th>\n",
       "      <th>height_m</th>\n",
       "      <th>weight_kg</th>\n",
       "      <th>total</th>\n",
       "      <th>hp</th>\n",
       "      <th>attack</th>\n",
       "      <th>defense</th>\n",
       "      <th>spatk</th>\n",
       "      <th>spdef</th>\n",
       "      <th>speed</th>\n",
       "      <th>img</th>\n",
       "    </tr>\n",
       "  </thead>\n",
       "  <tbody>\n",
       "    <tr>\n",
       "      <th>871</th>\n",
       "      <td>746</td>\n",
       "      <td>Wishiwashi</td>\n",
       "      <td>7</td>\n",
       "      <td>Normal</td>\n",
       "      <td>Small Fry Pokémon</td>\n",
       "      <td>Solo Form</td>\n",
       "      <td>Water</td>\n",
       "      <td></td>\n",
       "      <td>0.2</td>\n",
       "      <td>0.3</td>\n",
       "      <td>175</td>\n",
       "      <td>45</td>\n",
       "      <td>20</td>\n",
       "      <td>20</td>\n",
       "      <td>25</td>\n",
       "      <td>25</td>\n",
       "      <td>40</td>\n",
       "      <td>https://img.pokemondb.net/sprites/home/normal/...</td>\n",
       "    </tr>\n",
       "  </tbody>\n",
       "</table>\n",
       "</div>"
      ],
      "text/plain": [
       "     cod        name  generation  status            species       form  type1  \\\n",
       "871  746  Wishiwashi           7  Normal  Small Fry Pokémon  Solo Form  Water   \n",
       "\n",
       "    type2  height_m  weight_kg  total  hp  attack  defense  spatk  spdef  \\\n",
       "871             0.2        0.3    175  45      20       20     25     25   \n",
       "\n",
       "     speed                                                img  \n",
       "871     40  https://img.pokemondb.net/sprites/home/normal/...  "
      ]
     },
     "execution_count": 37,
     "metadata": {},
     "output_type": "execute_result"
    }
   ],
   "source": [
    "totalPokemonMin = dfPokemon.loc[[dfPokemon[\"total\"].idxmin()]]\n",
    "totalPokemonMin"
   ]
  },
  {
   "cell_type": "code",
   "execution_count": 38,
   "metadata": {
    "ExecuteTime": {
     "end_time": "2020-10-29T05:38:11.146619Z",
     "start_time": "2020-10-29T05:38:11.136990Z"
    },
    "colab": {
     "base_uri": "https://localhost:8080/",
     "height": 171
    },
    "id": "NQsiHK5e2LPf",
    "outputId": "a42f0b34-b7f9-4a72-ec68-19910f1acadf"
   },
   "outputs": [
    {
     "data": {
      "text/html": [
       "<img src=\"https://img.pokemondb.net/sprites/home/normal/wishiwashi-solo.png\" width=\"150\" height=\"150\"/>"
      ],
      "text/plain": [
       "<IPython.core.display.Image object>"
      ]
     },
     "execution_count": 38,
     "metadata": {},
     "output_type": "execute_result"
    }
   ],
   "source": [
    "Image(url=totalPokemonMin[\"img\"].item(), width=150, height=150)"
   ]
  },
  {
   "cell_type": "markdown",
   "metadata": {
    "id": "-GVsGe2bAW38"
   },
   "source": [
    "#### As melhores gerações <a name=\"bestgen\"></a>\n",
    "\n",
    "Considerando os stats dos Pokémons, representados pelas colunas analisadas anteriormente, vamos agrupar os Pokémons em gerações, analisando quais têm as melhores médias para os stats."
   ]
  },
  {
   "cell_type": "markdown",
   "metadata": {
    "id": "vVhZREtiAbQ5"
   },
   "source": [
    "Assim, fazendo as médias dos stats, ordenamos em ordem descendente as gerações."
   ]
  },
  {
   "cell_type": "code",
   "execution_count": 39,
   "metadata": {
    "ExecuteTime": {
     "end_time": "2020-10-29T05:38:11.174124Z",
     "start_time": "2020-10-29T05:38:11.149844Z"
    },
    "colab": {
     "base_uri": "https://localhost:8080/",
     "height": 332
    },
    "id": "lzzMSOUlNKEj",
    "outputId": "efe7a7c6-01f1-4c5c-f406-fa49ac104f0b"
   },
   "outputs": [
    {
     "data": {
      "text/html": [
       "<div>\n",
       "<style scoped>\n",
       "    .dataframe tbody tr th:only-of-type {\n",
       "        vertical-align: middle;\n",
       "    }\n",
       "\n",
       "    .dataframe tbody tr th {\n",
       "        vertical-align: top;\n",
       "    }\n",
       "\n",
       "    .dataframe thead th {\n",
       "        text-align: right;\n",
       "    }\n",
       "</style>\n",
       "<table border=\"1\" class=\"dataframe\">\n",
       "  <thead>\n",
       "    <tr style=\"text-align: right;\">\n",
       "      <th></th>\n",
       "      <th>total</th>\n",
       "      <th>hp</th>\n",
       "      <th>attack</th>\n",
       "      <th>defense</th>\n",
       "      <th>spatk</th>\n",
       "      <th>spdef</th>\n",
       "      <th>speed</th>\n",
       "    </tr>\n",
       "    <tr>\n",
       "      <th>generation</th>\n",
       "      <th></th>\n",
       "      <th></th>\n",
       "      <th></th>\n",
       "      <th></th>\n",
       "      <th></th>\n",
       "      <th></th>\n",
       "      <th></th>\n",
       "    </tr>\n",
       "  </thead>\n",
       "  <tbody>\n",
       "    <tr>\n",
       "      <th>7</th>\n",
       "      <td>459.232323</td>\n",
       "      <td>71.464646</td>\n",
       "      <td>87.313131</td>\n",
       "      <td>79.202020</td>\n",
       "      <td>77.848485</td>\n",
       "      <td>75.555556</td>\n",
       "      <td>67.848485</td>\n",
       "    </tr>\n",
       "    <tr>\n",
       "      <th>4</th>\n",
       "      <td>459.016529</td>\n",
       "      <td>73.082645</td>\n",
       "      <td>82.867769</td>\n",
       "      <td>78.132231</td>\n",
       "      <td>76.404959</td>\n",
       "      <td>77.190083</td>\n",
       "      <td>71.338843</td>\n",
       "    </tr>\n",
       "    <tr>\n",
       "      <th>6</th>\n",
       "      <td>442.082353</td>\n",
       "      <td>69.882353</td>\n",
       "      <td>77.070588</td>\n",
       "      <td>76.905882</td>\n",
       "      <td>75.141176</td>\n",
       "      <td>75.082353</td>\n",
       "      <td>68.000000</td>\n",
       "    </tr>\n",
       "    <tr>\n",
       "      <th>8</th>\n",
       "      <td>438.329545</td>\n",
       "      <td>70.465909</td>\n",
       "      <td>80.000000</td>\n",
       "      <td>75.125000</td>\n",
       "      <td>71.772727</td>\n",
       "      <td>72.454545</td>\n",
       "      <td>68.511364</td>\n",
       "    </tr>\n",
       "    <tr>\n",
       "      <th>3</th>\n",
       "      <td>436.006061</td>\n",
       "      <td>66.806061</td>\n",
       "      <td>81.030303</td>\n",
       "      <td>74.048485</td>\n",
       "      <td>75.600000</td>\n",
       "      <td>71.139394</td>\n",
       "      <td>67.381818</td>\n",
       "    </tr>\n",
       "    <tr>\n",
       "      <th>5</th>\n",
       "      <td>435.157895</td>\n",
       "      <td>72.292398</td>\n",
       "      <td>82.976608</td>\n",
       "      <td>72.269006</td>\n",
       "      <td>70.929825</td>\n",
       "      <td>68.426901</td>\n",
       "      <td>68.263158</td>\n",
       "    </tr>\n",
       "    <tr>\n",
       "      <th>1</th>\n",
       "      <td>424.104167</td>\n",
       "      <td>64.760417</td>\n",
       "      <td>77.302083</td>\n",
       "      <td>71.005208</td>\n",
       "      <td>69.927083</td>\n",
       "      <td>68.598958</td>\n",
       "      <td>72.510417</td>\n",
       "    </tr>\n",
       "    <tr>\n",
       "      <th>2</th>\n",
       "      <td>419.140187</td>\n",
       "      <td>71.476636</td>\n",
       "      <td>71.869159</td>\n",
       "      <td>73.822430</td>\n",
       "      <td>66.121495</td>\n",
       "      <td>74.336449</td>\n",
       "      <td>61.514019</td>\n",
       "    </tr>\n",
       "  </tbody>\n",
       "</table>\n",
       "</div>"
      ],
      "text/plain": [
       "                 total         hp     attack    defense      spatk      spdef  \\\n",
       "generation                                                                      \n",
       "7           459.232323  71.464646  87.313131  79.202020  77.848485  75.555556   \n",
       "4           459.016529  73.082645  82.867769  78.132231  76.404959  77.190083   \n",
       "6           442.082353  69.882353  77.070588  76.905882  75.141176  75.082353   \n",
       "8           438.329545  70.465909  80.000000  75.125000  71.772727  72.454545   \n",
       "3           436.006061  66.806061  81.030303  74.048485  75.600000  71.139394   \n",
       "5           435.157895  72.292398  82.976608  72.269006  70.929825  68.426901   \n",
       "1           424.104167  64.760417  77.302083  71.005208  69.927083  68.598958   \n",
       "2           419.140187  71.476636  71.869159  73.822430  66.121495  74.336449   \n",
       "\n",
       "                speed  \n",
       "generation             \n",
       "7           67.848485  \n",
       "4           71.338843  \n",
       "6           68.000000  \n",
       "8           68.511364  \n",
       "3           67.381818  \n",
       "5           68.263158  \n",
       "1           72.510417  \n",
       "2           61.514019  "
      ]
     },
     "execution_count": 39,
     "metadata": {},
     "output_type": "execute_result"
    }
   ],
   "source": [
    "bestGenerations = dfPokemon.groupby(\"generation\").mean()[\n",
    "    [\"total\", \"hp\", \"attack\", \"defense\", \"spatk\", \"spdef\", \"speed\"]\n",
    "]\n",
    "\n",
    "bestGenerations.sort_values(by=\"total\", ascending=False)"
   ]
  },
  {
   "cell_type": "markdown",
   "metadata": {
    "id": "2SnCJfnHQ6GI"
   },
   "source": [
    "#### Resumo descritivo <a name=\"resumo\"></a>\n",
    "\n",
    "Fazemos o resumo das medidas estatísticas dos dados."
   ]
  },
  {
   "cell_type": "code",
   "execution_count": 40,
   "metadata": {
    "ExecuteTime": {
     "end_time": "2020-10-29T05:38:11.242013Z",
     "start_time": "2020-10-29T05:38:11.178536Z"
    },
    "colab": {
     "base_uri": "https://localhost:8080/",
     "height": 320
    },
    "id": "OYnHr2EAQ6T6",
    "outputId": "6fdcdf09-82b2-45cc-efba-8e036358308a"
   },
   "outputs": [
    {
     "data": {
      "text/html": [
       "<div>\n",
       "<style scoped>\n",
       "    .dataframe tbody tr th:only-of-type {\n",
       "        vertical-align: middle;\n",
       "    }\n",
       "\n",
       "    .dataframe tbody tr th {\n",
       "        vertical-align: top;\n",
       "    }\n",
       "\n",
       "    .dataframe thead th {\n",
       "        text-align: right;\n",
       "    }\n",
       "</style>\n",
       "<table border=\"1\" class=\"dataframe\">\n",
       "  <thead>\n",
       "    <tr style=\"text-align: right;\">\n",
       "      <th></th>\n",
       "      <th>generation</th>\n",
       "      <th>height_m</th>\n",
       "      <th>weight_kg</th>\n",
       "      <th>total</th>\n",
       "      <th>hp</th>\n",
       "      <th>attack</th>\n",
       "      <th>defense</th>\n",
       "      <th>spatk</th>\n",
       "      <th>spdef</th>\n",
       "      <th>speed</th>\n",
       "    </tr>\n",
       "  </thead>\n",
       "  <tbody>\n",
       "    <tr>\n",
       "      <th>count</th>\n",
       "      <td>1028.000000</td>\n",
       "      <td>1028.000000</td>\n",
       "      <td>1027.000000</td>\n",
       "      <td>1028.000000</td>\n",
       "      <td>1028.000000</td>\n",
       "      <td>1028.000000</td>\n",
       "      <td>1028.000000</td>\n",
       "      <td>1028.000000</td>\n",
       "      <td>1028.000000</td>\n",
       "      <td>1028.000000</td>\n",
       "    </tr>\n",
       "    <tr>\n",
       "      <th>mean</th>\n",
       "      <td>4.034047</td>\n",
       "      <td>1.368093</td>\n",
       "      <td>69.753749</td>\n",
       "      <td>437.533074</td>\n",
       "      <td>69.577821</td>\n",
       "      <td>80.109922</td>\n",
       "      <td>74.465953</td>\n",
       "      <td>72.722763</td>\n",
       "      <td>72.122568</td>\n",
       "      <td>68.534047</td>\n",
       "    </tr>\n",
       "    <tr>\n",
       "      <th>std</th>\n",
       "      <td>2.234937</td>\n",
       "      <td>3.380126</td>\n",
       "      <td>129.221230</td>\n",
       "      <td>121.641715</td>\n",
       "      <td>26.385849</td>\n",
       "      <td>32.352799</td>\n",
       "      <td>31.281363</td>\n",
       "      <td>32.656156</td>\n",
       "      <td>28.058406</td>\n",
       "      <td>29.802103</td>\n",
       "    </tr>\n",
       "    <tr>\n",
       "      <th>min</th>\n",
       "      <td>1.000000</td>\n",
       "      <td>0.100000</td>\n",
       "      <td>0.100000</td>\n",
       "      <td>175.000000</td>\n",
       "      <td>1.000000</td>\n",
       "      <td>5.000000</td>\n",
       "      <td>5.000000</td>\n",
       "      <td>10.000000</td>\n",
       "      <td>20.000000</td>\n",
       "      <td>5.000000</td>\n",
       "    </tr>\n",
       "    <tr>\n",
       "      <th>25%</th>\n",
       "      <td>2.000000</td>\n",
       "      <td>0.600000</td>\n",
       "      <td>8.800000</td>\n",
       "      <td>330.000000</td>\n",
       "      <td>50.000000</td>\n",
       "      <td>55.000000</td>\n",
       "      <td>50.000000</td>\n",
       "      <td>50.000000</td>\n",
       "      <td>50.000000</td>\n",
       "      <td>45.000000</td>\n",
       "    </tr>\n",
       "    <tr>\n",
       "      <th>50%</th>\n",
       "      <td>4.000000</td>\n",
       "      <td>1.000000</td>\n",
       "      <td>28.500000</td>\n",
       "      <td>455.000000</td>\n",
       "      <td>66.500000</td>\n",
       "      <td>76.000000</td>\n",
       "      <td>70.000000</td>\n",
       "      <td>65.000000</td>\n",
       "      <td>70.000000</td>\n",
       "      <td>65.000000</td>\n",
       "    </tr>\n",
       "    <tr>\n",
       "      <th>75%</th>\n",
       "      <td>6.000000</td>\n",
       "      <td>1.500000</td>\n",
       "      <td>69.100000</td>\n",
       "      <td>510.000000</td>\n",
       "      <td>80.000000</td>\n",
       "      <td>100.000000</td>\n",
       "      <td>90.000000</td>\n",
       "      <td>95.000000</td>\n",
       "      <td>90.000000</td>\n",
       "      <td>90.000000</td>\n",
       "    </tr>\n",
       "    <tr>\n",
       "      <th>max</th>\n",
       "      <td>8.000000</td>\n",
       "      <td>100.000000</td>\n",
       "      <td>999.900000</td>\n",
       "      <td>1125.000000</td>\n",
       "      <td>255.000000</td>\n",
       "      <td>190.000000</td>\n",
       "      <td>250.000000</td>\n",
       "      <td>194.000000</td>\n",
       "      <td>250.000000</td>\n",
       "      <td>180.000000</td>\n",
       "    </tr>\n",
       "  </tbody>\n",
       "</table>\n",
       "</div>"
      ],
      "text/plain": [
       "        generation     height_m    weight_kg        total           hp  \\\n",
       "count  1028.000000  1028.000000  1027.000000  1028.000000  1028.000000   \n",
       "mean      4.034047     1.368093    69.753749   437.533074    69.577821   \n",
       "std       2.234937     3.380126   129.221230   121.641715    26.385849   \n",
       "min       1.000000     0.100000     0.100000   175.000000     1.000000   \n",
       "25%       2.000000     0.600000     8.800000   330.000000    50.000000   \n",
       "50%       4.000000     1.000000    28.500000   455.000000    66.500000   \n",
       "75%       6.000000     1.500000    69.100000   510.000000    80.000000   \n",
       "max       8.000000   100.000000   999.900000  1125.000000   255.000000   \n",
       "\n",
       "            attack      defense        spatk        spdef        speed  \n",
       "count  1028.000000  1028.000000  1028.000000  1028.000000  1028.000000  \n",
       "mean     80.109922    74.465953    72.722763    72.122568    68.534047  \n",
       "std      32.352799    31.281363    32.656156    28.058406    29.802103  \n",
       "min       5.000000     5.000000    10.000000    20.000000     5.000000  \n",
       "25%      55.000000    50.000000    50.000000    50.000000    45.000000  \n",
       "50%      76.000000    70.000000    65.000000    70.000000    65.000000  \n",
       "75%     100.000000    90.000000    95.000000    90.000000    90.000000  \n",
       "max     190.000000   250.000000   194.000000   250.000000   180.000000  "
      ]
     },
     "execution_count": 40,
     "metadata": {},
     "output_type": "execute_result"
    }
   ],
   "source": [
    "dfPokemon.describe()"
   ]
  }
 ],
 "metadata": {
  "colab": {
   "include_colab_link": true,
   "name": "Projeto 1 - Processamento de dados.ipynb",
   "provenance": [],
   "toc_visible": true
  },
  "kernelspec": {
   "display_name": "Python 3",
   "language": "python",
   "name": "python3"
  },
  "language_info": {
   "codemirror_mode": {
    "name": "ipython",
    "version": 3
   },
   "file_extension": ".py",
   "mimetype": "text/x-python",
   "name": "python",
   "nbconvert_exporter": "python",
   "pygments_lexer": "ipython3",
   "version": "3.8.3"
  }
 },
 "nbformat": 4,
 "nbformat_minor": 1
}
